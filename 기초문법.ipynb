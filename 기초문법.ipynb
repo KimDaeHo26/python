{
 "cells": [
  {
   "cell_type": "markdown",
   "metadata": {},
   "source": [
    "# 아래 링크를 통해 주피터 노트북 뷰어(nbviewer.jupyter.org)로 보거나 구글 코랩(colab.research.google.com)에서 실행할 수 있음\n",
    "\n",
    "<table class=\"tfo-notebook-buttons\" align=\"left\">\n",
    "  <td td bgcolor=\"yellow\"> \n",
    "    <a target=\"_blank\" href=\"https://nbviewer.jupyter.org/github/KimDaeHo26/python/blob/main/기초문법.ipynb\"><img src=\"https://jupyter.org/assets/main-logo.svg\" width=\"28\" />주피터 노트북 뷰어로 보기</a>\n",
    "\n",
    "  </td>\n",
    "  <td width = 30 td bgcolor=\"white\">&nbsp;</td>\n",
    "  <td td bgcolor=\"yellow\"> \n",
    "    <a target=\"_blank\" href=\"https://colab.research.google.com/github/KimDaeHo26/python/blob/main/기초문법.ipynb\"><img src=\"https://www.tensorflow.org/images/colab_logo_32px.png\" />구글 코랩(Colab)에서 실행하기</a>\n",
    "  </td>\n",
    "</table>"
   ]
  },
  {
   "cell_type": "markdown",
   "metadata": {},
   "source": [
    "## print 함수\n",
    "화면에 표시 해 줌"
   ]
  },
  {
   "cell_type": "code",
   "execution_count": 4,
   "metadata": {},
   "outputs": [
    {
     "name": "stdout",
     "output_type": "stream",
     "text": [
      "kdh\n"
     ]
    }
   ],
   "source": [
    "print('kdh')"
   ]
  },
  {
   "cell_type": "code",
   "execution_count": 5,
   "metadata": {},
   "outputs": [
    {
     "name": "stdout",
     "output_type": "stream",
     "text": [
      "kdh -- abc\n"
     ]
    }
   ],
   "source": [
    "print('kdh','abc', sep=' -- ')  # sep 구분자"
   ]
  },
  {
   "cell_type": "code",
   "execution_count": 6,
   "metadata": {},
   "outputs": [
    {
     "name": "stdout",
     "output_type": "stream",
     "text": [
      "kdh123\n",
      "456\n"
     ]
    }
   ],
   "source": [
    "print('kdh', end='')            # end 종료문자 : 기본값은 행넘김(\\n)\n",
    "print('123')\n",
    "print('456')"
   ]
  },
  {
   "cell_type": "code",
   "execution_count": 40,
   "metadata": {
    "scrolled": true
   },
   "outputs": [
    {
     "name": "stdout",
     "output_type": "stream",
     "text": [
      "실수 1.123\n",
      "정수 1\n",
      "스트링 abc\n",
      "여러개 : 정수 1 , 실수 1.234\n",
      "포멧 : 123, mon\n"
     ]
    }
   ],
   "source": [
    "print(\"실수 %5.3f\" % 1.123456)\n",
    "print(\"정수 %d\" % 1.123456)\n",
    "print(\"스트링 %s\" % 'abc')\n",
    "print(\"여러개 : 정수 %d , 실수 %1.3f\" % (1.1234, 1.2345))\n",
    "print(\"포멧 : {}, {day}\".format(123, day='mon'))"
   ]
  },
  {
   "cell_type": "markdown",
   "metadata": {},
   "source": [
    "## help 도움말 보기"
   ]
  },
  {
   "cell_type": "code",
   "execution_count": 139,
   "metadata": {
    "scrolled": false
   },
   "outputs": [
    {
     "name": "stdout",
     "output_type": "stream",
     "text": [
      "Help on built-in function print in module builtins:\n",
      "\n",
      "print(...)\n",
      "    print(value, ..., sep=' ', end='\\n', file=sys.stdout, flush=False)\n",
      "    \n",
      "    Prints the values to a stream, or to sys.stdout by default.\n",
      "    Optional keyword arguments:\n",
      "    file:  a file-like object (stream); defaults to the current sys.stdout.\n",
      "    sep:   string inserted between values, default a space.\n",
      "    end:   string appended after the last value, default a newline.\n",
      "    flush: whether to forcibly flush the stream.\n",
      "\n"
     ]
    }
   ],
   "source": [
    "help(print)"
   ]
  },
  {
   "cell_type": "markdown",
   "metadata": {},
   "source": [
    "## type 함수\n",
    "데이터 및 object 형식을 리턴해 줌"
   ]
  },
  {
   "cell_type": "code",
   "execution_count": 16,
   "metadata": {},
   "outputs": [
    {
     "name": "stdout",
     "output_type": "stream",
     "text": [
      "<class 'str'>\n",
      "<class 'int'>\n",
      "<class 'float'>\n",
      "<class 'builtin_function_or_method'>\n"
     ]
    }
   ],
   "source": [
    "print(type('kdh')) \n",
    "print(type(12)) \n",
    "print(type(12.5)) \n",
    "print(type(print))"
   ]
  },
  {
   "cell_type": "markdown",
   "metadata": {},
   "source": [
    "## 숫자형"
   ]
  },
  {
   "cell_type": "code",
   "execution_count": 13,
   "metadata": {},
   "outputs": [
    {
     "name": "stdout",
     "output_type": "stream",
     "text": [
      "1.5\n"
     ]
    }
   ],
   "source": [
    "a = 1\n",
    "b = 2\n",
    "c = (a + b) / 2  # 숫자형의 경우 계산 함\n",
    "print(c)"
   ]
  },
  {
   "cell_type": "markdown",
   "metadata": {},
   "source": [
    "## 문자형"
   ]
  },
  {
   "cell_type": "code",
   "execution_count": 18,
   "metadata": {},
   "outputs": [
    {
     "name": "stdout",
     "output_type": "stream",
     "text": [
      "abcde123\n"
     ]
    }
   ],
   "source": [
    "a = 'abcde'\n",
    "b = '123'\n",
    "c = a + b     # 문자형의 경우 스트링을 연결해줌\n",
    "print(c)"
   ]
  },
  {
   "cell_type": "code",
   "execution_count": 19,
   "metadata": {},
   "outputs": [
    {
     "name": "stdout",
     "output_type": "stream",
     "text": [
      "abcdeabcdeabcdeabcdeabcdeabcdeabcdeabcdeabcdeabcde\n"
     ]
    }
   ],
   "source": [
    "a = 'abcde'\n",
    "print(a*10) # 문자형에 곱샘을 할경우 반복 회수 임"
   ]
  },
  {
   "cell_type": "code",
   "execution_count": 20,
   "metadata": {},
   "outputs": [
    {
     "name": "stdout",
     "output_type": "stream",
     "text": [
      "C:\\some\n",
      "ame\n",
      "C:\\some\\name\n"
     ]
    }
   ],
   "source": [
    "print('C:\\some\\name') # \\n 은 개행문자임\n",
    "print(r'C:\\some\\name') # r을 넣어 주면 개행문자로 인식하지 않음"
   ]
  },
  {
   "cell_type": "markdown",
   "metadata": {},
   "source": [
    "## 문자열 인덱싱"
   ]
  },
  {
   "cell_type": "code",
   "execution_count": 27,
   "metadata": {},
   "outputs": [
    {
     "name": "stdout",
     "output_type": "stream",
     "text": [
      "5\n",
      "a\n",
      "c\n",
      "e\n",
      "d\n"
     ]
    }
   ],
   "source": [
    "a = 'abcde'\n",
    "print(len(a)) # 문자열길이\n",
    "print(a[0])  # 1번재 문자\n",
    "print(a[2])  # 3번재 문자\n",
    "print(a[-1]) # 1뒤에서 1번재 문자\n",
    "print(a[-2]) # 1뒤에서 2번재 문자"
   ]
  },
  {
   "cell_type": "markdown",
   "metadata": {},
   "source": [
    "## 문자열 슬라이싱"
   ]
  },
  {
   "cell_type": "code",
   "execution_count": 30,
   "metadata": {
    "scrolled": true
   },
   "outputs": [
    {
     "name": "stdout",
     "output_type": "stream",
     "text": [
      "bc\n",
      "abcde\n",
      "cde\n",
      "ace\n",
      "edcba\n"
     ]
    }
   ],
   "source": [
    "a = 'abcde'\n",
    "print(a[1:3]) # 2번째 부터 3번째 문자까지\n",
    "print(a[:]) # 전체\n",
    "print(a[2:]) # 3번째 문자부터\n",
    "print(a[::2]) # 전체에서 2자리씩 건너 띄워서\n",
    "print(a[::-1]) # 전체에서 -1자리씩 건너 띄워서 : 즉 역순으로 출력됨\n",
    "\n",
    "# +---+---+---+---+---+---+\n",
    "# | P | y | t | h | o | n |\n",
    "# +---+---+---+---+---+---+\n",
    "#   0   1   2   3   4   5   \n",
    "#  -6  -5  -4  -3  -2  -1"
   ]
  },
  {
   "cell_type": "markdown",
   "metadata": {},
   "source": [
    "## 문자열관련 함수"
   ]
  },
  {
   "cell_type": "code",
   "execution_count": 66,
   "metadata": {
    "scrolled": true
   },
   "outputs": [
    {
     "name": "stdout",
     "output_type": "stream",
     "text": [
      "문자열길이 :  5\n",
      "문자개수 : 3\n",
      "문자위치 : c 위치 2,  d 위치 -1\n",
      "문자\",\"삽입 : a,b,c,b,b\n",
      "대문자로 HI\n",
      "소문자로 hi\n",
      "공백지우기: aa\n",
      "문자열바꾸기: aacd\n",
      "문자열나누기: ['aa', 'b', 'cc']\n",
      "정수형인가?: True\n"
     ]
    }
   ],
   "source": [
    "a = 'abcbb'\n",
    "print('문자열길이 : ',len(a)) \n",
    "print('문자개수 :', a.count('b'))\n",
    "print('문자위치 : c 위치 {},  d 위치 {}'.format( a.find('c'), a.find('d')))\n",
    "print('문자\",\"삽입 :', ','.join(a))\n",
    "print('대문자로', 'hi'.upper())\n",
    "print('소문자로', 'HI'.lower())\n",
    "print('공백지우기:', '  aa  '.strip())\n",
    "print('문자열바꾸기:', 'abcd'.replace('b','a'))\n",
    "print('문자열나누기:', 'aa,b,cc'.split(','))\n",
    "b = '123'\n",
    "print('정수형인가?:', b.isnumeric()) "
   ]
  },
  {
   "cell_type": "markdown",
   "metadata": {},
   "source": [
    "## 형변환"
   ]
  },
  {
   "cell_type": "code",
   "execution_count": 69,
   "metadata": {
    "scrolled": true
   },
   "outputs": [
    {
     "name": "stdout",
     "output_type": "stream",
     "text": [
      "<class 'int'> <class 'str'> <class 'int'> <class 'float'>\n"
     ]
    }
   ],
   "source": [
    "a = 10\n",
    "b = str(a)   # 문자형으로 변환\n",
    "c = int(b)   # 정수형으로\n",
    "d = float(c) # 실수형으로\n",
    "print(type(a),type(b), type(c), type(d)) "
   ]
  },
  {
   "cell_type": "markdown",
   "metadata": {},
   "source": [
    "## Lists 형"
   ]
  },
  {
   "cell_type": "code",
   "execution_count": 76,
   "metadata": {},
   "outputs": [
    {
     "name": "stdout",
     "output_type": "stream",
     "text": [
      "타입: <class 'list'>\n",
      "1번째 값: 1\n",
      "2번째 부터 4번째 까지: [4, 9, 16]\n",
      "역순: [25, 16, 9, 4, 1]\n",
      "[1, 5, 9, 'b', 16, 25, 30]\n",
      "[1, 5, 'b', 16, 25, 30]\n"
     ]
    }
   ],
   "source": [
    "a = [1, 4, 9, 16, 25]\n",
    "print('타입:', type(a))\n",
    "print('1번째 값:', a[0])\n",
    "print('2번째 부터 4번째 까지:', a[1:4]) \n",
    "print('역순:', a[::-1])\n",
    "a[1] = 5 # 2번째 값을 5로 변경\n",
    "a.insert(3,'b') # 4번째에 'b' 를 추가\n",
    "a.append(30) # 마지막에 30을 추가\n",
    "print(a)\n",
    "del a[2] # 3번재 값을 삭제\n",
    "print(a)"
   ]
  },
  {
   "cell_type": "markdown",
   "metadata": {},
   "source": [
    "## tuple 형 : 고정형으로 값 변경 안됨"
   ]
  },
  {
   "cell_type": "code",
   "execution_count": 79,
   "metadata": {
    "scrolled": true
   },
   "outputs": [
    {
     "name": "stdout",
     "output_type": "stream",
     "text": [
      "타입: <class 'tuple'>\n",
      "(1, 4, 9, 16, 25)\n"
     ]
    }
   ],
   "source": [
    "a = (1,2,3,4,5)\n",
    "print('타입:', type(a))\n",
    "b = [1, 4, 9, 16, 25]\n",
    "a = tuple(b) # lists 형을  tuple 형으로\n",
    "print(a)"
   ]
  },
  {
   "cell_type": "markdown",
   "metadata": {},
   "source": [
    "## Dictionaries 형"
   ]
  },
  {
   "cell_type": "code",
   "execution_count": 83,
   "metadata": {},
   "outputs": [
    {
     "name": "stdout",
     "output_type": "stream",
     "text": [
      "타입 <class 'dict'>\n",
      "key 가 'jack'인 것의 값: 4098\n",
      "dict_keys(['jack', 'sape', 'irv'])\n",
      "True\n",
      "{'jack': 4098, 'sape': 4139, 'irv': 4127}\n"
     ]
    }
   ],
   "source": [
    "a = {'jack': 4098, 'sape': 4139}\n",
    "print('타입',type(a))\n",
    "print(\"key 가 'jack'인 것의 값:\", a['jack']) \n",
    "a['irv'] = 4127 # key 가 'irv'의 값을 넣어줌\n",
    "print(a.keys()) # key 리스트\n",
    "print('jack' in a) # 'jack' 이 딕셔너리에 있는지?\n",
    "print(a)"
   ]
  },
  {
   "cell_type": "markdown",
   "metadata": {},
   "source": [
    "## if 문"
   ]
  },
  {
   "cell_type": "code",
   "execution_count": 84,
   "metadata": {},
   "outputs": [
    {
     "name": "stdout",
     "output_type": "stream",
     "text": [
      "Single\n"
     ]
    }
   ],
   "source": [
    "x = 1\n",
    "if x < 0:\n",
    "  x = 0\n",
    "  print ('Negative changed to zero')\n",
    "elif x == 0:\n",
    "  print ('Zero')\n",
    "elif x == 1:\n",
    "  print ('Single')\n",
    "else:\n",
    "  print ('More')"
   ]
  },
  {
   "cell_type": "markdown",
   "metadata": {},
   "source": [
    "## for 문"
   ]
  },
  {
   "cell_type": "code",
   "execution_count": 85,
   "metadata": {},
   "outputs": [
    {
     "name": "stdout",
     "output_type": "stream",
     "text": [
      "cat 3\n",
      "window 6\n",
      "defenestrate 12\n"
     ]
    }
   ],
   "source": [
    "words = ['cat', 'window', 'defenestrate']\n",
    "for w in words:\n",
    "    print (w, len(w))"
   ]
  },
  {
   "cell_type": "markdown",
   "metadata": {},
   "source": [
    "## range() Function"
   ]
  },
  {
   "cell_type": "code",
   "execution_count": 92,
   "metadata": {
    "scrolled": true
   },
   "outputs": [
    {
     "name": "stdout",
     "output_type": "stream",
     "text": [
      "range(10): range(0, 10)\n",
      "list(range(10)): [0, 1, 2, 3, 4, 5, 6, 7, 8, 9]\n",
      "5 부터 10 미만 까지 2 개씩 건너 띄어서 [5, 7, 9]\n",
      "1234\n",
      "2345"
     ]
    }
   ],
   "source": [
    "a = range(10)\n",
    "print('range(10):', a)\n",
    "b = list(a) # list 형으로 변경\n",
    "print('list(range(10)):',b)\n",
    "\n",
    "c = list(range(5,10,2)) # 5 부터 10 미만 까지 2 개씩 건너 띄어서\n",
    "print('5 부터 10 미만 까지 2 개씩 건너 띄어서', c)\n",
    "\n",
    "for i in range(1,5): # 1부터 5 미만 가지 반복\n",
    "    print(i, end=\"\")\n",
    "\n",
    "print(\"\")\n",
    "# for 문 빠져 나감\n",
    "for n in range(2, 10):  # 2 부터 9 까지 반복\n",
    "    if n > 5:  # 5 보다 크면\n",
    "        break  # for 문을 종료 하고 나감\n",
    "    print(n, end=\"\")"
   ]
  },
  {
   "cell_type": "markdown",
   "metadata": {},
   "source": [
    "## 함수 선언"
   ]
  },
  {
   "cell_type": "code",
   "execution_count": 104,
   "metadata": {},
   "outputs": [
    {
     "name": "stdout",
     "output_type": "stream",
     "text": [
      "test(3,\"a\"): 3 a\n",
      "t(2,'b'): 2 b\n",
      "test2(1,2): 3\n",
      "test3(1) : b변수는 기본값 'ddd' : a= 1 b= ddd\n",
      "test3(1,2) : b변수는 넘긴값 2 : a= 1 b= 2\n"
     ]
    }
   ],
   "source": [
    "def test(a, b):\n",
    "    aa, bb = a, b   # 동시에 여러개 셋팅\n",
    "    print(aa,bb)\n",
    "\n",
    "print('test(3,\"a\"): ', end=\"\")\n",
    "test(3,'a')\n",
    "\n",
    "print(\"t(2,'b'): \", end=\"\")\n",
    "t = test    # 함수를 변수에 셋팅 가능\n",
    "t(2,'b')\n",
    "\n",
    "def test2(a,b):\n",
    "    return(a+b) # 값을 돌려줌\n",
    "\n",
    "print('test2(1,2):', test2(1,2))\n",
    "\n",
    "def test3(a, b='ddd'):\n",
    "    print('a=', a,'b=', b)\n",
    "\n",
    "print(\"test3(1) : b변수는 기본값 'ddd' : \", end=\"\")\n",
    "test3(1)\n",
    "print(\"test3(1,2) : b변수는 넘긴값 2 : \", end=\"\")\n",
    "test3(1,2)"
   ]
  },
  {
   "cell_type": "markdown",
   "metadata": {},
   "source": [
    "## return 값이 여러개 일때"
   ]
  },
  {
   "cell_type": "code",
   "execution_count": 142,
   "metadata": {},
   "outputs": [
    {
     "name": "stdout",
     "output_type": "stream",
     "text": [
      "3, 8\n",
      "Help on function test4 in module __main__:\n",
      "\n",
      "test4(a, b)\n",
      "    help 함수로 도움말을 보여 줄수 있음 \n",
      "    리턴값이 2개 임\n",
      "\n"
     ]
    }
   ],
   "source": [
    "def test4(a, b):\n",
    "    \"\"\" help 함수로 도움말을 보여 줄수 있음 \n",
    "        리턴값이 2개 임\n",
    "    \"\"\"\n",
    "    a = a + 1\n",
    "    b = b + 5\n",
    "    return a, b\n",
    "\n",
    "a1, b1 = test4(2,3)\n",
    "print(a1, b1, sep=\", \")\n",
    "help(test4)"
   ]
  },
  {
   "cell_type": "markdown",
   "metadata": {},
   "source": [
    "## 함수에 함수를 파라미터로 넘길수 도 있음"
   ]
  },
  {
   "cell_type": "code",
   "execution_count": 112,
   "metadata": {},
   "outputs": [
    {
     "name": "stdout",
     "output_type": "stream",
     "text": [
      "3\n"
     ]
    }
   ],
   "source": [
    "def t1(a,b):\n",
    "    a = a + b\n",
    "    return a\n",
    "    \n",
    "def t2(tt,a,b):\n",
    "    c = tt(a,b)\n",
    "    return c\n",
    "\n",
    "callback = t1\n",
    "print(t2(callback,1,2))"
   ]
  },
  {
   "cell_type": "markdown",
   "metadata": {},
   "source": [
    "## class 선언"
   ]
  },
  {
   "cell_type": "code",
   "execution_count": 116,
   "metadata": {},
   "outputs": [
    {
     "name": "stdout",
     "output_type": "stream",
     "text": [
      "3.0 -4.5\n",
      "8.5\n"
     ]
    }
   ],
   "source": [
    "class Complex:\n",
    "    def __init__(self, realpart, imagpart):\n",
    "        self.r = realpart\n",
    "        self.i = imagpart\n",
    "\n",
    "    def aaa(self, a):\n",
    "        k = a + self.r + self.i\n",
    "        return k\n",
    "\n",
    "x = Complex(3.0, -4.5)\n",
    "print(x.r, x.i) # 클레스내의 변수에 셋팅 된 값\n",
    "print(x.aaa(10)) # 클래스의 함수 호출"
   ]
  },
  {
   "cell_type": "markdown",
   "metadata": {},
   "source": [
    "## 에러 처리"
   ]
  },
  {
   "cell_type": "code",
   "execution_count": 118,
   "metadata": {},
   "outputs": [
    {
     "name": "stdout",
     "output_type": "stream",
     "text": [
      "unsupported operand type(s) for +: 'int' and 'str'\n",
      "division by zero\n"
     ]
    }
   ],
   "source": [
    "try:\n",
    "    a = 1 + 'a'\n",
    "except TypeError as e:\n",
    "    print (e)\n",
    "\n",
    "try:\n",
    "    a = 1/0\n",
    "except ZeroDivisionError as e:\n",
    "    print(e)"
   ]
  },
  {
   "cell_type": "markdown",
   "metadata": {},
   "source": [
    "## *args  파라미터 갯수가 유동적일때"
   ]
  },
  {
   "cell_type": "code",
   "execution_count": 119,
   "metadata": {
    "scrolled": true
   },
   "outputs": [
    {
     "name": "stdout",
     "output_type": "stream",
     "text": [
      "a \n",
      "a b \n"
     ]
    }
   ],
   "source": [
    "def test(*args):\n",
    "    for x in args:\n",
    "        print(x, end=' ')\n",
    "        \n",
    "test('a')\n",
    "print('')\n",
    "test('a','b')\n",
    "print('') "
   ]
  },
  {
   "cell_type": "markdown",
   "metadata": {},
   "source": [
    "## **kwargs  key, value 쌍으로 갯수가 유동적일때"
   ]
  },
  {
   "cell_type": "code",
   "execution_count": 122,
   "metadata": {},
   "outputs": [
    {
     "name": "stdout",
     "output_type": "stream",
     "text": [
      "my is kkk\n",
      "you is aaa\n"
     ]
    }
   ],
   "source": [
    "def test2(**kwargs):\n",
    "    for key, value in kwargs.items():\n",
    "        print(\"{0} is {1}\".format(key, value))\n",
    "\n",
    "test2(my='kkk', you='aaa')\n"
   ]
  },
  {
   "cell_type": "markdown",
   "metadata": {},
   "source": [
    "##  *args, ***kwargs 중복사용"
   ]
  },
  {
   "cell_type": "code",
   "execution_count": 129,
   "metadata": {},
   "outputs": [
    {
     "name": "stdout",
     "output_type": "stream",
     "text": [
      "args :  a b \n",
      "kwargs:my is kkk\n",
      "존재\n",
      "args :  a b \n",
      "kwargs:kk is kkk\n",
      "미존재\n"
     ]
    }
   ],
   "source": [
    "def test3(*args, **kwargs):\n",
    "    print('args : ', end=\" \")\n",
    "    for x in args:\n",
    "        print(x, end=' ')\n",
    "        \n",
    "    print('\\nkwargs:', end=\"\")\n",
    "    for key, value in kwargs.items():\n",
    "        print(\"{0} is {1}\".format(key, value))\n",
    "        if 'my' in kwargs.keys():\n",
    "            print('존재')\n",
    "        else : \n",
    "            print('미존재')\n",
    "        \n",
    "test3('a','b', my='kkk')\n",
    "test3('a','b', kk='kkk')"
   ]
  },
  {
   "cell_type": "markdown",
   "metadata": {},
   "source": [
    "## 이하 참고 사항 : 언더스코어(underscore, _)\n",
    "<pre>\n",
    " 인터프리터(Interpreter)에서 마지막 값을 저장할 때\n",
    " 값을 무시하고 싶을 때 (흔히 “I don’t care\"라고 부른다.)\n",
    " 변수나 함수명에 특별한 의미 또는 기능을 부여하고자 할 때\n",
    " 국제화(Internationalization, i18n)/지역화(Localization, l10n) 함수로써 사용할 때\n",
    " 숫자 리터럴값의 자릿수 구분을 위한 구분자로써 사용할 때"
   ]
  },
  {
   "cell_type": "markdown",
   "metadata": {},
   "source": [
    "## 1. 인터프리터에서 사용되는 경우\n",
    "<pre>\n",
    ">>> 10\n",
    "10\n",
    ">>> _\n",
    "10\n",
    ">>> _ * 3\n",
    "30\n",
    ">>> _ * 20\n",
    "600"
   ]
  },
  {
   "cell_type": "markdown",
   "metadata": {},
   "source": [
    "## 2. 값을 무시하고 싶은 경우"
   ]
  },
  {
   "cell_type": "code",
   "execution_count": 130,
   "metadata": {},
   "outputs": [
    {
     "name": "stdout",
     "output_type": "stream",
     "text": [
      "a a a a a a a a a a "
     ]
    }
   ],
   "source": [
    "# 언패킹시 특정값을 무시\n",
    "x, _, y = (1, 2, 3) # x = 1, y = 3\n",
    "\n",
    "# 여러개의 값 무시\n",
    "x, *_, y = (1, 2, 3, 4, 5) # x = 1, y = 5\n",
    "\n",
    "# 인덱스 무시\n",
    "for _ in range(10):\n",
    "   print('a', end=' ')\n",
    " "
   ]
  },
  {
   "cell_type": "markdown",
   "metadata": {},
   "source": [
    "## 3. 특별한 의미의 네이밍을 하는 경우\n",
    "<pre>\n",
    "_single_leading_underscore: 주로 한 모듈 내부에서만 사용하는 private 클래스/함수/변수/메서드를 선언할 때 사용하는 컨벤션이다.\n",
    "이 컨벤션으로 선언하게 되면 from module import *시 _로 시작하는 것들은 모두 임포트에서 무시된다. \n",
    "그러나, 파이썬은 진정한 의미의 private을 지원하고 있지는 않기 때문에 private을 완전히 강제할 수는 없다. \n",
    "즉, 위와 같은 임포트문에서는 무시되지만 직접 가져다 쓰거나 호출을 할 경우엔 사용이 가능하다. \n",
    "그래서 “weak internal use indicator\"라고 부르기도 한다."
   ]
  },
  {
   "cell_type": "code",
   "execution_count": 131,
   "metadata": {},
   "outputs": [],
   "source": [
    "_internal_name = 'one_module' # private 변수\n",
    "_internal_version = '1.0' # private 변수"
   ]
  },
  {
   "cell_type": "code",
   "execution_count": 132,
   "metadata": {},
   "outputs": [],
   "source": [
    "# class _Base: # private 클래스 _hidden_factor = 2 # private 변수\n",
    "def __init__(self, price):\n",
    "    self._price = price\n",
    "\n",
    "def _double_price(self): # private 메서드\n",
    "    return self._price * self._hidden_factor\n",
    "\n",
    "def get_double_price(self):\n",
    "    return self._double_price()"
   ]
  },
  {
   "cell_type": "code",
   "execution_count": 133,
   "metadata": {},
   "outputs": [],
   "source": [
    "# single_trailing_underscore_: 파이썬 키워드와의 충돌을 피하기 위해 사용하는 컨벤션이다. 그리 많이 사용하지는 않을 것이다.\n",
    "def test(a, class_ = None):\n",
    "    return a + class_\n",
    "\n",
    "list_ = test(1,class_=2)  # list와의 충돌을 피함, class와의 충돌을 피함"
   ]
  },
  {
   "cell_type": "markdown",
   "metadata": {},
   "source": [
    "<pre>\n",
    "double_leading_underscores: 이는 컨벤션이라기보단 하나의 문법적인 요소이다. \n",
    "더블 언더스코어는 클래스 속성명을 맹글링하여 클래스간 속성명의 충돌을 방지하기 위한 용도로 사용된다.\n",
    "(맹글링이란, 컴파일러나 인터프리터가 변수/함수명을 그대로 사용하지 않고 일정한 규칙에 의해 변형시키는 것을 말한다.) \n",
    "파이썬의 맹글링 규칙은 더블 언더스코어로 지정된 속성명 앞에 _ClassName을 결합하는 방식이다.\n",
    "즉, ClassName이라는 클래스에서 __method라는 메서드를 선언했다면 이는 _ClassName__method로 맹글링 된다."
   ]
  },
  {
   "cell_type": "code",
   "execution_count": 22,
   "metadata": {
    "scrolled": true
   },
   "outputs": [
    {
     "name": "stdout",
     "output_type": "stream",
     "text": [
      "['_A__double_method', '__class__', '__delattr__', '__dict__', '__dir__', '__doc__', '__eq__', '__format__', '__ge__', '__getattribute__', '__gt__', '__hash__', '__init__', '__init_subclass__', '__le__', '__lt__', '__module__', '__ne__', '__new__', '__reduce__', '__reduce_ex__', '__repr__', '__setattr__', '__sizeof__', '__str__', '__subclasshook__', '__weakref__', '_single_method']\n",
      "['_A__double_method', '_B__double_method', '__class__', '__delattr__', '__dict__', '__dir__', '__doc__', '__eq__', '__format__', '__ge__', '__getattribute__', '__gt__', '__hash__', '__init__', '__init_subclass__', '__le__', '__lt__', '__module__', '__ne__', '__new__', '__reduce__', '__reduce_ex__', '__repr__', '__setattr__', '__sizeof__', '__str__', '__subclasshook__', '__weakref__', '_single_method']\n"
     ]
    }
   ],
   "source": [
    "class A:\n",
    "    def _single_method(self):\n",
    "        pass\n",
    "\n",
    "    def __double_method(self): # 맹글링을 위한 메서드\n",
    "        pass\n",
    "\n",
    "class B(A):\n",
    "    def __double_method(self): # 맹글링을 위한 메서드\n",
    "        pass\n",
    "\n",
    "print(dir(A())) # ['_A__double_method', ..., '_single_method']\n",
    "print(dir(B())) # ['_A__double_method', '_B__double_method', ..., '_single_method']\n",
    "\n",
    "# 서로 같은 이름의 메서드를 가지지만 오버라이드가 되지 않는다."
   ]
  },
  {
   "cell_type": "markdown",
   "metadata": {},
   "source": [
    "<pre>\n",
    "double_leading_and_trailing_underscores__: 스페셜 변수나 메서드(매직 메서드라고도 부른다.)에 사용되는 컨벤션이며, \n",
    "__init__, __len__과 같은 메서드들이 있다. \n",
    "이런 형태의 메서드들은 어떤 특정한 문법적 기능을 제공하거나 특정한 일을 수행한다. \n",
    "가령, __file__은 현재 파이썬 파일의 위치를 나타내는 스페셜 변수이며, \n",
    "__eq__은 a == b라는 식이 수행될 때 실행되는 스페셜 메서드이다. \n",
    "물론 사용자가 직접 만들 수도 있지만 그런 경우는 정말 거의 없으며, 일부 스페셜 메서드의 경우 직접 수정하거나 하는 일은 빈번히 있을 수 있다. \n",
    "__init__의 경우 클래스의 인스턴스가 생성될 때 처음으로 실행되는 메서드인데 인스턴스의 초기화 작업을 이 메서드의 내용으로 작성할 수 있다."
   ]
  },
  {
   "cell_type": "code",
   "execution_count": 135,
   "metadata": {},
   "outputs": [],
   "source": [
    "class A:\n",
    "    def __init__(self, a): # 스페셜 메서드 __init__에서 초기화 작업을 한다.\n",
    "        self.a = a"
   ]
  },
  {
   "cell_type": "code",
   "execution_count": 25,
   "metadata": {
    "scrolled": true
   },
   "outputs": [],
   "source": [
    "# print(__file__)  # 현재파일 ex) C:/pythonProject1/test.py"
   ]
  },
  {
   "cell_type": "code",
   "execution_count": 136,
   "metadata": {},
   "outputs": [
    {
     "name": "stdout",
     "output_type": "stream",
     "text": [
      "1000000\n",
      "240\n",
      "305441741\n"
     ]
    }
   ],
   "source": [
    "dec_base = 1_000_000\n",
    "bin_base = 0b_1111_0000\n",
    "hex_base = 0x_1234_abcd\n",
    "\n",
    "print(dec_base) # 1000000\n",
    "print(bin_base) # 240\n",
    "print(hex_base) # 3"
   ]
  }
 ],
 "metadata": {
  "kernelspec": {
   "display_name": "Python 3",
   "language": "python",
   "name": "python3"
  },
  "language_info": {
   "codemirror_mode": {
    "name": "ipython",
    "version": 3
   },
   "file_extension": ".py",
   "mimetype": "text/x-python",
   "name": "python",
   "nbconvert_exporter": "python",
   "pygments_lexer": "ipython3",
   "version": "3.8.5"
  }
 },
 "nbformat": 4,
 "nbformat_minor": 4
}
