{
 "cells": [
  {
   "cell_type": "markdown",
   "metadata": {},
   "source": [
    "**아래 링크를 통해 주피터 노트북 뷰어(nbviewer.jupyter.org)로 보거나 구글 코랩(colab.research.google.com)에서 실행할 수 있음**\n",
    "\n",
    "<pre>\n",
    "<a target=\"_blank\" href=\"https://nbviewer.jupyter.org/github/KimDaeHo26/python/blob/main/pandas.ipynb\"><img src=\"https://jupyter.org/assets/main-logo.svg\" width=\"28\" />주피터 노트북 뷰어로 보기</a>\n",
    "<a target=\"_blank\" href=\"https://colab.research.google.com/github/KimDaeHo26/python/blob/main/pandas.ipynb\"><img src=\"https://www.tensorflow.org/images/colab_logo_32px.png\" />구글 코랩(Colab)에서 실행하기</a>\n",
    "</pre>"
   ]
  },
  {
   "cell_type": "markdown",
   "metadata": {},
   "source": [
    "# pandas"
   ]
  },
  {
   "cell_type": "code",
   "execution_count": 1,
   "metadata": {
    "scrolled": true
   },
   "outputs": [
    {
     "name": "stdout",
     "output_type": "stream",
     "text": [
      "1.1.3\n"
     ]
    }
   ],
   "source": [
    "import pandas as pd\n",
    "print(pd.__version__)"
   ]
  },
  {
   "cell_type": "markdown",
   "metadata": {},
   "source": [
    "## Series"
   ]
  },
  {
   "cell_type": "code",
   "execution_count": 2,
   "metadata": {
    "scrolled": true
   },
   "outputs": [
    {
     "name": "stdout",
     "output_type": "stream",
     "text": [
      "0    5\n",
      "1    3\n",
      "2    4\n",
      "3    9\n",
      "dtype: int64\n",
      "\n",
      " values => [5 3 4 9]\n",
      "\n",
      " index => RangeIndex(start=0, stop=4, step=1)\n",
      "\n",
      " dtypes => int64\n"
     ]
    }
   ],
   "source": [
    "# Series는 1차원 배열, Data Frame은 2차원 배열과 유사\n",
    "s1 = pd.Series([5, 3, 4, 9]) # list 사용\n",
    "print(s1)\n",
    "print('\\n values =>', s1.values)  \n",
    "print('\\n index =>', s1.index)  \n",
    "print('\\n dtypes =>', s1.dtypes)"
   ]
  },
  {
   "cell_type": "code",
   "execution_count": 3,
   "metadata": {
    "scrolled": true
   },
   "outputs": [
    {
     "name": "stdout",
     "output_type": "stream",
     "text": [
      "Index(['p', 'e', 's', 'v'], dtype='object')\n"
     ]
    }
   ],
   "source": [
    "s2 = pd.Series([5, 3, 4, 9], index=['p', 'e', 's', 'v'])  # index 직접 부여\n",
    "print(s2.index)"
   ]
  },
  {
   "cell_type": "code",
   "execution_count": 4,
   "metadata": {},
   "outputs": [
    {
     "name": "stdout",
     "output_type": "stream",
     "text": [
      "math     95\n",
      "lang     80\n",
      "phys    100\n",
      "chem     90\n",
      "dtype: int64\n"
     ]
    }
   ],
   "source": [
    "s3 = pd.Series({'math': 95, 'lang': 80, 'phys': 100, 'chem': 90})  # 딕셔너리 이용\n",
    "print(s3)"
   ]
  },
  {
   "cell_type": "code",
   "execution_count": 5,
   "metadata": {},
   "outputs": [
    {
     "name": "stdout",
     "output_type": "stream",
     "text": [
      "biol      NaN\n",
      "comp      NaN\n",
      "math     95.0\n",
      "phys    100.0\n",
      "dtype: float64\n"
     ]
    }
   ],
   "source": [
    "# 인덱스를 새롭게 부여하는 경우, 기존에 있던 인덱스는 값을 동일하게 가지지만, 새롭게 추가된 인덱스의 경우 값이 NaN으로 부여됨.\n",
    "print(pd.Series(s3, index=['biol', 'comp', 'math', 'phys']))"
   ]
  },
  {
   "cell_type": "code",
   "execution_count": 6,
   "metadata": {},
   "outputs": [
    {
     "name": "stdout",
     "output_type": "stream",
     "text": [
      "Subject\n",
      "math     95\n",
      "lang     80\n",
      "phys    100\n",
      "chem     90\n",
      "Name: Scores, dtype: int64\n"
     ]
    }
   ],
   "source": [
    "# 이름부여\n",
    "s3.name = 'Scores'\n",
    "s3.index.name = 'Subject'\n",
    "print(s3)"
   ]
  },
  {
   "cell_type": "code",
   "execution_count": 7,
   "metadata": {
    "scrolled": true
   },
   "outputs": [
    {
     "name": "stdout",
     "output_type": "stream",
     "text": [
      "a    1\n",
      "b    2\n",
      "c    3\n",
      "d    4\n",
      "dtype: int64\n",
      " index 를 통해 값 가져옴 : s['a']  =>  1\n",
      " index 를 통해 값 가져옴 : s.loc['b']  =>  2\n",
      " index 를 통해 값 가져옴 : s.c  =>  3\n",
      " 인덱스 위치를 통해 가져옴 2번째 : s[1]  =>  2\n",
      " 인덱스 위치를 통해 가져옴 3번째 : s.iloc[2]  =>  3\n",
      " 인덱스 위치를 통해 가져옴 1~2번째 : s[1:3]  => \n",
      " b    2\n",
      "c    3\n",
      "dtype: int64\n"
     ]
    }
   ],
   "source": [
    "s = pd.Series([1, 2, 3, 4], index=['a', 'b', 'c', 'd'])\n",
    "\n",
    "print(s)\n",
    "print(\" index 를 통해 값 가져옴 : s['a']  => \", s['a'])     # 인덱스 값(key)으로\n",
    "print(\" index 를 통해 값 가져옴 : s.loc['b']  => \", s.loc['b']) # 인덱스 값(key)으로\n",
    "print(\" index 를 통해 값 가져옴 : s.c  => \", s.c)        # 인덱스 값(key)으로\n",
    "print(\" 인덱스 위치를 통해 가져옴 2번째 : s[1]  => \", s[1])         # 인덱스 위치를 통해 \n",
    "print(\" 인덱스 위치를 통해 가져옴 3번째 : s.iloc[2]  => \", s.iloc[2])     # 인덱스 위치를 통해 엑세스\n",
    "print(\" 인덱스 위치를 통해 가져옴 1~2번째 : s[1:3]  => \\n\", s[1:3])      # 인덱스 위치를 통해 "
   ]
  },
  {
   "cell_type": "code",
   "execution_count": 8,
   "metadata": {},
   "outputs": [
    {
     "name": "stdout",
     "output_type": "stream",
     "text": [
      "3 이상인지?: s>=3  => \n",
      " a    False\n",
      "b    False\n",
      "c     True\n",
      "d     True\n",
      "dtype: bool\n",
      "\n",
      " 3 이상인것만: s[s>=3]  => \n",
      " c    3\n",
      "d    4\n",
      "dtype: int64\n"
     ]
    }
   ],
   "source": [
    "#논리형 인덱싱\n",
    "s = pd.Series([1, 2, 3, 4], index=['a', 'b', 'c', 'd'])\n",
    "print('3 이상인지?: s>=3  => \\n', s>=3)\n",
    "print('\\n 3 이상인것만: s[s>=3]  => \\n', s[s>=3])"
   ]
  },
  {
   "cell_type": "code",
   "execution_count": 9,
   "metadata": {
    "scrolled": true
   },
   "outputs": [
    {
     "name": "stdout",
     "output_type": "stream",
     "text": [
      "index => Index(['a', 'b', 'c', 'd'], dtype='object')\n",
      "index 재무여 => Index(['d', 'b', 'c', 'a'], dtype='object')\n",
      "index 재무여 => Index(['d', 'c', 'b', 'a'], dtype='object')\n",
      "순서만바뀜 => 2 2 2\n"
     ]
    }
   ],
   "source": [
    "s = pd.Series([1, 2, 3, 4], index=['a', 'b', 'c', 'd'])\n",
    "print('index =>', s.index)\n",
    "s1 = s.reindex(['d', 'b', 'c', 'a'])\n",
    "print('index 재무여 =>', s1.index)\n",
    "s2 = pd.Series(s, index=['d', 'c', 'b', 'a'])\n",
    "print('index 재무여 =>', s2.index)\n",
    "print('순서만바뀜 =>', s.b, s1.b, s2.b)"
   ]
  },
  {
   "cell_type": "code",
   "execution_count": 10,
   "metadata": {
    "scrolled": true
   },
   "outputs": [
    {
     "name": "stdout",
     "output_type": "stream",
     "text": [
      "s  => [1 2 3 4]\n",
      "reindex 인덱스추가 => [ 1.  2.  3.  4. nan nan]\n",
      "reindex fill_value=100  => [  1   2   3   4 100 100]\n"
     ]
    }
   ],
   "source": [
    "#NaN 값이 생기지 않게 하기 위해서 fill_value를 사용\n",
    "s = pd.Series([1, 2, 3, 4], index=['a', 'b', 'c', 'd'])\n",
    "s1 = s.reindex(['a', 'b', 'c', 'd', 'e', 'f'])\n",
    "s2 = s.reindex(['a', 'b', 'c', 'd', 'e', 'f'], fill_value=100)\n",
    "print('s  =>', s.values)\n",
    "print('reindex 인덱스추가 =>', s1.values)\n",
    "print('reindex fill_value=100  =>', s2.values)"
   ]
  },
  {
   "cell_type": "code",
   "execution_count": 11,
   "metadata": {},
   "outputs": [
    {
     "name": "stdout",
     "output_type": "stream",
     "text": [
      "원본 =>\n",
      " 0    a\n",
      "2    b\n",
      "4    c\n",
      "dtype: object\n",
      "\n",
      " reindex 인덱스추가 =>\n",
      " 0      a\n",
      "1    NaN\n",
      "2      b\n",
      "3    NaN\n",
      "4      c\n",
      "5    NaN\n",
      "dtype: object\n",
      "\n",
      " reindex 이전값넣어줌: method='ffill'  => \n",
      " 0    a\n",
      "1    a\n",
      "2    b\n",
      "3    b\n",
      "4    c\n",
      "5    c\n",
      "dtype: object\n"
     ]
    }
   ],
   "source": [
    "s = pd.Series(['a', 'b', 'c'], index=[0, 2, 4])\n",
    "s1 = s.reindex([0, 1, 2, 3, 4, 5])\n",
    "s2 = s.reindex([0, 1, 2, 3, 4, 5], method='ffill') # NaN 값이 아닌 이전 값을 가지게 하기 위해 method='ffill'을 사용\n",
    "\n",
    "print('원본 =>\\n', s,)\n",
    "print('\\n reindex 인덱스추가 =>\\n', s1)\n",
    "print(\"\\n reindex 이전값넣어줌: method='ffill'  => \\n\", s2) "
   ]
  },
  {
   "cell_type": "markdown",
   "metadata": {},
   "source": [
    "# pandas Dataframe"
   ]
  },
  {
   "cell_type": "code",
   "execution_count": 12,
   "metadata": {
    "scrolled": false
   },
   "outputs": [
    {
     "name": "stdout",
     "output_type": "stream",
     "text": [
      "DataFrame =>\n",
      "    0  1  2\n",
      "0  1  2  3\n",
      "1  4  5  6\n",
      "2  7  8  9\n",
      "values =>\n",
      " [[1 2 3]\n",
      " [4 5 6]\n",
      " [7 8 9]]\n",
      "index => RangeIndex(start=0, stop=3, step=1)\n"
     ]
    }
   ],
   "source": [
    "df = pd.DataFrame([[1, 2, 3], [4, 5, 6], [7, 8, 9]])\n",
    "print('DataFrame =>\\n', df)\n",
    "print('values =>\\n', df.values)\n",
    "print('index =>', df.index)"
   ]
  },
  {
   "cell_type": "code",
   "execution_count": 13,
   "metadata": {
    "scrolled": true
   },
   "outputs": [
    {
     "name": "stdout",
     "output_type": "stream",
     "text": [
      "원본: df: =>\n",
      "    0  1  2\n",
      "0  a  b  c\n",
      "1  4  5  6\n",
      "2  7  8  9\n",
      "\n",
      " 두번째컬럼: df[1]: =>\n",
      " 0    b\n",
      "1    5\n",
      "2    8\n",
      "Name: 1, dtype: object\n",
      "\n",
      " 두번째컬럼의 세번째 : df[1][2]:  => 8\n",
      "\n",
      " 첫번째줄: list(df.iloc[0]) : => ['a', 'b', 'c']\n"
     ]
    }
   ],
   "source": [
    "df = pd.DataFrame([['a', 'b', 'c'], [4, 5, 6], [7, 8, 9]])\n",
    "print('원본: df: =>\\n', df)\n",
    "print('\\n 두번째컬럼: df[1]: =>\\n', df[1])\n",
    "print('\\n 두번째컬럼의 세번째 : df[1][2]:  =>', df[1][2])\n",
    "print('\\n 첫번째줄: list(df.iloc[0]) : =>', list(df.iloc[0]))"
   ]
  },
  {
   "cell_type": "markdown",
   "metadata": {},
   "source": [
    "## 딕셔너리 이용"
   ]
  },
  {
   "cell_type": "code",
   "execution_count": 14,
   "metadata": {},
   "outputs": [
    {
     "name": "stdout",
     "output_type": "stream",
     "text": [
      "  subject  score  students\n",
      "0    math    100        94\n",
      "1    comp     90        32\n",
      "2    phys     85        83\n",
      "3    chem     95        17\n"
     ]
    }
   ],
   "source": [
    "data = {'subject' : ['math', 'comp', 'phys', 'chem'],\n",
    "       'score': [100, 90, 85, 95],\n",
    "       'students': [94, 32, 83, 17]}\n",
    "df = pd.DataFrame(data)\n",
    "print(df)"
   ]
  },
  {
   "cell_type": "code",
   "execution_count": 15,
   "metadata": {},
   "outputs": [
    {
     "name": "stdout",
     "output_type": "stream",
     "text": [
      "컬럼리스트: df.columns => Index(['subject', 'score', 'students'], dtype='object')\n",
      "총항목개수: df.size =>  12\n",
      "차원수: df.ndim => 2\n",
      "항목개수: df.shape => (4, 3)\n",
      "컬럼별항목개수: df.count() =>\n",
      " subject     4\n",
      "score       4\n",
      "students    4\n",
      "dtype: int64\n"
     ]
    }
   ],
   "source": [
    "print('컬럼리스트: df.columns =>', df.columns)\n",
    "print('총항목개수: df.size => ', df.size)\n",
    "print('차원수: df.ndim =>', df.ndim)\n",
    "print('항목개수: df.shape =>', df.shape)\n",
    "print('컬럼별항목개수: df.count() =>\\n', df.count())"
   ]
  },
  {
   "cell_type": "code",
   "execution_count": 16,
   "metadata": {
    "scrolled": true
   },
   "outputs": [
    {
     "name": "stdout",
     "output_type": "stream",
     "text": [
      "<class 'pandas.core.frame.DataFrame'>\n",
      "RangeIndex: 4 entries, 0 to 3\n",
      "Data columns (total 3 columns):\n",
      " #   Column    Non-Null Count  Dtype \n",
      "---  ------    --------------  ----- \n",
      " 0   subject   4 non-null      object\n",
      " 1   score     4 non-null      int64 \n",
      " 2   students  4 non-null      int64 \n",
      "dtypes: int64(2), object(1)\n",
      "memory usage: 224.0+ bytes\n"
     ]
    }
   ],
   "source": [
    "# 요약정보 \n",
    "df.info()"
   ]
  },
  {
   "cell_type": "code",
   "execution_count": 17,
   "metadata": {},
   "outputs": [
    {
     "data": {
      "text/html": [
       "<div>\n",
       "<style scoped>\n",
       "    .dataframe tbody tr th:only-of-type {\n",
       "        vertical-align: middle;\n",
       "    }\n",
       "\n",
       "    .dataframe tbody tr th {\n",
       "        vertical-align: top;\n",
       "    }\n",
       "\n",
       "    .dataframe thead th {\n",
       "        text-align: right;\n",
       "    }\n",
       "</style>\n",
       "<table border=\"1\" class=\"dataframe\">\n",
       "  <thead>\n",
       "    <tr style=\"text-align: right;\">\n",
       "      <th></th>\n",
       "      <th>score</th>\n",
       "      <th>students</th>\n",
       "    </tr>\n",
       "  </thead>\n",
       "  <tbody>\n",
       "    <tr>\n",
       "      <th>count</th>\n",
       "      <td>4.000000</td>\n",
       "      <td>4.000000</td>\n",
       "    </tr>\n",
       "    <tr>\n",
       "      <th>mean</th>\n",
       "      <td>92.500000</td>\n",
       "      <td>56.500000</td>\n",
       "    </tr>\n",
       "    <tr>\n",
       "      <th>std</th>\n",
       "      <td>6.454972</td>\n",
       "      <td>37.722672</td>\n",
       "    </tr>\n",
       "    <tr>\n",
       "      <th>min</th>\n",
       "      <td>85.000000</td>\n",
       "      <td>17.000000</td>\n",
       "    </tr>\n",
       "    <tr>\n",
       "      <th>25%</th>\n",
       "      <td>88.750000</td>\n",
       "      <td>28.250000</td>\n",
       "    </tr>\n",
       "    <tr>\n",
       "      <th>50%</th>\n",
       "      <td>92.500000</td>\n",
       "      <td>57.500000</td>\n",
       "    </tr>\n",
       "    <tr>\n",
       "      <th>75%</th>\n",
       "      <td>96.250000</td>\n",
       "      <td>85.750000</td>\n",
       "    </tr>\n",
       "    <tr>\n",
       "      <th>max</th>\n",
       "      <td>100.000000</td>\n",
       "      <td>94.000000</td>\n",
       "    </tr>\n",
       "  </tbody>\n",
       "</table>\n",
       "</div>"
      ],
      "text/plain": [
       "            score   students\n",
       "count    4.000000   4.000000\n",
       "mean    92.500000  56.500000\n",
       "std      6.454972  37.722672\n",
       "min     85.000000  17.000000\n",
       "25%     88.750000  28.250000\n",
       "50%     92.500000  57.500000\n",
       "75%     96.250000  85.750000\n",
       "max    100.000000  94.000000"
      ]
     },
     "execution_count": 17,
     "metadata": {},
     "output_type": "execute_result"
    }
   ],
   "source": [
    "# 요약정보\n",
    "df.describe()"
   ]
  },
  {
   "cell_type": "code",
   "execution_count": 18,
   "metadata": {},
   "outputs": [
    {
     "name": "stdout",
     "output_type": "stream",
     "text": [
      "2개 컬럼만: =>\n",
      "    score  students\n",
      "0    100        94\n",
      "1     90        32\n",
      "2     85        83\n",
      "3     95        17\n"
     ]
    }
   ],
   "source": [
    "df1 = pd.DataFrame(df, columns=['score', 'students'])\n",
    "print('2개 컬럼만: =>\\n', df1)"
   ]
  },
  {
   "cell_type": "code",
   "execution_count": 19,
   "metadata": {
    "scrolled": true
   },
   "outputs": [
    {
     "name": "stdout",
     "output_type": "stream",
     "text": [
      "콜론 기호이용 행과 값을 동시에 지정: =>\n",
      "    math  comp\n",
      "1  94.0    48\n",
      "2  82.0    83\n",
      "3   NaN    43\n"
     ]
    }
   ],
   "source": [
    "# 콜론 기호를 이용하여 행과 값을 동시에 지정\n",
    "z = {'math': {1:94, 2:82},\n",
    "    'comp': {1:48, 3:43, 2:83}}\n",
    "\n",
    "print('콜론 기호이용 행과 값을 동시에 지정: =>\\n', pd.DataFrame(z))"
   ]
  },
  {
   "cell_type": "code",
   "execution_count": 20,
   "metadata": {
    "scrolled": true
   },
   "outputs": [
    {
     "name": "stdout",
     "output_type": "stream",
     "text": [
      "numpy array 이용:=>\n",
      "              a   b   c   d\n",
      "2021-01-14  19  94  71  59\n",
      "2021-01-15  71   9  68  91\n",
      "2021-01-16  91  78  65  27\n",
      "2021-01-17  32  27  88  51\n",
      "2021-01-18  82  61  24  30\n",
      "2021-01-19  38  31  61  17\n"
     ]
    }
   ],
   "source": [
    "import numpy as np\n",
    "a = pd.DataFrame(np.random.randint(0, 100, (6, 4)))\n",
    "a.columns = ['a', 'b', 'c', 'd']\n",
    "a.index = pd.date_range('20210114', periods=6)\n",
    "\n",
    "print('numpy array 이용:=>\\n', a)"
   ]
  },
  {
   "cell_type": "code",
   "execution_count": 21,
   "metadata": {
    "scrolled": true
   },
   "outputs": [
    {
     "name": "stdout",
     "output_type": "stream",
     "text": [
      "인덱스 직접부여:=>\n",
      "       subject  score  students class\n",
      "one      math    100        94   NaN\n",
      "two      comp     90        32   NaN\n",
      "three    phys     85        83   NaN\n",
      "four     chem     95        17   NaN\n"
     ]
    }
   ],
   "source": [
    "data = {'subject' : ['math', 'comp', 'phys', 'chem'],\n",
    "       'score': [100, 90, 85, 95],\n",
    "       'students': [94, 32, 83, 17]}\n",
    "df = pd.DataFrame(data, columns = ['subject', 'score', 'students', 'class'],\n",
    "                index = ['one', 'two', 'three', 'four'])\n",
    "\n",
    "print('인덱스 직접부여:=>\\n', df)"
   ]
  },
  {
   "cell_type": "code",
   "execution_count": 22,
   "metadata": {
    "scrolled": true
   },
   "outputs": [
    {
     "name": "stdout",
     "output_type": "stream",
     "text": [
      "컬럼리스트:df.columns=> Index(['subject', 'score', 'students', 'class'], dtype='object')\n",
      "인덱스리스트:df.index=> Index(['one', 'two', 'three', 'four'], dtype='object')\n",
      "keys:df.keys()=> Index(['subject', 'score', 'students', 'class'], dtype='object')\n",
      "총항목개수:df.size=> 16\n",
      "차원수:df.ndim=> 2\n",
      "항목개수:df.shape=> (4, 4)\n",
      "컬럼별항목개수:df.count()=>\n",
      " subject     4\n",
      "score       4\n",
      "students    4\n",
      "class       0\n",
      "dtype: int64\n"
     ]
    }
   ],
   "source": [
    "print('컬럼리스트:df.columns=>', df.columns)\n",
    "print('인덱스리스트:df.index=>', df.index)\n",
    "print('keys:df.keys()=>', df.keys())\n",
    "print('총항목개수:df.size=>', df.size)\n",
    "print('차원수:df.ndim=>',df.ndim)\n",
    "print('항목개수:df.shape=>',df.shape)\n",
    "print('컬럼별항목개수:df.count()=>\\n', df.count())"
   ]
  },
  {
   "cell_type": "code",
   "execution_count": 23,
   "metadata": {},
   "outputs": [
    {
     "name": "stdout",
     "output_type": "stream",
     "text": [
      "columns 를 통해 값 가져옴 :df[\"score\"] =>\n",
      " one      100\n",
      "two       90\n",
      "three     85\n",
      "four      95\n",
      "Name: score, dtype: int64\n",
      "\n",
      " columns 를 통해 값 가져옴 :df.score =>\n",
      " one      100\n",
      "two       90\n",
      "three     85\n",
      "four      95\n",
      "Name: score, dtype: int64\n",
      "\n",
      " index 를 통해 값 가져옴 :df.loc[\"one\"] =>\n",
      " subject     math\n",
      "score        100\n",
      "students      94\n",
      "class        NaN\n",
      "Name: one, dtype: object\n",
      "\n",
      " index 위치를 통해 가져옴 3번째 :df.iloc[2] =>\n",
      " subject     phys\n",
      "score         85\n",
      "students      83\n",
      "class        NaN\n",
      "Name: three, dtype: object\n",
      "\n",
      " index 위치를 통해 가져옴 1~2번째 :df[1:3] =>\n",
      "       subject  score  students class\n",
      "two      comp     90        32   NaN\n",
      "three    phys     85        83   NaN\n",
      "\n",
      " 위치를 통해 가져옴 1~2줄, 1~2컬럼 : => df.iloc[0:2, 0:2]\n",
      "     subject  score\n",
      "one    math    100\n",
      "two    comp     90\n"
     ]
    }
   ],
   "source": [
    "print('columns 를 통해 값 가져옴 :df[\"score\"] =>\\n', df['score'])     # columns 값으로\n",
    "print('\\n columns 를 통해 값 가져옴 :df.score =>\\n', df.score)          # columns 값으로 \n",
    "print('\\n index 를 통해 값 가져옴 :df.loc[\"one\"] =>\\n', df.loc['one']) # index 값으로\n",
    "print('\\n index 위치를 통해 가져옴 3번째 :df.iloc[2] =>\\n', df.iloc[2])     # 인덱스 위치를 통해 엑세스\n",
    "print('\\n index 위치를 통해 가져옴 1~2번째 :df[1:3] =>\\n', df[1:3])      # 인덱스 위치를 통해 \n",
    "print(\"\\n 위치를 통해 가져옴 1~2줄, 1~2컬럼 : => df.iloc[0:2, 0:2]\\n\",df.iloc[0:2, 0:2]) "
   ]
  },
  {
   "cell_type": "code",
   "execution_count": 24,
   "metadata": {
    "scrolled": false
   },
   "outputs": [
    {
     "name": "stdout",
     "output_type": "stream",
     "text": [
      "score 가 90 초과인지?: df.score > 90 =>\n",
      " one       True\n",
      "two      False\n",
      "three    False\n",
      "four      True\n",
      "Name: score, dtype: bool\n",
      "\n",
      " score 가 90 초과인 것만: df[df.score > 90] =>\n",
      "      subject  score  students class\n",
      "one     math    100        94   NaN\n",
      "four    chem     95        17   NaN\n",
      "\n",
      " score 가 90 초과인 것의 2개 컬럼: df.loc[df['score'] > 90, ['subject', 'students']] =>\n",
      "      subject  students\n",
      "one     math        94\n",
      "four    chem        17\n"
     ]
    }
   ],
   "source": [
    "print('score 가 90 초과인지?: df.score > 90 =>\\n', df.score > 90)\n",
    "print('\\n score 가 90 초과인 것만: df[df.score > 90] =>\\n', df[df.score > 90])\n",
    "\n",
    "print(\"\\n score 가 90 초과인 것의 2개 컬럼: df.loc[df['score'] > 90, ['subject', 'students']] =>\\n\", df.loc[df['score'] > 90, ['subject', 'students']]) "
   ]
  },
  {
   "cell_type": "code",
   "execution_count": 25,
   "metadata": {
    "scrolled": true
   },
   "outputs": [
    {
     "name": "stdout",
     "output_type": "stream",
     "text": [
      "index 이름 : df.loc[\"one\"] =>\n",
      " subject     math\n",
      "score        100\n",
      "students      94\n",
      "class        NaN\n",
      "Name: one, dtype: object\n",
      "\n",
      "index 이름, columns 이름: df.loc[\"two\", \"subject\"]  =>\n",
      " comp\n",
      "\n",
      "index 이름, columns 범위: df.loc['three', 'subject':'students'] =>\n",
      " subject     phys\n",
      "score         85\n",
      "students      83\n",
      "Name: three, dtype: object\n"
     ]
    }
   ],
   "source": [
    "print('index 이름 : df.loc[\"one\"] =>\\n', df.loc['one'])   # loc[index 이름] \n",
    "print('\\nindex 이름, columns 이름: df.loc[\"two\", \"subject\"]  =>\\n', df.loc['two', 'subject'])   # loc[index 이름, columns 이름]\n",
    "print(\"\\nindex 이름, columns 범위: df.loc['three', 'subject':'students'] =>\\n\", df.loc['three', 'subject':'students'])   # loc[index 이름, columns 범위]"
   ]
  },
  {
   "cell_type": "code",
   "execution_count": 26,
   "metadata": {
    "scrolled": true
   },
   "outputs": [
    {
     "name": "stdout",
     "output_type": "stream",
     "text": [
      "Index(['one', 'two', 'three', 'four'], dtype='object')\n",
      "two\n",
      "['comp' 90 32 nan]\n"
     ]
    }
   ],
   "source": [
    "print(df.index)\n",
    "print(df.iloc[1].name)\n",
    "print(df.iloc[1].values)"
   ]
  },
  {
   "cell_type": "code",
   "execution_count": 27,
   "metadata": {
    "scrolled": true
   },
   "outputs": [
    {
     "name": "stdout",
     "output_type": "stream",
     "text": [
      "  subject  score  students\n",
      "0    math    100        87\n",
      "1    comp     95        39\n",
      "2    phys     80        50\n",
      "3    chem     90        72\n",
      "  subject  score  students class\n",
      "0    math    100        87   NaN\n",
      "1    comp     95        39   NaN\n",
      "2    phys     80        50   NaN\n",
      "3    chem     90        72   NaN\n",
      "  subject1  score1  students1 class1\n",
      "0     math     100         87    NaN\n",
      "1     comp      95         39    NaN\n",
      "2     phys      80         50    NaN\n",
      "3     chem      90         72    NaN\n"
     ]
    }
   ],
   "source": [
    "# 컬럼명 재부여\n",
    "data = {'subject' : ['math', 'comp', 'phys', 'chem'],\n",
    "       'score': [100, 95, 80, 90],\n",
    "       'students': [87, 39, 50, 72]}\n",
    "\n",
    "df1 = pd.DataFrame(data)\n",
    "df2 = pd.DataFrame(data, columns = ['subject', 'score', 'students', 'class'])\n",
    "df3 = df2.copy()\n",
    "df3.columns = ['subject1', 'score1', 'students1', 'class1']\n",
    "print(df1)\n",
    "print(df2)\n",
    "print(df3)"
   ]
  },
  {
   "cell_type": "code",
   "execution_count": 28,
   "metadata": {
    "scrolled": false
   },
   "outputs": [
    {
     "data": {
      "text/html": [
       "<div>\n",
       "<style scoped>\n",
       "    .dataframe tbody tr th:only-of-type {\n",
       "        vertical-align: middle;\n",
       "    }\n",
       "\n",
       "    .dataframe tbody tr th {\n",
       "        vertical-align: top;\n",
       "    }\n",
       "\n",
       "    .dataframe thead th {\n",
       "        text-align: right;\n",
       "    }\n",
       "</style>\n",
       "<table border=\"1\" class=\"dataframe\">\n",
       "  <thead>\n",
       "    <tr style=\"text-align: right;\">\n",
       "      <th></th>\n",
       "      <th>subject</th>\n",
       "      <th>score</th>\n",
       "      <th>students</th>\n",
       "    </tr>\n",
       "  </thead>\n",
       "  <tbody>\n",
       "    <tr>\n",
       "      <th>0</th>\n",
       "      <td>math</td>\n",
       "      <td>100.0</td>\n",
       "      <td>87.0</td>\n",
       "    </tr>\n",
       "    <tr>\n",
       "      <th>1</th>\n",
       "      <td>comp</td>\n",
       "      <td>95.0</td>\n",
       "      <td>39.0</td>\n",
       "    </tr>\n",
       "    <tr>\n",
       "      <th>2</th>\n",
       "      <td>phys</td>\n",
       "      <td>80.0</td>\n",
       "      <td>50.0</td>\n",
       "    </tr>\n",
       "    <tr>\n",
       "      <th>3</th>\n",
       "      <td>chem</td>\n",
       "      <td>90.0</td>\n",
       "      <td>72.0</td>\n",
       "    </tr>\n",
       "    <tr>\n",
       "      <th>4</th>\n",
       "      <td>biol</td>\n",
       "      <td>70.0</td>\n",
       "      <td>33.0</td>\n",
       "    </tr>\n",
       "    <tr>\n",
       "      <th>fifth</th>\n",
       "      <td>lang</td>\n",
       "      <td>75.0</td>\n",
       "      <td>45.0</td>\n",
       "    </tr>\n",
       "  </tbody>\n",
       "</table>\n",
       "</div>"
      ],
      "text/plain": [
       "      subject  score  students\n",
       "0        math  100.0      87.0\n",
       "1        comp   95.0      39.0\n",
       "2        phys   80.0      50.0\n",
       "3        chem   90.0      72.0\n",
       "4        biol   70.0      33.0\n",
       "fifth    lang   75.0      45.0"
      ]
     },
     "execution_count": 28,
     "metadata": {},
     "output_type": "execute_result"
    }
   ],
   "source": [
    "data2 = pd.DataFrame(data)\n",
    "data2.loc[data2.shape[0]] = ['biol', 70, 33]  # 끝 줄에 데이터 추가\n",
    "data2.loc['fifth', :] = ['lang', 75, 45] # 끝 줄에 데이터 추가\n",
    "data2 "
   ]
  },
  {
   "cell_type": "code",
   "execution_count": 29,
   "metadata": {
    "scrolled": true
   },
   "outputs": [
    {
     "name": "stdout",
     "output_type": "stream",
     "text": [
      "컬럼삭제전 :                           => Index(['subject', 'score', 'students', 'class'], dtype='object')\n",
      "컬럼삭제후 : del df2['students']       => Index(['subject', 'score', 'class'], dtype='object')\n",
      "컬럼삭제후 : df3.drop('score', axis=1) => Index(['subject', 'students', 'class'], dtype='object')\n"
     ]
    }
   ],
   "source": [
    "df = pd.DataFrame(data, columns = ['subject', 'score', 'students', 'class'],\n",
    "                    index=['a', 'b', 'c', 'd'])\n",
    "df2 = df.copy()\n",
    "print(\"컬럼삭제전 :                           =>\", df2.columns)\n",
    "\n",
    "del df2['students']\n",
    "print(\"컬럼삭제후 : del df2['students']       =>\", df2.columns)\n",
    "\n",
    "df3 = df.copy()\n",
    "df4 = df3.drop('score', axis=1)\n",
    "print(\"컬럼삭제후 : df3.drop('score', axis=1) =>\", df4.columns)"
   ]
  },
  {
   "cell_type": "code",
   "execution_count": 30,
   "metadata": {
    "scrolled": true
   },
   "outputs": [
    {
     "name": "stdout",
     "output_type": "stream",
     "text": [
      "  subject  score  students class\n",
      "a    math    100        87   NaN\n",
      "b    comp     95        39   NaN\n",
      "c    phys     80        50   NaN\n",
      "d    chem     90        72   NaN\n",
      "  subject  score  students  class\n",
      "a    math    100        87      1\n",
      "b    comp     95        39      2\n",
      "c    phys     80        50      3\n",
      "d    chem     90        72      4\n"
     ]
    }
   ],
   "source": [
    "data = {'subject' : ['math', 'comp', 'phys', 'chem'],\n",
    "       'score': [100, 95, 80, 90],\n",
    "       'students': [87, 39, 50, 72]}\n",
    "df = pd.DataFrame(data, columns = ['subject', 'score', 'students', 'class'],\n",
    "                    index=['a', 'b', 'c', 'd'])\n",
    "df2 = df.copy()\n",
    "df2['class'] = [1, 2, 3, 4]\n",
    "print(df)\n",
    "print(df2)"
   ]
  },
  {
   "cell_type": "code",
   "execution_count": 31,
   "metadata": {
    "scrolled": true
   },
   "outputs": [
    {
     "name": "stdout",
     "output_type": "stream",
     "text": [
      "  subject  score  students class\n",
      "a    math    100        87   NaN\n",
      "b    comp     95        39   NaN\n",
      "c    phys     80        50   NaN\n",
      "d    chem     90        72   NaN\n",
      "      subject  score  students\n",
      "class                         \n",
      "NaN      math    100        87\n",
      "NaN      comp     95        39\n",
      "NaN      phys     80        50\n",
      "NaN      chem     90        72\n"
     ]
    }
   ],
   "source": [
    "# 인덱크 컬럼 바꿔줌\n",
    "df1 = df.set_index('class')\n",
    "print(df)\n",
    "print(df1)"
   ]
  },
  {
   "cell_type": "code",
   "execution_count": 32,
   "metadata": {},
   "outputs": [
    {
     "data": {
      "text/html": [
       "<div>\n",
       "<style scoped>\n",
       "    .dataframe tbody tr th:only-of-type {\n",
       "        vertical-align: middle;\n",
       "    }\n",
       "\n",
       "    .dataframe tbody tr th {\n",
       "        vertical-align: top;\n",
       "    }\n",
       "\n",
       "    .dataframe thead th {\n",
       "        text-align: right;\n",
       "    }\n",
       "</style>\n",
       "<table border=\"1\" class=\"dataframe\">\n",
       "  <thead>\n",
       "    <tr style=\"text-align: right;\">\n",
       "      <th></th>\n",
       "      <th>class</th>\n",
       "      <th>subject</th>\n",
       "      <th>score</th>\n",
       "      <th>students</th>\n",
       "    </tr>\n",
       "  </thead>\n",
       "  <tbody>\n",
       "    <tr>\n",
       "      <th>0</th>\n",
       "      <td>NaN</td>\n",
       "      <td>math</td>\n",
       "      <td>100</td>\n",
       "      <td>87</td>\n",
       "    </tr>\n",
       "    <tr>\n",
       "      <th>1</th>\n",
       "      <td>NaN</td>\n",
       "      <td>comp</td>\n",
       "      <td>95</td>\n",
       "      <td>39</td>\n",
       "    </tr>\n",
       "    <tr>\n",
       "      <th>2</th>\n",
       "      <td>NaN</td>\n",
       "      <td>phys</td>\n",
       "      <td>80</td>\n",
       "      <td>50</td>\n",
       "    </tr>\n",
       "    <tr>\n",
       "      <th>3</th>\n",
       "      <td>NaN</td>\n",
       "      <td>chem</td>\n",
       "      <td>90</td>\n",
       "      <td>72</td>\n",
       "    </tr>\n",
       "  </tbody>\n",
       "</table>\n",
       "</div>"
      ],
      "text/plain": [
       "   class subject  score  students\n",
       "0    NaN    math    100        87\n",
       "1    NaN    comp     95        39\n",
       "2    NaN    phys     80        50\n",
       "3    NaN    chem     90        72"
      ]
     },
     "execution_count": 32,
     "metadata": {},
     "output_type": "execute_result"
    }
   ],
   "source": [
    "# 인덱스 초기화\n",
    "df1.reset_index()"
   ]
  },
  {
   "cell_type": "code",
   "execution_count": 33,
   "metadata": {
    "scrolled": false
   },
   "outputs": [
    {
     "data": {
      "text/html": [
       "<div>\n",
       "<style scoped>\n",
       "    .dataframe tbody tr th:only-of-type {\n",
       "        vertical-align: middle;\n",
       "    }\n",
       "\n",
       "    .dataframe tbody tr th {\n",
       "        vertical-align: top;\n",
       "    }\n",
       "\n",
       "    .dataframe thead th {\n",
       "        text-align: right;\n",
       "    }\n",
       "</style>\n",
       "<table border=\"1\" class=\"dataframe\">\n",
       "  <thead>\n",
       "    <tr style=\"text-align: right;\">\n",
       "      <th></th>\n",
       "      <th>subject</th>\n",
       "      <th>score</th>\n",
       "      <th>students</th>\n",
       "      <th>class</th>\n",
       "    </tr>\n",
       "  </thead>\n",
       "  <tbody>\n",
       "    <tr>\n",
       "      <th>a</th>\n",
       "      <td>math</td>\n",
       "      <td>100</td>\n",
       "      <td>87</td>\n",
       "      <td>5.0</td>\n",
       "    </tr>\n",
       "    <tr>\n",
       "      <th>b</th>\n",
       "      <td>comp</td>\n",
       "      <td>95</td>\n",
       "      <td>39</td>\n",
       "      <td>6.0</td>\n",
       "    </tr>\n",
       "    <tr>\n",
       "      <th>c</th>\n",
       "      <td>phys</td>\n",
       "      <td>80</td>\n",
       "      <td>50</td>\n",
       "      <td>NaN</td>\n",
       "    </tr>\n",
       "    <tr>\n",
       "      <th>d</th>\n",
       "      <td>chem</td>\n",
       "      <td>90</td>\n",
       "      <td>72</td>\n",
       "      <td>7.0</td>\n",
       "    </tr>\n",
       "  </tbody>\n",
       "</table>\n",
       "</div>"
      ],
      "text/plain": [
       "  subject  score  students  class\n",
       "a    math    100        87    5.0\n",
       "b    comp     95        39    6.0\n",
       "c    phys     80        50    NaN\n",
       "d    chem     90        72    7.0"
      ]
     },
     "execution_count": 33,
     "metadata": {},
     "output_type": "execute_result"
    }
   ],
   "source": [
    "# Series 컬럼으로 추가\n",
    "df5 = df.copy()\n",
    "ser2 = pd.Series([5, 6, 7], index=['a', 'b', 'd'])\n",
    "df5['class'] = ser2\n",
    "df5 "
   ]
  },
  {
   "cell_type": "code",
   "execution_count": 34,
   "metadata": {},
   "outputs": [
    {
     "name": "stdout",
     "output_type": "stream",
     "text": [
      "  subject  score  students  class\n",
      "c    phys     80        50    NaN\n",
      "d    chem     90        72    7.0\n",
      "b    comp     95        39    6.0\n",
      "a    math    100        87    5.0\n",
      "  subject  score  students  class\n",
      "a    math    100        87    5.0\n",
      "b    comp     95        39    6.0\n",
      "c    phys     80        50    NaN\n",
      "d    chem     90        72    7.0\n"
     ]
    }
   ],
   "source": [
    "# 정렬\n",
    "df5 = df5.sort_values(\"score\")\n",
    "print(df5)\n",
    "df5 = df5.sort_index() # 인덱스 정렬\n",
    "print(df5)"
   ]
  },
  {
   "cell_type": "code",
   "execution_count": 35,
   "metadata": {
    "scrolled": true
   },
   "outputs": [
    {
     "data": {
      "text/html": [
       "<div>\n",
       "<style scoped>\n",
       "    .dataframe tbody tr th:only-of-type {\n",
       "        vertical-align: middle;\n",
       "    }\n",
       "\n",
       "    .dataframe tbody tr th {\n",
       "        vertical-align: top;\n",
       "    }\n",
       "\n",
       "    .dataframe thead th {\n",
       "        text-align: right;\n",
       "    }\n",
       "</style>\n",
       "<table border=\"1\" class=\"dataframe\">\n",
       "  <thead>\n",
       "    <tr style=\"text-align: right;\">\n",
       "      <th></th>\n",
       "      <th>subject</th>\n",
       "      <th>score</th>\n",
       "      <th>students</th>\n",
       "      <th>class</th>\n",
       "    </tr>\n",
       "  </thead>\n",
       "  <tbody>\n",
       "    <tr>\n",
       "      <th>a</th>\n",
       "      <td>math</td>\n",
       "      <td>100</td>\n",
       "      <td>87</td>\n",
       "      <td>9</td>\n",
       "    </tr>\n",
       "    <tr>\n",
       "      <th>b</th>\n",
       "      <td>comp</td>\n",
       "      <td>95</td>\n",
       "      <td>39</td>\n",
       "      <td>10</td>\n",
       "    </tr>\n",
       "    <tr>\n",
       "      <th>c</th>\n",
       "      <td>phys</td>\n",
       "      <td>80</td>\n",
       "      <td>50</td>\n",
       "      <td>11</td>\n",
       "    </tr>\n",
       "    <tr>\n",
       "      <th>d</th>\n",
       "      <td>chem</td>\n",
       "      <td>90</td>\n",
       "      <td>72</td>\n",
       "      <td>12</td>\n",
       "    </tr>\n",
       "  </tbody>\n",
       "</table>\n",
       "</div>"
      ],
      "text/plain": [
       "  subject  score  students  class\n",
       "a    math    100        87      9\n",
       "b    comp     95        39     10\n",
       "c    phys     80        50     11\n",
       "d    chem     90        72     12"
      ]
     },
     "execution_count": 35,
     "metadata": {},
     "output_type": "execute_result"
    }
   ],
   "source": [
    "df6 = df.copy()\n",
    "ser3 = pd.Series([9, 10, 11, 12], index = df6.index)\n",
    "df6['class'] = ser3\n",
    "df6"
   ]
  },
  {
   "cell_type": "code",
   "execution_count": 36,
   "metadata": {
    "scrolled": true
   },
   "outputs": [
    {
     "data": {
      "text/html": [
       "<div>\n",
       "<style scoped>\n",
       "    .dataframe tbody tr th:only-of-type {\n",
       "        vertical-align: middle;\n",
       "    }\n",
       "\n",
       "    .dataframe tbody tr th {\n",
       "        vertical-align: top;\n",
       "    }\n",
       "\n",
       "    .dataframe thead th {\n",
       "        text-align: right;\n",
       "    }\n",
       "</style>\n",
       "<table border=\"1\" class=\"dataframe\">\n",
       "  <thead>\n",
       "    <tr style=\"text-align: right;\">\n",
       "      <th></th>\n",
       "      <th>subject</th>\n",
       "      <th>score</th>\n",
       "      <th>students</th>\n",
       "      <th>class</th>\n",
       "      <th>pass</th>\n",
       "    </tr>\n",
       "  </thead>\n",
       "  <tbody>\n",
       "    <tr>\n",
       "      <th>a</th>\n",
       "      <td>math</td>\n",
       "      <td>100</td>\n",
       "      <td>87</td>\n",
       "      <td>NaN</td>\n",
       "      <td>True</td>\n",
       "    </tr>\n",
       "    <tr>\n",
       "      <th>b</th>\n",
       "      <td>comp</td>\n",
       "      <td>95</td>\n",
       "      <td>39</td>\n",
       "      <td>NaN</td>\n",
       "      <td>True</td>\n",
       "    </tr>\n",
       "    <tr>\n",
       "      <th>c</th>\n",
       "      <td>phys</td>\n",
       "      <td>80</td>\n",
       "      <td>50</td>\n",
       "      <td>NaN</td>\n",
       "      <td>False</td>\n",
       "    </tr>\n",
       "    <tr>\n",
       "      <th>d</th>\n",
       "      <td>chem</td>\n",
       "      <td>90</td>\n",
       "      <td>72</td>\n",
       "      <td>NaN</td>\n",
       "      <td>True</td>\n",
       "    </tr>\n",
       "  </tbody>\n",
       "</table>\n",
       "</div>"
      ],
      "text/plain": [
       "  subject  score  students class   pass\n",
       "a    math    100        87   NaN   True\n",
       "b    comp     95        39   NaN   True\n",
       "c    phys     80        50   NaN  False\n",
       "d    chem     90        72   NaN   True"
      ]
     },
     "execution_count": 36,
     "metadata": {},
     "output_type": "execute_result"
    }
   ],
   "source": [
    "df7 = df.copy()\n",
    "df7['pass'] = df7.score >= 90\n",
    "df7"
   ]
  },
  {
   "cell_type": "code",
   "execution_count": 37,
   "metadata": {
    "scrolled": false
   },
   "outputs": [
    {
     "data": {
      "text/html": [
       "<div>\n",
       "<style scoped>\n",
       "    .dataframe tbody tr th:only-of-type {\n",
       "        vertical-align: middle;\n",
       "    }\n",
       "\n",
       "    .dataframe tbody tr th {\n",
       "        vertical-align: top;\n",
       "    }\n",
       "\n",
       "    .dataframe thead th {\n",
       "        text-align: right;\n",
       "    }\n",
       "</style>\n",
       "<table border=\"1\" class=\"dataframe\">\n",
       "  <thead>\n",
       "    <tr style=\"text-align: right;\">\n",
       "      <th></th>\n",
       "      <th>subject</th>\n",
       "      <th>score</th>\n",
       "      <th>students</th>\n",
       "      <th>class</th>\n",
       "      <th>average</th>\n",
       "    </tr>\n",
       "  </thead>\n",
       "  <tbody>\n",
       "    <tr>\n",
       "      <th>a</th>\n",
       "      <td>math</td>\n",
       "      <td>100</td>\n",
       "      <td>87</td>\n",
       "      <td>NaN</td>\n",
       "      <td>96.3</td>\n",
       "    </tr>\n",
       "    <tr>\n",
       "      <th>b</th>\n",
       "      <td>comp</td>\n",
       "      <td>95</td>\n",
       "      <td>39</td>\n",
       "      <td>NaN</td>\n",
       "      <td>NaN</td>\n",
       "    </tr>\n",
       "    <tr>\n",
       "      <th>c</th>\n",
       "      <td>phys</td>\n",
       "      <td>80</td>\n",
       "      <td>50</td>\n",
       "      <td>NaN</td>\n",
       "      <td>76.2</td>\n",
       "    </tr>\n",
       "    <tr>\n",
       "      <th>d</th>\n",
       "      <td>chem</td>\n",
       "      <td>90</td>\n",
       "      <td>72</td>\n",
       "      <td>NaN</td>\n",
       "      <td>88.6</td>\n",
       "    </tr>\n",
       "  </tbody>\n",
       "</table>\n",
       "</div>"
      ],
      "text/plain": [
       "  subject  score  students class  average\n",
       "a    math    100        87   NaN     96.3\n",
       "b    comp     95        39   NaN      NaN\n",
       "c    phys     80        50   NaN     76.2\n",
       "d    chem     90        72   NaN     88.6"
      ]
     },
     "execution_count": 37,
     "metadata": {},
     "output_type": "execute_result"
    }
   ],
   "source": [
    "df8 = df.copy()\n",
    "df8['average'] = [96.3, np.nan, 76.2, 88.6]\n",
    "df8"
   ]
  },
  {
   "cell_type": "code",
   "execution_count": 38,
   "metadata": {
    "scrolled": true
   },
   "outputs": [
    {
     "data": {
      "text/html": [
       "<div>\n",
       "<style scoped>\n",
       "    .dataframe tbody tr th:only-of-type {\n",
       "        vertical-align: middle;\n",
       "    }\n",
       "\n",
       "    .dataframe tbody tr th {\n",
       "        vertical-align: top;\n",
       "    }\n",
       "\n",
       "    .dataframe thead th {\n",
       "        text-align: right;\n",
       "    }\n",
       "</style>\n",
       "<table border=\"1\" class=\"dataframe\">\n",
       "  <thead>\n",
       "    <tr style=\"text-align: right;\">\n",
       "      <th></th>\n",
       "      <th>subject</th>\n",
       "      <th>score</th>\n",
       "      <th>students</th>\n",
       "      <th>class</th>\n",
       "      <th>average</th>\n",
       "    </tr>\n",
       "  </thead>\n",
       "  <tbody>\n",
       "  </tbody>\n",
       "</table>\n",
       "</div>"
      ],
      "text/plain": [
       "Empty DataFrame\n",
       "Columns: [subject, score, students, class, average]\n",
       "Index: []"
      ]
     },
     "execution_count": 38,
     "metadata": {},
     "output_type": "execute_result"
    }
   ],
   "source": [
    "# np.nan 값 삭제\n",
    "df8.dropna()"
   ]
  },
  {
   "cell_type": "code",
   "execution_count": 39,
   "metadata": {
    "scrolled": true
   },
   "outputs": [
    {
     "data": {
      "text/html": [
       "<div>\n",
       "<style scoped>\n",
       "    .dataframe tbody tr th:only-of-type {\n",
       "        vertical-align: middle;\n",
       "    }\n",
       "\n",
       "    .dataframe tbody tr th {\n",
       "        vertical-align: top;\n",
       "    }\n",
       "\n",
       "    .dataframe thead th {\n",
       "        text-align: right;\n",
       "    }\n",
       "</style>\n",
       "<table border=\"1\" class=\"dataframe\">\n",
       "  <thead>\n",
       "    <tr style=\"text-align: right;\">\n",
       "      <th></th>\n",
       "      <th>subject</th>\n",
       "      <th>score</th>\n",
       "      <th>students</th>\n",
       "      <th>class</th>\n",
       "      <th>average</th>\n",
       "    </tr>\n",
       "  </thead>\n",
       "  <tbody>\n",
       "    <tr>\n",
       "      <th>a</th>\n",
       "      <td>math</td>\n",
       "      <td>100</td>\n",
       "      <td>87</td>\n",
       "      <td>100.0</td>\n",
       "      <td>96.3</td>\n",
       "    </tr>\n",
       "    <tr>\n",
       "      <th>b</th>\n",
       "      <td>comp</td>\n",
       "      <td>95</td>\n",
       "      <td>39</td>\n",
       "      <td>100.0</td>\n",
       "      <td>100.0</td>\n",
       "    </tr>\n",
       "    <tr>\n",
       "      <th>c</th>\n",
       "      <td>phys</td>\n",
       "      <td>80</td>\n",
       "      <td>50</td>\n",
       "      <td>100.0</td>\n",
       "      <td>76.2</td>\n",
       "    </tr>\n",
       "    <tr>\n",
       "      <th>d</th>\n",
       "      <td>chem</td>\n",
       "      <td>90</td>\n",
       "      <td>72</td>\n",
       "      <td>100.0</td>\n",
       "      <td>88.6</td>\n",
       "    </tr>\n",
       "  </tbody>\n",
       "</table>\n",
       "</div>"
      ],
      "text/plain": [
       "  subject  score  students  class  average\n",
       "a    math    100        87  100.0     96.3\n",
       "b    comp     95        39  100.0    100.0\n",
       "c    phys     80        50  100.0     76.2\n",
       "d    chem     90        72  100.0     88.6"
      ]
     },
     "execution_count": 39,
     "metadata": {},
     "output_type": "execute_result"
    }
   ],
   "source": [
    "# np.nan 값 다른 값으로 \n",
    "df8.fillna(value=100.0) "
   ]
  },
  {
   "cell_type": "markdown",
   "metadata": {},
   "source": [
    "## 연산"
   ]
  },
  {
   "cell_type": "code",
   "execution_count": 40,
   "metadata": {
    "scrolled": true
   },
   "outputs": [
    {
     "name": "stdout",
     "output_type": "stream",
     "text": [
      "0    1\n",
      "1    2\n",
      "2    3\n",
      "3    4\n",
      "dtype: int64\n",
      "0    2\n",
      "1    3\n",
      "2    4\n",
      "3    5\n",
      "dtype: int64\n",
      "0    0\n",
      "1    1\n",
      "2    2\n",
      "3    3\n",
      "dtype: int64\n",
      "0    2\n",
      "1    4\n",
      "2    6\n",
      "3    8\n",
      "dtype: int64\n",
      "0    0.5\n",
      "1    1.0\n",
      "2    1.5\n",
      "3    2.0\n",
      "dtype: float64\n",
      "0    0\n",
      "1    1\n",
      "2    1\n",
      "3    2\n",
      "dtype: int64\n",
      "0    1\n",
      "1    0\n",
      "2    1\n",
      "3    0\n",
      "dtype: int64\n",
      "0     1\n",
      "1     4\n",
      "2     9\n",
      "3    16\n",
      "dtype: int64\n",
      "0     2\n",
      "1     4\n",
      "2     8\n",
      "3    16\n",
      "dtype: int64\n"
     ]
    }
   ],
   "source": [
    "a = pd.Series([1, 2, 3, 4])\n",
    "print(a)\n",
    "print(a+1)\n",
    "print(a-1)\n",
    "print(a*2)\n",
    "print(a/2)\n",
    "print(a//2)\n",
    "print(a%2)\n",
    "print(a**2)\n",
    "print(2**a) "
   ]
  },
  {
   "cell_type": "code",
   "execution_count": 41,
   "metadata": {
    "scrolled": true
   },
   "outputs": [
    {
     "name": "stdout",
     "output_type": "stream",
     "text": [
      "0   NaN\n",
      "1   NaN\n",
      "2   NaN\n",
      "3   NaN\n",
      "a   NaN\n",
      "b   NaN\n",
      "c   NaN\n",
      "d   NaN\n",
      "dtype: float64\n",
      "d    3\n",
      "b    5\n",
      "a    7\n",
      "c    9\n",
      "dtype: int64\n"
     ]
    }
   ],
   "source": [
    "a = pd.Series([2, 3, 4, 5], index=['d', 'b', 'a', 'c'])\n",
    "b = pd.Series([1, 2, 3, 4])\n",
    "print(a+b)\n",
    "a = pd.Series([2, 3, 4, 5], index=['d', 'b', 'a', 'c'])\n",
    "b = pd.Series([1, 2, 3, 4], index=a.index)\n",
    "print(a+b)"
   ]
  },
  {
   "cell_type": "code",
   "execution_count": 42,
   "metadata": {
    "scrolled": false
   },
   "outputs": [
    {
     "name": "stdout",
     "output_type": "stream",
     "text": [
      "c =>\n",
      "math    100\n",
      "comp     95\n",
      "phys     85\n",
      "chem     90\n",
      "dtype: int64\n",
      "d =>\n",
      "math    100.0\n",
      "biol      NaN\n",
      "phys     85.0\n",
      "chem     90.0\n",
      "dtype: float64\n",
      "c+d =>\n",
      "biol      NaN\n",
      "chem    180.0\n",
      "comp      NaN\n",
      "math    200.0\n",
      "phys    170.0\n",
      "dtype: float64\n",
      "c*d =>\n",
      "biol        NaN\n",
      "chem     8100.0\n",
      "comp        NaN\n",
      "math    10000.0\n",
      "phys     7225.0\n",
      "dtype: float64\n"
     ]
    }
   ],
   "source": [
    "import pandas as pd\n",
    "data = {'math': 100, 'comp': 95, 'phys': 85, 'chem': 90}\n",
    "subj = ['math', 'biol', 'phys', 'chem']\n",
    "\n",
    "c = pd.Series(data)\n",
    "d = pd.Series(data, index=subj)\n",
    "\n",
    "print('c =>',c,'d =>',d,'c+d =>',c+d,'c*d =>',c*d,sep=\"\\n\")"
   ]
  },
  {
   "cell_type": "code",
   "execution_count": 43,
   "metadata": {
    "scrolled": true
   },
   "outputs": [
    {
     "name": "stdout",
     "output_type": "stream",
     "text": [
      "   a  b   c   d\n",
      "0  0  1   2   3\n",
      "1  4  5   6   7\n",
      "2  8  9  10  11\n",
      "   a   b   c   d\n",
      "0  1   2   3   4\n",
      "1  5   6   7   8\n",
      "2  9  10  11  12\n",
      "   a  b  c   d\n",
      "0 -1  0  1   2\n",
      "1  3  4  5   6\n",
      "2  7  8  9  10\n",
      "    a   b   c   d\n",
      "0   0   2   4   6\n",
      "1   8  10  12  14\n",
      "2  16  18  20  22\n",
      "     a    b    c    d\n",
      "0  0.0  0.5  1.0  1.5\n",
      "1  2.0  2.5  3.0  3.5\n",
      "2  4.0  4.5  5.0  5.5\n",
      "   a  b  c  d\n",
      "0  0  0  1  1\n",
      "1  2  2  3  3\n",
      "2  4  4  5  5\n",
      "   a  b  c  d\n",
      "0  0  1  0  1\n",
      "1  0  1  0  1\n",
      "2  0  1  0  1\n",
      "    a   b    c    d\n",
      "0   0   1    4    9\n",
      "1  16  25   36   49\n",
      "2  64  81  100  121\n",
      "     a    b     c     d\n",
      "0    1    2     4     8\n",
      "1   16   32    64   128\n",
      "2  256  512  1024  2048\n"
     ]
    }
   ],
   "source": [
    "x = pd.DataFrame(np.arange(12).reshape(3, 4), columns = list('abcd'))\n",
    "print(x)\n",
    "print(x+1)\n",
    "print(x-1)\n",
    "print(x*2)\n",
    "print(x/2)\n",
    "print(x//2)\n",
    "print(x%2)\n",
    "print(x**2)\n",
    "print(2**x) "
   ]
  },
  {
   "cell_type": "code",
   "execution_count": 44,
   "metadata": {
    "scrolled": false
   },
   "outputs": [
    {
     "data": {
      "text/plain": [
       "array([[ 0,  1,  2,  3],\n",
       "       [ 4,  5,  6,  7],\n",
       "       [ 8,  9, 10, 11]])"
      ]
     },
     "execution_count": 44,
     "metadata": {},
     "output_type": "execute_result"
    }
   ],
   "source": [
    "np.arange(12).reshape(3, 4)"
   ]
  },
  {
   "cell_type": "code",
   "execution_count": 45,
   "metadata": {
    "scrolled": true
   },
   "outputs": [
    {
     "data": {
      "text/plain": [
       "array([[ 0,  1,  2],\n",
       "       [ 3,  4,  5],\n",
       "       [ 6,  7,  8],\n",
       "       [ 9, 10, 11]])"
      ]
     },
     "execution_count": 45,
     "metadata": {},
     "output_type": "execute_result"
    }
   ],
   "source": [
    "np.array(list(range(12))).reshape(4,3)"
   ]
  },
  {
   "cell_type": "code",
   "execution_count": 46,
   "metadata": {},
   "outputs": [
    {
     "name": "stdout",
     "output_type": "stream",
     "text": [
      "    a   b   c   d   e\n",
      "0   0   1   2   3   4\n",
      "1   5   6   7   8   9\n",
      "2  10  11  12  13  14\n",
      "3  15  16  17  18  19\n",
      "      a     b     c     d   e\n",
      "0   0.0   2.0   4.0   6.0 NaN\n",
      "1   9.0  11.0  13.0  15.0 NaN\n",
      "2  18.0  20.0  22.0  24.0 NaN\n",
      "3   NaN   NaN   NaN   NaN NaN\n",
      "     a    b    c    d   e\n",
      "0  0.0  0.0  0.0  0.0 NaN\n",
      "1 -1.0 -1.0 -1.0 -1.0 NaN\n",
      "2 -2.0 -2.0 -2.0 -2.0 NaN\n",
      "3  NaN  NaN  NaN  NaN NaN\n",
      "      a     b      c      d   e\n",
      "0   0.0   1.0    4.0    9.0 NaN\n",
      "1  20.0  30.0   42.0   56.0 NaN\n",
      "2  80.0  99.0  120.0  143.0 NaN\n",
      "3   NaN   NaN    NaN    NaN NaN\n"
     ]
    }
   ],
   "source": [
    "x = pd.DataFrame(np.arange(12).reshape(3, 4), columns = list('abcd'))\n",
    "y = pd.DataFrame(np.arange(20).reshape(4, 5), columns = list('abcde'))\n",
    "print(y)\n",
    "print(x+y)\n",
    "print(x-y)\n",
    "print(x*y)"
   ]
  },
  {
   "cell_type": "code",
   "execution_count": 47,
   "metadata": {
    "scrolled": true
   },
   "outputs": [
    {
     "name": "stdout",
     "output_type": "stream",
     "text": [
      "      a   b   c\n",
      "math  0   1   2\n",
      "comp  3   4   5\n",
      "phys  6   7   8\n",
      "chem  9  10  11\n",
      "a    0\n",
      "b    1\n",
      "c    2\n",
      "Name: math, dtype: int32\n",
      "      a   b   c\n",
      "math  0   2   4\n",
      "comp  3   5   7\n",
      "phys  6   8  10\n",
      "chem  9  11  13\n",
      "      a  b  c\n",
      "math  0  0  0\n",
      "comp  3  3  3\n",
      "phys  6  6  6\n",
      "chem  9  9  9\n"
     ]
    }
   ],
   "source": [
    "z = pd.DataFrame(np.arange(12).reshape(4, 3),\n",
    "                columns = list('abc'),\n",
    "                index= ['math', 'comp', 'phys', 'chem'])\n",
    "e = z.iloc[0]\n",
    "\n",
    "print(z)\n",
    "print(e)\n",
    "print(z+e)\n",
    "print(z-e) "
   ]
  },
  {
   "cell_type": "code",
   "execution_count": 48,
   "metadata": {
    "scrolled": true
   },
   "outputs": [
    {
     "name": "stdout",
     "output_type": "stream",
     "text": [
      "      a   b   c\n",
      "math  0   1   2\n",
      "comp  3   4   5\n",
      "phys  6   7   8\n",
      "chem  9  10  11\n",
      "b    0\n",
      "d    1\n",
      "e    2\n",
      "dtype: int64\n",
      "       a     b   c   d   e\n",
      "math NaN   1.0 NaN NaN NaN\n",
      "comp NaN   4.0 NaN NaN NaN\n",
      "phys NaN   7.0 NaN NaN NaN\n",
      "chem NaN  10.0 NaN NaN NaN\n"
     ]
    }
   ],
   "source": [
    "f = pd.Series(range(3), index = list('bde'))\n",
    "print(z)\n",
    "print(f)\n",
    "print(z+f)"
   ]
  },
  {
   "cell_type": "code",
   "execution_count": 49,
   "metadata": {
    "scrolled": true
   },
   "outputs": [
    {
     "name": "stdout",
     "output_type": "stream",
     "text": [
      "   a  b   c   d\n",
      "0  0  1   2   3\n",
      "1  4  5   6   7\n",
      "2  8  9  10  11\n",
      "    a   b   c   d   e\n",
      "0   0   1   2   3   4\n",
      "1   5   6   7   8   9\n",
      "2  10  11  12  13  14\n",
      "3  15  16  17  18  19\n",
      "      a     b     c     d   e\n",
      "0   0.0   2.0   4.0   6.0 NaN\n",
      "1   9.0  11.0  13.0  15.0 NaN\n",
      "2  18.0  20.0  22.0  24.0 NaN\n",
      "3   NaN   NaN   NaN   NaN NaN\n"
     ]
    }
   ],
   "source": [
    "print(x)\n",
    "print(y)\n",
    "print(x.add(y))"
   ]
  },
  {
   "cell_type": "code",
   "execution_count": 50,
   "metadata": {
    "scrolled": false
   },
   "outputs": [
    {
     "name": "stdout",
     "output_type": "stream",
     "text": [
      "       a      b      c      d      e\n",
      "0    0.0    2.0    4.0    6.0  104.0\n",
      "1    9.0   11.0   13.0   15.0  109.0\n",
      "2   18.0   20.0   22.0   24.0  114.0\n",
      "3  115.0  116.0  117.0  118.0  119.0\n"
     ]
    }
   ],
   "source": [
    "print(x.add(y, fill_value=100))"
   ]
  },
  {
   "cell_type": "code",
   "execution_count": 51,
   "metadata": {
    "scrolled": true
   },
   "outputs": [
    {
     "name": "stdout",
     "output_type": "stream",
     "text": [
      "       a      b      c      d      e\n",
      "0    0.0    2.0    4.0    6.0  104.0\n",
      "1    9.0   11.0   13.0   15.0  109.0\n",
      "2   18.0   20.0   22.0   24.0  114.0\n",
      "3  115.0  116.0  117.0  118.0  119.0\n"
     ]
    }
   ],
   "source": [
    "print(y.add(x, fill_value=100))"
   ]
  },
  {
   "cell_type": "code",
   "execution_count": 52,
   "metadata": {
    "scrolled": true
   },
   "outputs": [
    {
     "name": "stdout",
     "output_type": "stream",
     "text": [
      "     a    b    c    d   e\n",
      "0  0.0  0.0  0.0  0.0 NaN\n",
      "1 -1.0 -1.0 -1.0 -1.0 NaN\n",
      "2 -2.0 -2.0 -2.0 -2.0 NaN\n",
      "3  NaN  NaN  NaN  NaN NaN\n",
      "      a     b      c      d   e\n",
      "0   0.0   1.0    4.0    9.0 NaN\n",
      "1  20.0  30.0   42.0   56.0 NaN\n",
      "2  80.0  99.0  120.0  143.0 NaN\n",
      "3   NaN   NaN    NaN    NaN NaN\n",
      "     a         b         c         d   e\n",
      "0  NaN  1.000000  1.000000  1.000000 NaN\n",
      "1  0.8  0.833333  0.857143  0.875000 NaN\n",
      "2  0.8  0.818182  0.833333  0.846154 NaN\n",
      "3  NaN       NaN       NaN       NaN NaN\n",
      "              a             b             c             d   e\n",
      "0  1.000000e+00  1.000000e+00  4.000000e+00  2.700000e+01 NaN\n",
      "1  1.024000e+03  1.562500e+04  2.799360e+05  5.764801e+06 NaN\n",
      "2  1.073742e+09  3.138106e+10  1.000000e+12  3.452271e+13 NaN\n",
      "3           NaN           NaN           NaN           NaN NaN\n",
      "     a    b     c     d   e\n",
      "0  NaN  0.0   0.0   0.0 NaN\n",
      "1  4.0  5.0   6.0   7.0 NaN\n",
      "2  8.0  9.0  10.0  11.0 NaN\n",
      "3  NaN  NaN   NaN   NaN NaN\n"
     ]
    }
   ],
   "source": [
    "print(x.sub(y))\n",
    "print(x.mul(y))\n",
    "print(x.div(y))\n",
    "print(x.pow(y))\n",
    "print(x.mod(y)) "
   ]
  },
  {
   "cell_type": "code",
   "execution_count": 53,
   "metadata": {},
   "outputs": [
    {
     "name": "stdout",
     "output_type": "stream",
     "text": [
      "   a  b   c   d\n",
      "0  0  1   2   3\n",
      "1  4  5   6   7\n",
      "2  8  9  10  11\n",
      "     a    b    c    d\n",
      "0  NaN  NaN  NaN  NaN\n",
      "1  4.0  4.0  4.0  4.0\n",
      "2  4.0  4.0  4.0  4.0\n",
      "     a    b    c    d\n",
      "0  NaN  NaN  NaN  NaN\n",
      "1  4.0  4.0  4.0  4.0\n",
      "2  4.0  4.0  4.0  4.0\n",
      "    a    b    c    d\n",
      "0 NaN  1.0  1.0  1.0\n",
      "1 NaN  1.0  1.0  1.0\n",
      "2 NaN  1.0  1.0  1.0\n"
     ]
    }
   ],
   "source": [
    "print(x)\n",
    "print(x.diff())\n",
    "print(x.diff(axis=0))\n",
    "print(x.diff(axis=1))"
   ]
  },
  {
   "cell_type": "code",
   "execution_count": 54,
   "metadata": {
    "scrolled": true
   },
   "outputs": [
    {
     "name": "stdout",
     "output_type": "stream",
     "text": [
      "   a  b   c   d\n",
      "0  0 -1  -2  -3\n",
      "1 -4 -5  -6  -7\n",
      "2 -8 -9 -10 -11\n",
      "   a  b   c   d\n",
      "0  0  1   2   3\n",
      "1  4  5   6   7\n",
      "2  8  9  10  11\n"
     ]
    }
   ],
   "source": [
    "x = x*(-1)\n",
    "print(x)\n",
    "print(x.abs()) "
   ]
  },
  {
   "cell_type": "markdown",
   "metadata": {},
   "source": [
    "# pandas 통계함수"
   ]
  },
  {
   "cell_type": "code",
   "execution_count": 55,
   "metadata": {
    "scrolled": true
   },
   "outputs": [
    {
     "data": {
      "text/html": [
       "<div>\n",
       "<style scoped>\n",
       "    .dataframe tbody tr th:only-of-type {\n",
       "        vertical-align: middle;\n",
       "    }\n",
       "\n",
       "    .dataframe tbody tr th {\n",
       "        vertical-align: top;\n",
       "    }\n",
       "\n",
       "    .dataframe thead th {\n",
       "        text-align: right;\n",
       "    }\n",
       "</style>\n",
       "<table border=\"1\" class=\"dataframe\">\n",
       "  <thead>\n",
       "    <tr style=\"text-align: right;\">\n",
       "      <th></th>\n",
       "      <th>one</th>\n",
       "      <th>two</th>\n",
       "    </tr>\n",
       "  </thead>\n",
       "  <tbody>\n",
       "    <tr>\n",
       "      <th>a</th>\n",
       "      <td>1.40</td>\n",
       "      <td>NaN</td>\n",
       "    </tr>\n",
       "    <tr>\n",
       "      <th>b</th>\n",
       "      <td>8.30</td>\n",
       "      <td>-2.10</td>\n",
       "    </tr>\n",
       "    <tr>\n",
       "      <th>c</th>\n",
       "      <td>0.02</td>\n",
       "      <td>-1.11</td>\n",
       "    </tr>\n",
       "    <tr>\n",
       "      <th>d</th>\n",
       "      <td>NaN</td>\n",
       "      <td>NaN</td>\n",
       "    </tr>\n",
       "  </tbody>\n",
       "</table>\n",
       "</div>"
      ],
      "text/plain": [
       "    one   two\n",
       "a  1.40   NaN\n",
       "b  8.30 -2.10\n",
       "c  0.02 -1.11\n",
       "d   NaN   NaN"
      ]
     },
     "execution_count": 55,
     "metadata": {},
     "output_type": "execute_result"
    }
   ],
   "source": [
    "import numpy as np\n",
    "data = [[1.4, np.nan],\n",
    "       [8.3, -2.1],\n",
    "       [0.02, -1.11],\n",
    "       [np.nan, np.nan]]\n",
    "x = pd.DataFrame(data, columns=['one', 'two'], index=['a', 'b', 'c', 'd'])\n",
    "x "
   ]
  },
  {
   "cell_type": "code",
   "execution_count": 56,
   "metadata": {
    "scrolled": true
   },
   "outputs": [
    {
     "name": "stdout",
     "output_type": "stream",
     "text": [
      "one    9.72\n",
      "two   -3.21\n",
      "dtype: float64\n",
      "one    9.72\n",
      "two   -3.21\n",
      "dtype: float64\n",
      "a    1.40\n",
      "b    6.20\n",
      "c   -1.09\n",
      "d    0.00\n",
      "dtype: float64\n"
     ]
    }
   ],
   "source": [
    "print(x.sum())\n",
    "print(x.sum(axis=0))\n",
    "print(x.sum(axis=1))"
   ]
  },
  {
   "cell_type": "code",
   "execution_count": 57,
   "metadata": {
    "scrolled": true
   },
   "outputs": [
    {
     "name": "stdout",
     "output_type": "stream",
     "text": [
      "one   NaN\n",
      "two   NaN\n",
      "dtype: float64\n",
      "a     NaN\n",
      "b    6.20\n",
      "c   -1.09\n",
      "d     NaN\n",
      "dtype: float64\n"
     ]
    }
   ],
   "source": [
    "print(x.sum(axis=0, skipna=False))\n",
    "print(x.sum(axis=1, skipna=False))"
   ]
  },
  {
   "cell_type": "code",
   "execution_count": 58,
   "metadata": {
    "scrolled": true
   },
   "outputs": [
    {
     "name": "stdout",
     "output_type": "stream",
     "text": [
      "9.72\n",
      "-1.09\n"
     ]
    }
   ],
   "source": [
    "print(x['one'].sum())\n",
    "print(x.loc['c'].sum())"
   ]
  },
  {
   "cell_type": "code",
   "execution_count": 59,
   "metadata": {
    "scrolled": true
   },
   "outputs": [
    {
     "name": "stdout",
     "output_type": "stream",
     "text": [
      "    one   two\n",
      "a  1.40   NaN\n",
      "b  8.30 -2.10\n",
      "c  0.02 -1.11\n",
      "d   NaN   NaN\n",
      "count 함수는 NaN을 제외한 전체 개수 =>\n",
      " one    3\n",
      "two    2\n",
      "dtype: int64\n",
      "mean 함수는 평균 =>\n",
      " one    3.240\n",
      "two   -1.605\n",
      "dtype: float64\n",
      "median 함수는 중간값 =>\n",
      " one    1.400\n",
      "two   -1.605\n",
      "dtype: float64\n",
      "mad 함수는 absolute deviation의 평균 =>\n",
      " one    3.373333\n",
      "two    0.495000\n",
      "dtype: float64\n"
     ]
    }
   ],
   "source": [
    "print(x)\n",
    "print('count 함수는 NaN을 제외한 전체 개수 =>\\n', x.count())\n",
    "print(\"mean 함수는 평균 =>\\n\", x.mean())\n",
    "print(\"median 함수는 중간값 =>\\n\", x.median())\n",
    "print(\"mad 함수는 absolute deviation의 평균 =>\\n\", x.mad())    "
   ]
  },
  {
   "cell_type": "code",
   "execution_count": 60,
   "metadata": {
    "scrolled": true
   },
   "outputs": [
    {
     "name": "stdout",
     "output_type": "stream",
     "text": [
      "             A   B   C   D\n",
      "2020-01-14  77   6  28  41\n",
      "2020-01-15  45  63  80  25\n",
      "2020-01-16  52  97   0   9\n",
      "2020-01-17  21   7  65  71\n",
      "2020-01-18  80   5  45  45\n",
      "2020-01-19  22  85  82   4\n",
      "상관계수 : corr => \n",
      "           A         B         C         D\n",
      "A  1.000000 -0.411749 -0.565127  0.086255\n",
      "B -0.411749  1.000000 -0.042424 -0.893428\n",
      "C -0.565127 -0.042424  1.000000  0.091068\n",
      "D  0.086255 -0.893428  0.091068  1.000000\n",
      "상관계수 : y['A'].corr(y['B']):=> -0.4117491080365865\n",
      "공분산 : cov => \n",
      "        A            B       C      D\n",
      "A  656.3  -452.100000  -465.0   55.3\n",
      "B -452.1  1836.966667   -58.4 -958.3\n",
      "C -465.0   -58.400000  1031.6   73.2\n",
      "D   55.3  -958.300000    73.2  626.3\n",
      "공분산 : y['A'].cov(y['C']) =>  -465.0\n"
     ]
    }
   ],
   "source": [
    "y = pd.DataFrame(np.random.randint(0, 100, (6, 4)),\n",
    "                columns = list('ABCD'),\n",
    "                index = pd.date_range('20200114', periods=6))\n",
    "print(y)\n",
    "print('상관계수 : corr => \\n', y.corr())\n",
    "print(\"상관계수 : y['A'].corr(y['B']):=>\", y['A'].corr(y['B']))\n",
    "print(\"공분산 : cov => \\n\", y.cov())\n",
    "print(\"공분산 : y['A'].cov(y['C']) => \", y['A'].cov(y['C'])) "
   ]
  },
  {
   "cell_type": "code",
   "execution_count": 61,
   "metadata": {
    "scrolled": true
   },
   "outputs": [
    {
     "name": "stdout",
     "output_type": "stream",
     "text": [
      "             A   B   C   D\n",
      "2020-01-14  77   6  28  41\n",
      "2020-01-15  45  63  80  25\n",
      "2020-01-16  52  97   0   9\n",
      "2020-01-17  21   7  65  71\n",
      "2020-01-18  80   5  45  45\n",
      "2020-01-19  22  85  82   4\n",
      "std는 표준편차 => \n",
      " A    25.618353\n",
      "B    42.859849\n",
      "C    32.118530\n",
      "D    25.025986\n",
      "dtype: float64\n",
      "var은 분산 =>\n",
      " A     656.300000\n",
      "B    1836.966667\n",
      "C    1031.600000\n",
      "D     626.300000\n",
      "dtype: float64\n",
      "min은 최솟값 =>\n",
      " A    21\n",
      "B     5\n",
      "C     0\n",
      "D     4\n",
      "dtype: int32\n",
      "max는 최댓값 =>\n",
      " A    80\n",
      "B    97\n",
      "C    82\n",
      "D    71\n",
      "dtype: int32\n",
      "idxmin은 최솟값의 인덱스 =>\n",
      " A   2020-01-17\n",
      "B   2020-01-18\n",
      "C   2020-01-16\n",
      "D   2020-01-19\n",
      "dtype: datetime64[ns]\n",
      "idxmax는 최댓값의 인덱스 =>\n",
      " A   2020-01-18\n",
      "B   2020-01-16\n",
      "C   2020-01-19\n",
      "D   2020-01-17\n",
      "dtype: datetime64[ns]\n"
     ]
    }
   ],
   "source": [
    "print(y)\n",
    "print(\"std는 표준편차 => \\n\", y.std())\n",
    "print(\"var은 분산 =>\\n\", y.var())\n",
    "print(\"min은 최솟값 =>\\n\", y.min())\n",
    "print(\"max는 최댓값 =>\\n\", y.max())\n",
    "print(\"idxmin은 최솟값의 인덱스 =>\\n\", y.idxmin())\n",
    "print(\"idxmax는 최댓값의 인덱스 =>\\n\", y.idxmax())"
   ]
  },
  {
   "cell_type": "code",
   "execution_count": 62,
   "metadata": {
    "scrolled": true
   },
   "outputs": [
    {
     "name": "stdout",
     "output_type": "stream",
     "text": [
      "quantile은 사분위수 =>\n",
      " A    48.5\n",
      "B    35.0\n",
      "C    55.0\n",
      "D    33.0\n",
      "Name: 0.5, dtype: float64\n",
      "cumsum은 누적합 => \n",
      "               A    B    C    D\n",
      "2020-01-14   77    6   28   41\n",
      "2020-01-15  122   69  108   66\n",
      "2020-01-16  174  166  108   75\n",
      "2020-01-17  195  173  173  146\n",
      "2020-01-18  275  178  218  191\n",
      "2020-01-19  297  263  300  195\n",
      "cumprod는 누적곱 => \n",
      "                      A          B     C          D\n",
      "2020-01-14          77          6    28         41\n",
      "2020-01-15        3465        378  2240       1025\n",
      "2020-01-16      180180      36666     0       9225\n",
      "2020-01-17     3783780     256662     0     654975\n",
      "2020-01-18   302702400    1283310     0   29473875\n",
      "2020-01-19 -1930481792  109081350     0  117895500\n"
     ]
    }
   ],
   "source": [
    "print(\"quantile은 사분위수 =>\\n\", y.quantile())\n",
    "print(\"cumsum은 누적합 => \\n\", y.cumsum())\n",
    "print(\"cumprod는 누적곱 => \\n\", y.cumprod())"
   ]
  },
  {
   "cell_type": "markdown",
   "metadata": {},
   "source": [
    "# pandas의 논리 함수와 기타 유용한 함수"
   ]
  },
  {
   "cell_type": "code",
   "execution_count": 63,
   "metadata": {
    "scrolled": true
   },
   "outputs": [
    {
     "name": "stdout",
     "output_type": "stream",
     "text": [
      "    one   two\n",
      "a  1.40   NaN\n",
      "b  8.30 -2.10\n",
      "c  0.02 -1.11\n",
      "d   NaN   NaN\n",
      "     one    two\n",
      "a  False   True\n",
      "b  False  False\n",
      "c  False  False\n",
      "d   True   True\n",
      "     one    two\n",
      "a  False   True\n",
      "b  False  False\n",
      "c  False  False\n",
      "d   True   True\n"
     ]
    }
   ],
   "source": [
    "print(x)\n",
    "print(pd.isnull(x))\n",
    "print(x.isnull())"
   ]
  },
  {
   "cell_type": "code",
   "execution_count": 64,
   "metadata": {
    "scrolled": true
   },
   "outputs": [
    {
     "name": "stdout",
     "output_type": "stream",
     "text": [
      "a    False\n",
      "b    False\n",
      "c    False\n",
      "d     True\n",
      "Name: one, dtype: bool\n",
      "one    1\n",
      "two    2\n",
      "dtype: int64\n",
      "1\n"
     ]
    }
   ],
   "source": [
    "print(x['one'].isnull())\n",
    "print(x.isnull().sum()) \n",
    "print(x['one'].isnull().sum())"
   ]
  },
  {
   "cell_type": "code",
   "execution_count": 65,
   "metadata": {
    "scrolled": true
   },
   "outputs": [
    {
     "name": "stdout",
     "output_type": "stream",
     "text": [
      "    one   two\n",
      "a  1.40   NaN\n",
      "b  8.30 -2.10\n",
      "c  0.02 -1.11\n",
      "d   NaN   NaN\n",
      "     one    two\n",
      "a   True  False\n",
      "b   True   True\n",
      "c   True   True\n",
      "d  False  False\n",
      "     one    two\n",
      "a   True  False\n",
      "b   True   True\n",
      "c   True   True\n",
      "d  False  False\n"
     ]
    }
   ],
   "source": [
    "print(x)\n",
    "print(pd.notnull(x))\n",
    "print(x.notnull())"
   ]
  },
  {
   "cell_type": "code",
   "execution_count": 66,
   "metadata": {
    "scrolled": true
   },
   "outputs": [
    {
     "name": "stdout",
     "output_type": "stream",
     "text": [
      "    one   two\n",
      "a  1.40   NaN\n",
      "b  8.30 -2.10\n",
      "c  0.02 -1.11\n",
      "d   NaN   NaN\n",
      "one    True\n",
      "two    True\n",
      "dtype: bool\n",
      "one    False\n",
      "two    False\n",
      "dtype: bool\n"
     ]
    }
   ],
   "source": [
    "print(x)\n",
    "print(x.isnull().any())\n",
    "print(x.isnull().all()) "
   ]
  },
  {
   "cell_type": "code",
   "execution_count": 67,
   "metadata": {
    "scrolled": true
   },
   "outputs": [
    {
     "data": {
      "text/html": [
       "<div>\n",
       "<style scoped>\n",
       "    .dataframe tbody tr th:only-of-type {\n",
       "        vertical-align: middle;\n",
       "    }\n",
       "\n",
       "    .dataframe tbody tr th {\n",
       "        vertical-align: top;\n",
       "    }\n",
       "\n",
       "    .dataframe thead th {\n",
       "        text-align: right;\n",
       "    }\n",
       "</style>\n",
       "<table border=\"1\" class=\"dataframe\">\n",
       "  <thead>\n",
       "    <tr style=\"text-align: right;\">\n",
       "      <th></th>\n",
       "      <th>D</th>\n",
       "      <th>B</th>\n",
       "      <th>C</th>\n",
       "      <th>A</th>\n",
       "    </tr>\n",
       "  </thead>\n",
       "  <tbody>\n",
       "    <tr>\n",
       "      <th>2021-01-17</th>\n",
       "      <td>32</td>\n",
       "      <td>47</td>\n",
       "      <td>55</td>\n",
       "      <td>76</td>\n",
       "    </tr>\n",
       "    <tr>\n",
       "      <th>2021-01-18</th>\n",
       "      <td>6</td>\n",
       "      <td>70</td>\n",
       "      <td>73</td>\n",
       "      <td>68</td>\n",
       "    </tr>\n",
       "    <tr>\n",
       "      <th>2021-01-14</th>\n",
       "      <td>21</td>\n",
       "      <td>27</td>\n",
       "      <td>98</td>\n",
       "      <td>62</td>\n",
       "    </tr>\n",
       "    <tr>\n",
       "      <th>2021-01-19</th>\n",
       "      <td>33</td>\n",
       "      <td>86</td>\n",
       "      <td>8</td>\n",
       "      <td>89</td>\n",
       "    </tr>\n",
       "    <tr>\n",
       "      <th>2021-01-16</th>\n",
       "      <td>57</td>\n",
       "      <td>74</td>\n",
       "      <td>27</td>\n",
       "      <td>84</td>\n",
       "    </tr>\n",
       "    <tr>\n",
       "      <th>2021-01-15</th>\n",
       "      <td>14</td>\n",
       "      <td>15</td>\n",
       "      <td>92</td>\n",
       "      <td>88</td>\n",
       "    </tr>\n",
       "  </tbody>\n",
       "</table>\n",
       "</div>"
      ],
      "text/plain": [
       "             D   B   C   A\n",
       "2021-01-17  32  47  55  76\n",
       "2021-01-18   6  70  73  68\n",
       "2021-01-14  21  27  98  62\n",
       "2021-01-19  33  86   8  89\n",
       "2021-01-16  57  74  27  84\n",
       "2021-01-15  14  15  92  88"
      ]
     },
     "execution_count": 67,
     "metadata": {},
     "output_type": "execute_result"
    }
   ],
   "source": [
    "s1 = pd.date_range('20210114', periods=6)\n",
    "s1 = np.random.permutation(s1)\n",
    "s2 = list('DBCA')\n",
    "y = pd.DataFrame(np.random.randint(0, 100, (6, 4)), index=s1, columns=s2)\n",
    "y "
   ]
  },
  {
   "cell_type": "code",
   "execution_count": 68,
   "metadata": {
    "scrolled": true
   },
   "outputs": [
    {
     "data": {
      "text/html": [
       "<div>\n",
       "<style scoped>\n",
       "    .dataframe tbody tr th:only-of-type {\n",
       "        vertical-align: middle;\n",
       "    }\n",
       "\n",
       "    .dataframe tbody tr th {\n",
       "        vertical-align: top;\n",
       "    }\n",
       "\n",
       "    .dataframe thead th {\n",
       "        text-align: right;\n",
       "    }\n",
       "</style>\n",
       "<table border=\"1\" class=\"dataframe\">\n",
       "  <thead>\n",
       "    <tr style=\"text-align: right;\">\n",
       "      <th></th>\n",
       "      <th>D</th>\n",
       "      <th>B</th>\n",
       "      <th>C</th>\n",
       "      <th>A</th>\n",
       "    </tr>\n",
       "  </thead>\n",
       "  <tbody>\n",
       "    <tr>\n",
       "      <th>2021-01-14</th>\n",
       "      <td>21</td>\n",
       "      <td>27</td>\n",
       "      <td>98</td>\n",
       "      <td>62</td>\n",
       "    </tr>\n",
       "    <tr>\n",
       "      <th>2021-01-15</th>\n",
       "      <td>14</td>\n",
       "      <td>15</td>\n",
       "      <td>92</td>\n",
       "      <td>88</td>\n",
       "    </tr>\n",
       "    <tr>\n",
       "      <th>2021-01-16</th>\n",
       "      <td>57</td>\n",
       "      <td>74</td>\n",
       "      <td>27</td>\n",
       "      <td>84</td>\n",
       "    </tr>\n",
       "    <tr>\n",
       "      <th>2021-01-17</th>\n",
       "      <td>32</td>\n",
       "      <td>47</td>\n",
       "      <td>55</td>\n",
       "      <td>76</td>\n",
       "    </tr>\n",
       "    <tr>\n",
       "      <th>2021-01-18</th>\n",
       "      <td>6</td>\n",
       "      <td>70</td>\n",
       "      <td>73</td>\n",
       "      <td>68</td>\n",
       "    </tr>\n",
       "    <tr>\n",
       "      <th>2021-01-19</th>\n",
       "      <td>33</td>\n",
       "      <td>86</td>\n",
       "      <td>8</td>\n",
       "      <td>89</td>\n",
       "    </tr>\n",
       "  </tbody>\n",
       "</table>\n",
       "</div>"
      ],
      "text/plain": [
       "             D   B   C   A\n",
       "2021-01-14  21  27  98  62\n",
       "2021-01-15  14  15  92  88\n",
       "2021-01-16  57  74  27  84\n",
       "2021-01-17  32  47  55  76\n",
       "2021-01-18   6  70  73  68\n",
       "2021-01-19  33  86   8  89"
      ]
     },
     "execution_count": 68,
     "metadata": {},
     "output_type": "execute_result"
    }
   ],
   "source": [
    "y.sort_index(axis=0)"
   ]
  },
  {
   "cell_type": "code",
   "execution_count": 69,
   "metadata": {
    "scrolled": true
   },
   "outputs": [
    {
     "data": {
      "text/html": [
       "<div>\n",
       "<style scoped>\n",
       "    .dataframe tbody tr th:only-of-type {\n",
       "        vertical-align: middle;\n",
       "    }\n",
       "\n",
       "    .dataframe tbody tr th {\n",
       "        vertical-align: top;\n",
       "    }\n",
       "\n",
       "    .dataframe thead th {\n",
       "        text-align: right;\n",
       "    }\n",
       "</style>\n",
       "<table border=\"1\" class=\"dataframe\">\n",
       "  <thead>\n",
       "    <tr style=\"text-align: right;\">\n",
       "      <th></th>\n",
       "      <th>D</th>\n",
       "      <th>B</th>\n",
       "      <th>C</th>\n",
       "      <th>A</th>\n",
       "    </tr>\n",
       "  </thead>\n",
       "  <tbody>\n",
       "    <tr>\n",
       "      <th>2021-01-18</th>\n",
       "      <td>6</td>\n",
       "      <td>70</td>\n",
       "      <td>73</td>\n",
       "      <td>68</td>\n",
       "    </tr>\n",
       "    <tr>\n",
       "      <th>2021-01-15</th>\n",
       "      <td>14</td>\n",
       "      <td>15</td>\n",
       "      <td>92</td>\n",
       "      <td>88</td>\n",
       "    </tr>\n",
       "    <tr>\n",
       "      <th>2021-01-14</th>\n",
       "      <td>21</td>\n",
       "      <td>27</td>\n",
       "      <td>98</td>\n",
       "      <td>62</td>\n",
       "    </tr>\n",
       "    <tr>\n",
       "      <th>2021-01-17</th>\n",
       "      <td>32</td>\n",
       "      <td>47</td>\n",
       "      <td>55</td>\n",
       "      <td>76</td>\n",
       "    </tr>\n",
       "    <tr>\n",
       "      <th>2021-01-19</th>\n",
       "      <td>33</td>\n",
       "      <td>86</td>\n",
       "      <td>8</td>\n",
       "      <td>89</td>\n",
       "    </tr>\n",
       "    <tr>\n",
       "      <th>2021-01-16</th>\n",
       "      <td>57</td>\n",
       "      <td>74</td>\n",
       "      <td>27</td>\n",
       "      <td>84</td>\n",
       "    </tr>\n",
       "  </tbody>\n",
       "</table>\n",
       "</div>"
      ],
      "text/plain": [
       "             D   B   C   A\n",
       "2021-01-18   6  70  73  68\n",
       "2021-01-15  14  15  92  88\n",
       "2021-01-14  21  27  98  62\n",
       "2021-01-17  32  47  55  76\n",
       "2021-01-19  33  86   8  89\n",
       "2021-01-16  57  74  27  84"
      ]
     },
     "execution_count": 69,
     "metadata": {},
     "output_type": "execute_result"
    }
   ],
   "source": [
    "y.sort_values(by='D')"
   ]
  },
  {
   "cell_type": "code",
   "execution_count": 70,
   "metadata": {
    "scrolled": true
   },
   "outputs": [
    {
     "data": {
      "text/html": [
       "<div>\n",
       "<style scoped>\n",
       "    .dataframe tbody tr th:only-of-type {\n",
       "        vertical-align: middle;\n",
       "    }\n",
       "\n",
       "    .dataframe tbody tr th {\n",
       "        vertical-align: top;\n",
       "    }\n",
       "\n",
       "    .dataframe thead th {\n",
       "        text-align: right;\n",
       "    }\n",
       "</style>\n",
       "<table border=\"1\" class=\"dataframe\">\n",
       "  <thead>\n",
       "    <tr style=\"text-align: right;\">\n",
       "      <th></th>\n",
       "      <th>D</th>\n",
       "      <th>B</th>\n",
       "      <th>C</th>\n",
       "      <th>A</th>\n",
       "    </tr>\n",
       "  </thead>\n",
       "  <tbody>\n",
       "    <tr>\n",
       "      <th>2021-01-14</th>\n",
       "      <td>21</td>\n",
       "      <td>27</td>\n",
       "      <td>98</td>\n",
       "      <td>62</td>\n",
       "    </tr>\n",
       "    <tr>\n",
       "      <th>2021-01-15</th>\n",
       "      <td>14</td>\n",
       "      <td>15</td>\n",
       "      <td>92</td>\n",
       "      <td>88</td>\n",
       "    </tr>\n",
       "    <tr>\n",
       "      <th>2021-01-18</th>\n",
       "      <td>6</td>\n",
       "      <td>70</td>\n",
       "      <td>73</td>\n",
       "      <td>68</td>\n",
       "    </tr>\n",
       "    <tr>\n",
       "      <th>2021-01-17</th>\n",
       "      <td>32</td>\n",
       "      <td>47</td>\n",
       "      <td>55</td>\n",
       "      <td>76</td>\n",
       "    </tr>\n",
       "    <tr>\n",
       "      <th>2021-01-16</th>\n",
       "      <td>57</td>\n",
       "      <td>74</td>\n",
       "      <td>27</td>\n",
       "      <td>84</td>\n",
       "    </tr>\n",
       "    <tr>\n",
       "      <th>2021-01-19</th>\n",
       "      <td>33</td>\n",
       "      <td>86</td>\n",
       "      <td>8</td>\n",
       "      <td>89</td>\n",
       "    </tr>\n",
       "  </tbody>\n",
       "</table>\n",
       "</div>"
      ],
      "text/plain": [
       "             D   B   C   A\n",
       "2021-01-14  21  27  98  62\n",
       "2021-01-15  14  15  92  88\n",
       "2021-01-18   6  70  73  68\n",
       "2021-01-17  32  47  55  76\n",
       "2021-01-16  57  74  27  84\n",
       "2021-01-19  33  86   8  89"
      ]
     },
     "execution_count": 70,
     "metadata": {},
     "output_type": "execute_result"
    }
   ],
   "source": [
    "y.sort_values(by='C', ascending=False)"
   ]
  },
  {
   "cell_type": "code",
   "execution_count": 71,
   "metadata": {
    "scrolled": true
   },
   "outputs": [
    {
     "data": {
      "text/html": [
       "<div>\n",
       "<style scoped>\n",
       "    .dataframe tbody tr th:only-of-type {\n",
       "        vertical-align: middle;\n",
       "    }\n",
       "\n",
       "    .dataframe tbody tr th {\n",
       "        vertical-align: top;\n",
       "    }\n",
       "\n",
       "    .dataframe thead th {\n",
       "        text-align: right;\n",
       "    }\n",
       "</style>\n",
       "<table border=\"1\" class=\"dataframe\">\n",
       "  <thead>\n",
       "    <tr style=\"text-align: right;\">\n",
       "      <th></th>\n",
       "      <th>D</th>\n",
       "      <th>B</th>\n",
       "      <th>C</th>\n",
       "      <th>A</th>\n",
       "      <th>E</th>\n",
       "    </tr>\n",
       "  </thead>\n",
       "  <tbody>\n",
       "    <tr>\n",
       "      <th>2021-01-17</th>\n",
       "      <td>32</td>\n",
       "      <td>47</td>\n",
       "      <td>55</td>\n",
       "      <td>76</td>\n",
       "      <td>2</td>\n",
       "    </tr>\n",
       "    <tr>\n",
       "      <th>2021-01-18</th>\n",
       "      <td>6</td>\n",
       "      <td>70</td>\n",
       "      <td>73</td>\n",
       "      <td>68</td>\n",
       "      <td>2</td>\n",
       "    </tr>\n",
       "    <tr>\n",
       "      <th>2021-01-14</th>\n",
       "      <td>21</td>\n",
       "      <td>27</td>\n",
       "      <td>98</td>\n",
       "      <td>62</td>\n",
       "      <td>1</td>\n",
       "    </tr>\n",
       "    <tr>\n",
       "      <th>2021-01-19</th>\n",
       "      <td>33</td>\n",
       "      <td>86</td>\n",
       "      <td>8</td>\n",
       "      <td>89</td>\n",
       "      <td>2</td>\n",
       "    </tr>\n",
       "    <tr>\n",
       "      <th>2021-01-16</th>\n",
       "      <td>57</td>\n",
       "      <td>74</td>\n",
       "      <td>27</td>\n",
       "      <td>84</td>\n",
       "      <td>1</td>\n",
       "    </tr>\n",
       "    <tr>\n",
       "      <th>2021-01-15</th>\n",
       "      <td>14</td>\n",
       "      <td>15</td>\n",
       "      <td>92</td>\n",
       "      <td>88</td>\n",
       "      <td>0</td>\n",
       "    </tr>\n",
       "  </tbody>\n",
       "</table>\n",
       "</div>"
      ],
      "text/plain": [
       "             D   B   C   A  E\n",
       "2021-01-17  32  47  55  76  2\n",
       "2021-01-18   6  70  73  68  2\n",
       "2021-01-14  21  27  98  62  1\n",
       "2021-01-19  33  86   8  89  2\n",
       "2021-01-16  57  74  27  84  1\n",
       "2021-01-15  14  15  92  88  0"
      ]
     },
     "execution_count": 71,
     "metadata": {},
     "output_type": "execute_result"
    }
   ],
   "source": [
    "y['E'] = np.random.randint(0, 3, size=6)\n",
    "y"
   ]
  },
  {
   "cell_type": "code",
   "execution_count": 72,
   "metadata": {},
   "outputs": [
    {
     "data": {
      "text/plain": [
       "array([2, 1, 0])"
      ]
     },
     "execution_count": 72,
     "metadata": {},
     "output_type": "execute_result"
    }
   ],
   "source": [
    "y['E'].unique()"
   ]
  },
  {
   "cell_type": "code",
   "execution_count": 73,
   "metadata": {
    "scrolled": true
   },
   "outputs": [
    {
     "data": {
      "text/html": [
       "<div>\n",
       "<style scoped>\n",
       "    .dataframe tbody tr th:only-of-type {\n",
       "        vertical-align: middle;\n",
       "    }\n",
       "\n",
       "    .dataframe tbody tr th {\n",
       "        vertical-align: top;\n",
       "    }\n",
       "\n",
       "    .dataframe thead th {\n",
       "        text-align: right;\n",
       "    }\n",
       "</style>\n",
       "<table border=\"1\" class=\"dataframe\">\n",
       "  <thead>\n",
       "    <tr style=\"text-align: right;\">\n",
       "      <th></th>\n",
       "      <th>2021-01-17</th>\n",
       "      <th>2021-01-18</th>\n",
       "      <th>2021-01-14</th>\n",
       "      <th>2021-01-19</th>\n",
       "      <th>2021-01-16</th>\n",
       "      <th>2021-01-15</th>\n",
       "    </tr>\n",
       "  </thead>\n",
       "  <tbody>\n",
       "    <tr>\n",
       "      <th>D</th>\n",
       "      <td>32</td>\n",
       "      <td>6</td>\n",
       "      <td>21</td>\n",
       "      <td>33</td>\n",
       "      <td>57</td>\n",
       "      <td>14</td>\n",
       "    </tr>\n",
       "    <tr>\n",
       "      <th>B</th>\n",
       "      <td>47</td>\n",
       "      <td>70</td>\n",
       "      <td>27</td>\n",
       "      <td>86</td>\n",
       "      <td>74</td>\n",
       "      <td>15</td>\n",
       "    </tr>\n",
       "    <tr>\n",
       "      <th>C</th>\n",
       "      <td>55</td>\n",
       "      <td>73</td>\n",
       "      <td>98</td>\n",
       "      <td>8</td>\n",
       "      <td>27</td>\n",
       "      <td>92</td>\n",
       "    </tr>\n",
       "    <tr>\n",
       "      <th>A</th>\n",
       "      <td>76</td>\n",
       "      <td>68</td>\n",
       "      <td>62</td>\n",
       "      <td>89</td>\n",
       "      <td>84</td>\n",
       "      <td>88</td>\n",
       "    </tr>\n",
       "    <tr>\n",
       "      <th>E</th>\n",
       "      <td>2</td>\n",
       "      <td>2</td>\n",
       "      <td>1</td>\n",
       "      <td>2</td>\n",
       "      <td>1</td>\n",
       "      <td>0</td>\n",
       "    </tr>\n",
       "  </tbody>\n",
       "</table>\n",
       "</div>"
      ],
      "text/plain": [
       "   2021-01-17  2021-01-18  2021-01-14  2021-01-19  2021-01-16  2021-01-15\n",
       "D          32           6          21          33          57          14\n",
       "B          47          70          27          86          74          15\n",
       "C          55          73          98           8          27          92\n",
       "A          76          68          62          89          84          88\n",
       "E           2           2           1           2           1           0"
      ]
     },
     "execution_count": 73,
     "metadata": {},
     "output_type": "execute_result"
    }
   ],
   "source": [
    "y.transpose()"
   ]
  },
  {
   "cell_type": "code",
   "execution_count": 74,
   "metadata": {
    "scrolled": true
   },
   "outputs": [
    {
     "data": {
      "text/plain": [
       "2021-01-17    False\n",
       "2021-01-18    False\n",
       "2021-01-14    False\n",
       "2021-01-19    False\n",
       "2021-01-16    False\n",
       "2021-01-15    False\n",
       "Name: B, dtype: bool"
      ]
     },
     "execution_count": 74,
     "metadata": {},
     "output_type": "execute_result"
    }
   ],
   "source": [
    "y['B'].isin([91,1])"
   ]
  },
  {
   "cell_type": "markdown",
   "metadata": {},
   "source": [
    "# DataFrame 결합"
   ]
  },
  {
   "cell_type": "code",
   "execution_count": 75,
   "metadata": {
    "scrolled": true
   },
   "outputs": [
    {
     "name": "stdout",
     "output_type": "stream",
     "text": [
      "    A   B   C   D\n",
      "0  41  35   6  29\n",
      "1  18  50  36  68\n",
      "2  61  41  57   4\n",
      "     A    B    C    D\n",
      "3  128  158  194  153\n",
      "4  161  141  103  103\n",
      "5  180  122  142  109\n"
     ]
    }
   ],
   "source": [
    "x1 = pd.DataFrame(np.random.randint(0, 100, (3, 4)),\n",
    "                 columns = list('ABCD'),\n",
    "                 index = np.arange(3))\n",
    "x2 = pd.DataFrame(np.random.randint(100, 200, (3, 4)),\n",
    "                 columns = list('ABCD'),\n",
    "                 index = np.arange(3)+3)\n",
    "print(x1)\n",
    "print(x2) "
   ]
  },
  {
   "cell_type": "code",
   "execution_count": 76,
   "metadata": {
    "scrolled": true
   },
   "outputs": [
    {
     "data": {
      "text/html": [
       "<div>\n",
       "<style scoped>\n",
       "    .dataframe tbody tr th:only-of-type {\n",
       "        vertical-align: middle;\n",
       "    }\n",
       "\n",
       "    .dataframe tbody tr th {\n",
       "        vertical-align: top;\n",
       "    }\n",
       "\n",
       "    .dataframe thead th {\n",
       "        text-align: right;\n",
       "    }\n",
       "</style>\n",
       "<table border=\"1\" class=\"dataframe\">\n",
       "  <thead>\n",
       "    <tr style=\"text-align: right;\">\n",
       "      <th></th>\n",
       "      <th>A</th>\n",
       "      <th>B</th>\n",
       "      <th>C</th>\n",
       "      <th>D</th>\n",
       "    </tr>\n",
       "  </thead>\n",
       "  <tbody>\n",
       "    <tr>\n",
       "      <th>0</th>\n",
       "      <td>41</td>\n",
       "      <td>35</td>\n",
       "      <td>6</td>\n",
       "      <td>29</td>\n",
       "    </tr>\n",
       "    <tr>\n",
       "      <th>1</th>\n",
       "      <td>18</td>\n",
       "      <td>50</td>\n",
       "      <td>36</td>\n",
       "      <td>68</td>\n",
       "    </tr>\n",
       "    <tr>\n",
       "      <th>2</th>\n",
       "      <td>61</td>\n",
       "      <td>41</td>\n",
       "      <td>57</td>\n",
       "      <td>4</td>\n",
       "    </tr>\n",
       "    <tr>\n",
       "      <th>3</th>\n",
       "      <td>128</td>\n",
       "      <td>158</td>\n",
       "      <td>194</td>\n",
       "      <td>153</td>\n",
       "    </tr>\n",
       "    <tr>\n",
       "      <th>4</th>\n",
       "      <td>161</td>\n",
       "      <td>141</td>\n",
       "      <td>103</td>\n",
       "      <td>103</td>\n",
       "    </tr>\n",
       "    <tr>\n",
       "      <th>5</th>\n",
       "      <td>180</td>\n",
       "      <td>122</td>\n",
       "      <td>142</td>\n",
       "      <td>109</td>\n",
       "    </tr>\n",
       "  </tbody>\n",
       "</table>\n",
       "</div>"
      ],
      "text/plain": [
       "     A    B    C    D\n",
       "0   41   35    6   29\n",
       "1   18   50   36   68\n",
       "2   61   41   57    4\n",
       "3  128  158  194  153\n",
       "4  161  141  103  103\n",
       "5  180  122  142  109"
      ]
     },
     "execution_count": 76,
     "metadata": {},
     "output_type": "execute_result"
    }
   ],
   "source": [
    "pd.concat([x1, x2])"
   ]
  },
  {
   "cell_type": "code",
   "execution_count": 77,
   "metadata": {
    "scrolled": true
   },
   "outputs": [
    {
     "data": {
      "text/html": [
       "<div>\n",
       "<style scoped>\n",
       "    .dataframe tbody tr th:only-of-type {\n",
       "        vertical-align: middle;\n",
       "    }\n",
       "\n",
       "    .dataframe tbody tr th {\n",
       "        vertical-align: top;\n",
       "    }\n",
       "\n",
       "    .dataframe thead th {\n",
       "        text-align: right;\n",
       "    }\n",
       "</style>\n",
       "<table border=\"1\" class=\"dataframe\">\n",
       "  <thead>\n",
       "    <tr style=\"text-align: right;\">\n",
       "      <th></th>\n",
       "      <th>A</th>\n",
       "      <th>B</th>\n",
       "      <th>C</th>\n",
       "      <th>D</th>\n",
       "      <th>A</th>\n",
       "      <th>B</th>\n",
       "      <th>C</th>\n",
       "      <th>D</th>\n",
       "    </tr>\n",
       "  </thead>\n",
       "  <tbody>\n",
       "    <tr>\n",
       "      <th>0</th>\n",
       "      <td>41.0</td>\n",
       "      <td>35.0</td>\n",
       "      <td>6.0</td>\n",
       "      <td>29.0</td>\n",
       "      <td>NaN</td>\n",
       "      <td>NaN</td>\n",
       "      <td>NaN</td>\n",
       "      <td>NaN</td>\n",
       "    </tr>\n",
       "    <tr>\n",
       "      <th>1</th>\n",
       "      <td>18.0</td>\n",
       "      <td>50.0</td>\n",
       "      <td>36.0</td>\n",
       "      <td>68.0</td>\n",
       "      <td>NaN</td>\n",
       "      <td>NaN</td>\n",
       "      <td>NaN</td>\n",
       "      <td>NaN</td>\n",
       "    </tr>\n",
       "    <tr>\n",
       "      <th>2</th>\n",
       "      <td>61.0</td>\n",
       "      <td>41.0</td>\n",
       "      <td>57.0</td>\n",
       "      <td>4.0</td>\n",
       "      <td>NaN</td>\n",
       "      <td>NaN</td>\n",
       "      <td>NaN</td>\n",
       "      <td>NaN</td>\n",
       "    </tr>\n",
       "    <tr>\n",
       "      <th>3</th>\n",
       "      <td>NaN</td>\n",
       "      <td>NaN</td>\n",
       "      <td>NaN</td>\n",
       "      <td>NaN</td>\n",
       "      <td>128.0</td>\n",
       "      <td>158.0</td>\n",
       "      <td>194.0</td>\n",
       "      <td>153.0</td>\n",
       "    </tr>\n",
       "    <tr>\n",
       "      <th>4</th>\n",
       "      <td>NaN</td>\n",
       "      <td>NaN</td>\n",
       "      <td>NaN</td>\n",
       "      <td>NaN</td>\n",
       "      <td>161.0</td>\n",
       "      <td>141.0</td>\n",
       "      <td>103.0</td>\n",
       "      <td>103.0</td>\n",
       "    </tr>\n",
       "    <tr>\n",
       "      <th>5</th>\n",
       "      <td>NaN</td>\n",
       "      <td>NaN</td>\n",
       "      <td>NaN</td>\n",
       "      <td>NaN</td>\n",
       "      <td>180.0</td>\n",
       "      <td>122.0</td>\n",
       "      <td>142.0</td>\n",
       "      <td>109.0</td>\n",
       "    </tr>\n",
       "  </tbody>\n",
       "</table>\n",
       "</div>"
      ],
      "text/plain": [
       "      A     B     C     D      A      B      C      D\n",
       "0  41.0  35.0   6.0  29.0    NaN    NaN    NaN    NaN\n",
       "1  18.0  50.0  36.0  68.0    NaN    NaN    NaN    NaN\n",
       "2  61.0  41.0  57.0   4.0    NaN    NaN    NaN    NaN\n",
       "3   NaN   NaN   NaN   NaN  128.0  158.0  194.0  153.0\n",
       "4   NaN   NaN   NaN   NaN  161.0  141.0  103.0  103.0\n",
       "5   NaN   NaN   NaN   NaN  180.0  122.0  142.0  109.0"
      ]
     },
     "execution_count": 77,
     "metadata": {},
     "output_type": "execute_result"
    }
   ],
   "source": [
    "pd.concat([x1, x2], axis=1)"
   ]
  },
  {
   "cell_type": "code",
   "execution_count": 78,
   "metadata": {
    "scrolled": true
   },
   "outputs": [
    {
     "name": "stdout",
     "output_type": "stream",
     "text": [
      "     E    F    G    H\n",
      "0  230  283  233  218\n",
      "1  215  228  232  238\n",
      "2  267  295  264  297\n",
      "     A    B    C    E\n",
      "0  379  304  352  378\n",
      "1  371  371  322  341\n",
      "3  348  379  304  358\n"
     ]
    }
   ],
   "source": [
    "x3 = pd.DataFrame(np.random.randint(200, 300, (3, 4)),\n",
    "                 columns = list('EFGH'),\n",
    "                 index = np.arange(3))\n",
    "x4 = pd.DataFrame(np.random.randint(300, 400, (3, 4)),\n",
    "                 columns = list('ABCE'),\n",
    "                 index = [0, 1, 3])\n",
    "print(x3)\n",
    "print(x4) "
   ]
  },
  {
   "cell_type": "code",
   "execution_count": 79,
   "metadata": {
    "scrolled": true
   },
   "outputs": [
    {
     "name": "stdout",
     "output_type": "stream",
     "text": [
      "    A   B   C   D\n",
      "0  41  35   6  29\n",
      "1  18  50  36  68\n",
      "2  61  41  57   4\n",
      "     A    B    C    E\n",
      "0  379  304  352  378\n",
      "1  371  371  322  341\n",
      "3  348  379  304  358\n"
     ]
    },
    {
     "data": {
      "text/html": [
       "<div>\n",
       "<style scoped>\n",
       "    .dataframe tbody tr th:only-of-type {\n",
       "        vertical-align: middle;\n",
       "    }\n",
       "\n",
       "    .dataframe tbody tr th {\n",
       "        vertical-align: top;\n",
       "    }\n",
       "\n",
       "    .dataframe thead th {\n",
       "        text-align: right;\n",
       "    }\n",
       "</style>\n",
       "<table border=\"1\" class=\"dataframe\">\n",
       "  <thead>\n",
       "    <tr style=\"text-align: right;\">\n",
       "      <th></th>\n",
       "      <th>A</th>\n",
       "      <th>B</th>\n",
       "      <th>C</th>\n",
       "      <th>D</th>\n",
       "      <th>E</th>\n",
       "    </tr>\n",
       "  </thead>\n",
       "  <tbody>\n",
       "    <tr>\n",
       "      <th>0</th>\n",
       "      <td>41</td>\n",
       "      <td>35</td>\n",
       "      <td>6</td>\n",
       "      <td>29.0</td>\n",
       "      <td>NaN</td>\n",
       "    </tr>\n",
       "    <tr>\n",
       "      <th>1</th>\n",
       "      <td>18</td>\n",
       "      <td>50</td>\n",
       "      <td>36</td>\n",
       "      <td>68.0</td>\n",
       "      <td>NaN</td>\n",
       "    </tr>\n",
       "    <tr>\n",
       "      <th>2</th>\n",
       "      <td>61</td>\n",
       "      <td>41</td>\n",
       "      <td>57</td>\n",
       "      <td>4.0</td>\n",
       "      <td>NaN</td>\n",
       "    </tr>\n",
       "    <tr>\n",
       "      <th>0</th>\n",
       "      <td>379</td>\n",
       "      <td>304</td>\n",
       "      <td>352</td>\n",
       "      <td>NaN</td>\n",
       "      <td>378.0</td>\n",
       "    </tr>\n",
       "    <tr>\n",
       "      <th>1</th>\n",
       "      <td>371</td>\n",
       "      <td>371</td>\n",
       "      <td>322</td>\n",
       "      <td>NaN</td>\n",
       "      <td>341.0</td>\n",
       "    </tr>\n",
       "    <tr>\n",
       "      <th>3</th>\n",
       "      <td>348</td>\n",
       "      <td>379</td>\n",
       "      <td>304</td>\n",
       "      <td>NaN</td>\n",
       "      <td>358.0</td>\n",
       "    </tr>\n",
       "  </tbody>\n",
       "</table>\n",
       "</div>"
      ],
      "text/plain": [
       "     A    B    C     D      E\n",
       "0   41   35    6  29.0    NaN\n",
       "1   18   50   36  68.0    NaN\n",
       "2   61   41   57   4.0    NaN\n",
       "0  379  304  352   NaN  378.0\n",
       "1  371  371  322   NaN  341.0\n",
       "3  348  379  304   NaN  358.0"
      ]
     },
     "execution_count": 79,
     "metadata": {},
     "output_type": "execute_result"
    }
   ],
   "source": [
    "print(x1)\n",
    "print(x4)\n",
    "pd.concat([x1, x4], join='outer')"
   ]
  },
  {
   "cell_type": "code",
   "execution_count": 80,
   "metadata": {
    "scrolled": true
   },
   "outputs": [
    {
     "data": {
      "text/html": [
       "<div>\n",
       "<style scoped>\n",
       "    .dataframe tbody tr th:only-of-type {\n",
       "        vertical-align: middle;\n",
       "    }\n",
       "\n",
       "    .dataframe tbody tr th {\n",
       "        vertical-align: top;\n",
       "    }\n",
       "\n",
       "    .dataframe thead th {\n",
       "        text-align: right;\n",
       "    }\n",
       "</style>\n",
       "<table border=\"1\" class=\"dataframe\">\n",
       "  <thead>\n",
       "    <tr style=\"text-align: right;\">\n",
       "      <th></th>\n",
       "      <th>A</th>\n",
       "      <th>B</th>\n",
       "      <th>C</th>\n",
       "    </tr>\n",
       "  </thead>\n",
       "  <tbody>\n",
       "    <tr>\n",
       "      <th>0</th>\n",
       "      <td>41</td>\n",
       "      <td>35</td>\n",
       "      <td>6</td>\n",
       "    </tr>\n",
       "    <tr>\n",
       "      <th>1</th>\n",
       "      <td>18</td>\n",
       "      <td>50</td>\n",
       "      <td>36</td>\n",
       "    </tr>\n",
       "    <tr>\n",
       "      <th>2</th>\n",
       "      <td>61</td>\n",
       "      <td>41</td>\n",
       "      <td>57</td>\n",
       "    </tr>\n",
       "    <tr>\n",
       "      <th>0</th>\n",
       "      <td>379</td>\n",
       "      <td>304</td>\n",
       "      <td>352</td>\n",
       "    </tr>\n",
       "    <tr>\n",
       "      <th>1</th>\n",
       "      <td>371</td>\n",
       "      <td>371</td>\n",
       "      <td>322</td>\n",
       "    </tr>\n",
       "    <tr>\n",
       "      <th>3</th>\n",
       "      <td>348</td>\n",
       "      <td>379</td>\n",
       "      <td>304</td>\n",
       "    </tr>\n",
       "  </tbody>\n",
       "</table>\n",
       "</div>"
      ],
      "text/plain": [
       "     A    B    C\n",
       "0   41   35    6\n",
       "1   18   50   36\n",
       "2   61   41   57\n",
       "0  379  304  352\n",
       "1  371  371  322\n",
       "3  348  379  304"
      ]
     },
     "execution_count": 80,
     "metadata": {},
     "output_type": "execute_result"
    }
   ],
   "source": [
    "pd.concat([x1, x4], join='inner')"
   ]
  },
  {
   "cell_type": "code",
   "execution_count": 81,
   "metadata": {
    "scrolled": true
   },
   "outputs": [
    {
     "name": "stdout",
     "output_type": "stream",
     "text": [
      "    A   B   C   D\n",
      "a  65  39  47  44\n",
      "b  83  39  60  10\n",
      "c  38  97  90  17\n",
      "     A    B    C    D\n",
      "d  191  167  176  111\n",
      "e  168  171  187  123\n",
      "f  138  186  137  146\n"
     ]
    }
   ],
   "source": [
    "x5 = pd.DataFrame(np.random.randint(0, 100, (3, 4)),\n",
    "                 columns = list('ABCD'),\n",
    "                 index = list('abc'))\n",
    "x6 = pd.DataFrame(np.random.randint(100, 200, (3, 4)),\n",
    "                 columns = list('ABCD'),\n",
    "                 index = list('def'))\n",
    "print(x5)\n",
    "print(x6) "
   ]
  },
  {
   "cell_type": "code",
   "execution_count": 82,
   "metadata": {
    "scrolled": true
   },
   "outputs": [
    {
     "data": {
      "text/html": [
       "<div>\n",
       "<style scoped>\n",
       "    .dataframe tbody tr th:only-of-type {\n",
       "        vertical-align: middle;\n",
       "    }\n",
       "\n",
       "    .dataframe tbody tr th {\n",
       "        vertical-align: top;\n",
       "    }\n",
       "\n",
       "    .dataframe thead th {\n",
       "        text-align: right;\n",
       "    }\n",
       "</style>\n",
       "<table border=\"1\" class=\"dataframe\">\n",
       "  <thead>\n",
       "    <tr style=\"text-align: right;\">\n",
       "      <th></th>\n",
       "      <th>A</th>\n",
       "      <th>B</th>\n",
       "      <th>C</th>\n",
       "      <th>D</th>\n",
       "    </tr>\n",
       "  </thead>\n",
       "  <tbody>\n",
       "    <tr>\n",
       "      <th>a</th>\n",
       "      <td>65</td>\n",
       "      <td>39</td>\n",
       "      <td>47</td>\n",
       "      <td>44</td>\n",
       "    </tr>\n",
       "    <tr>\n",
       "      <th>b</th>\n",
       "      <td>83</td>\n",
       "      <td>39</td>\n",
       "      <td>60</td>\n",
       "      <td>10</td>\n",
       "    </tr>\n",
       "    <tr>\n",
       "      <th>c</th>\n",
       "      <td>38</td>\n",
       "      <td>97</td>\n",
       "      <td>90</td>\n",
       "      <td>17</td>\n",
       "    </tr>\n",
       "    <tr>\n",
       "      <th>d</th>\n",
       "      <td>191</td>\n",
       "      <td>167</td>\n",
       "      <td>176</td>\n",
       "      <td>111</td>\n",
       "    </tr>\n",
       "    <tr>\n",
       "      <th>e</th>\n",
       "      <td>168</td>\n",
       "      <td>171</td>\n",
       "      <td>187</td>\n",
       "      <td>123</td>\n",
       "    </tr>\n",
       "    <tr>\n",
       "      <th>f</th>\n",
       "      <td>138</td>\n",
       "      <td>186</td>\n",
       "      <td>137</td>\n",
       "      <td>146</td>\n",
       "    </tr>\n",
       "  </tbody>\n",
       "</table>\n",
       "</div>"
      ],
      "text/plain": [
       "     A    B    C    D\n",
       "a   65   39   47   44\n",
       "b   83   39   60   10\n",
       "c   38   97   90   17\n",
       "d  191  167  176  111\n",
       "e  168  171  187  123\n",
       "f  138  186  137  146"
      ]
     },
     "execution_count": 82,
     "metadata": {},
     "output_type": "execute_result"
    }
   ],
   "source": [
    "pd.concat([x5, x6], ignore_index=False) "
   ]
  },
  {
   "cell_type": "code",
   "execution_count": 83,
   "metadata": {
    "scrolled": true
   },
   "outputs": [
    {
     "data": {
      "text/html": [
       "<div>\n",
       "<style scoped>\n",
       "    .dataframe tbody tr th:only-of-type {\n",
       "        vertical-align: middle;\n",
       "    }\n",
       "\n",
       "    .dataframe tbody tr th {\n",
       "        vertical-align: top;\n",
       "    }\n",
       "\n",
       "    .dataframe thead th {\n",
       "        text-align: right;\n",
       "    }\n",
       "</style>\n",
       "<table border=\"1\" class=\"dataframe\">\n",
       "  <thead>\n",
       "    <tr style=\"text-align: right;\">\n",
       "      <th></th>\n",
       "      <th>A</th>\n",
       "      <th>B</th>\n",
       "      <th>C</th>\n",
       "      <th>D</th>\n",
       "    </tr>\n",
       "  </thead>\n",
       "  <tbody>\n",
       "    <tr>\n",
       "      <th>0</th>\n",
       "      <td>65</td>\n",
       "      <td>39</td>\n",
       "      <td>47</td>\n",
       "      <td>44</td>\n",
       "    </tr>\n",
       "    <tr>\n",
       "      <th>1</th>\n",
       "      <td>83</td>\n",
       "      <td>39</td>\n",
       "      <td>60</td>\n",
       "      <td>10</td>\n",
       "    </tr>\n",
       "    <tr>\n",
       "      <th>2</th>\n",
       "      <td>38</td>\n",
       "      <td>97</td>\n",
       "      <td>90</td>\n",
       "      <td>17</td>\n",
       "    </tr>\n",
       "    <tr>\n",
       "      <th>3</th>\n",
       "      <td>191</td>\n",
       "      <td>167</td>\n",
       "      <td>176</td>\n",
       "      <td>111</td>\n",
       "    </tr>\n",
       "    <tr>\n",
       "      <th>4</th>\n",
       "      <td>168</td>\n",
       "      <td>171</td>\n",
       "      <td>187</td>\n",
       "      <td>123</td>\n",
       "    </tr>\n",
       "    <tr>\n",
       "      <th>5</th>\n",
       "      <td>138</td>\n",
       "      <td>186</td>\n",
       "      <td>137</td>\n",
       "      <td>146</td>\n",
       "    </tr>\n",
       "  </tbody>\n",
       "</table>\n",
       "</div>"
      ],
      "text/plain": [
       "     A    B    C    D\n",
       "0   65   39   47   44\n",
       "1   83   39   60   10\n",
       "2   38   97   90   17\n",
       "3  191  167  176  111\n",
       "4  168  171  187  123\n",
       "5  138  186  137  146"
      ]
     },
     "execution_count": 83,
     "metadata": {},
     "output_type": "execute_result"
    }
   ],
   "source": [
    "pd.concat([x5, x6], ignore_index=True)  # 인덱스가 새로 부여"
   ]
  },
  {
   "cell_type": "code",
   "execution_count": 84,
   "metadata": {
    "scrolled": true
   },
   "outputs": [
    {
     "data": {
      "text/html": [
       "<div>\n",
       "<style scoped>\n",
       "    .dataframe tbody tr th:only-of-type {\n",
       "        vertical-align: middle;\n",
       "    }\n",
       "\n",
       "    .dataframe tbody tr th {\n",
       "        vertical-align: top;\n",
       "    }\n",
       "\n",
       "    .dataframe thead th {\n",
       "        text-align: right;\n",
       "    }\n",
       "</style>\n",
       "<table border=\"1\" class=\"dataframe\">\n",
       "  <thead>\n",
       "    <tr style=\"text-align: right;\">\n",
       "      <th></th>\n",
       "      <th></th>\n",
       "      <th>A</th>\n",
       "      <th>B</th>\n",
       "      <th>C</th>\n",
       "      <th>D</th>\n",
       "    </tr>\n",
       "  </thead>\n",
       "  <tbody>\n",
       "    <tr>\n",
       "      <th rowspan=\"3\" valign=\"top\">x5</th>\n",
       "      <th>a</th>\n",
       "      <td>65</td>\n",
       "      <td>39</td>\n",
       "      <td>47</td>\n",
       "      <td>44</td>\n",
       "    </tr>\n",
       "    <tr>\n",
       "      <th>b</th>\n",
       "      <td>83</td>\n",
       "      <td>39</td>\n",
       "      <td>60</td>\n",
       "      <td>10</td>\n",
       "    </tr>\n",
       "    <tr>\n",
       "      <th>c</th>\n",
       "      <td>38</td>\n",
       "      <td>97</td>\n",
       "      <td>90</td>\n",
       "      <td>17</td>\n",
       "    </tr>\n",
       "    <tr>\n",
       "      <th rowspan=\"3\" valign=\"top\">x6</th>\n",
       "      <th>d</th>\n",
       "      <td>191</td>\n",
       "      <td>167</td>\n",
       "      <td>176</td>\n",
       "      <td>111</td>\n",
       "    </tr>\n",
       "    <tr>\n",
       "      <th>e</th>\n",
       "      <td>168</td>\n",
       "      <td>171</td>\n",
       "      <td>187</td>\n",
       "      <td>123</td>\n",
       "    </tr>\n",
       "    <tr>\n",
       "      <th>f</th>\n",
       "      <td>138</td>\n",
       "      <td>186</td>\n",
       "      <td>137</td>\n",
       "      <td>146</td>\n",
       "    </tr>\n",
       "  </tbody>\n",
       "</table>\n",
       "</div>"
      ],
      "text/plain": [
       "        A    B    C    D\n",
       "x5 a   65   39   47   44\n",
       "   b   83   39   60   10\n",
       "   c   38   97   90   17\n",
       "x6 d  191  167  176  111\n",
       "   e  168  171  187  123\n",
       "   f  138  186  137  146"
      ]
     },
     "execution_count": 84,
     "metadata": {},
     "output_type": "execute_result"
    }
   ],
   "source": [
    "pd.concat([x5, x6], keys=['x5', 'x6'])  # 인덱스에 계층을 부여하고 싶으면 keys 속성을 넣습니다 "
   ]
  },
  {
   "cell_type": "code",
   "execution_count": 85,
   "metadata": {
    "scrolled": true
   },
   "outputs": [
    {
     "data": {
      "text/html": [
       "<div>\n",
       "<style scoped>\n",
       "    .dataframe tbody tr th:only-of-type {\n",
       "        vertical-align: middle;\n",
       "    }\n",
       "\n",
       "    .dataframe tbody tr th {\n",
       "        vertical-align: top;\n",
       "    }\n",
       "\n",
       "    .dataframe thead th {\n",
       "        text-align: right;\n",
       "    }\n",
       "</style>\n",
       "<table border=\"1\" class=\"dataframe\">\n",
       "  <thead>\n",
       "    <tr style=\"text-align: right;\">\n",
       "      <th></th>\n",
       "      <th></th>\n",
       "      <th>A</th>\n",
       "      <th>B</th>\n",
       "      <th>C</th>\n",
       "      <th>D</th>\n",
       "    </tr>\n",
       "    <tr>\n",
       "      <th>name</th>\n",
       "      <th>num</th>\n",
       "      <th></th>\n",
       "      <th></th>\n",
       "      <th></th>\n",
       "      <th></th>\n",
       "    </tr>\n",
       "  </thead>\n",
       "  <tbody>\n",
       "    <tr>\n",
       "      <th rowspan=\"3\" valign=\"top\">x5</th>\n",
       "      <th>a</th>\n",
       "      <td>65</td>\n",
       "      <td>39</td>\n",
       "      <td>47</td>\n",
       "      <td>44</td>\n",
       "    </tr>\n",
       "    <tr>\n",
       "      <th>b</th>\n",
       "      <td>83</td>\n",
       "      <td>39</td>\n",
       "      <td>60</td>\n",
       "      <td>10</td>\n",
       "    </tr>\n",
       "    <tr>\n",
       "      <th>c</th>\n",
       "      <td>38</td>\n",
       "      <td>97</td>\n",
       "      <td>90</td>\n",
       "      <td>17</td>\n",
       "    </tr>\n",
       "    <tr>\n",
       "      <th rowspan=\"3\" valign=\"top\">x6</th>\n",
       "      <th>d</th>\n",
       "      <td>191</td>\n",
       "      <td>167</td>\n",
       "      <td>176</td>\n",
       "      <td>111</td>\n",
       "    </tr>\n",
       "    <tr>\n",
       "      <th>e</th>\n",
       "      <td>168</td>\n",
       "      <td>171</td>\n",
       "      <td>187</td>\n",
       "      <td>123</td>\n",
       "    </tr>\n",
       "    <tr>\n",
       "      <th>f</th>\n",
       "      <td>138</td>\n",
       "      <td>186</td>\n",
       "      <td>137</td>\n",
       "      <td>146</td>\n",
       "    </tr>\n",
       "  </tbody>\n",
       "</table>\n",
       "</div>"
      ],
      "text/plain": [
       "            A    B    C    D\n",
       "name num                    \n",
       "x5   a     65   39   47   44\n",
       "     b     83   39   60   10\n",
       "     c     38   97   90   17\n",
       "x6   d    191  167  176  111\n",
       "     e    168  171  187  123\n",
       "     f    138  186  137  146"
      ]
     },
     "execution_count": 85,
     "metadata": {},
     "output_type": "execute_result"
    }
   ],
   "source": [
    "pd.concat([x5, x6], keys=['x5', 'x6'],\n",
    "         names=['name', 'num']) "
   ]
  },
  {
   "cell_type": "code",
   "execution_count": 86,
   "metadata": {
    "scrolled": true
   },
   "outputs": [
    {
     "name": "stdout",
     "output_type": "stream",
     "text": [
      "    A   B   C   D\n",
      "a  14  74  80  72\n",
      "b  81   4  69  86\n",
      "c  27  93  78   4\n",
      "     A    B    C    D\n",
      "c  164  105  167  163\n",
      "d  143  180  109  132\n",
      "e  119  102  111  161\n"
     ]
    }
   ],
   "source": [
    "x7 = pd.DataFrame(np.random.randint(0, 100, (3, 4)),\n",
    "                 columns = list('ABCD'),\n",
    "                 index = list('abc'))\n",
    "x8 = pd.DataFrame(np.random.randint(100, 200, (3, 4)),\n",
    "                 columns = list('ABCD'),\n",
    "                 index = list('cde'))\n",
    "print(x7)\n",
    "print(x8)"
   ]
  },
  {
   "cell_type": "code",
   "execution_count": 87,
   "metadata": {
    "scrolled": true
   },
   "outputs": [
    {
     "data": {
      "text/html": [
       "<div>\n",
       "<style scoped>\n",
       "    .dataframe tbody tr th:only-of-type {\n",
       "        vertical-align: middle;\n",
       "    }\n",
       "\n",
       "    .dataframe tbody tr th {\n",
       "        vertical-align: top;\n",
       "    }\n",
       "\n",
       "    .dataframe thead th {\n",
       "        text-align: right;\n",
       "    }\n",
       "</style>\n",
       "<table border=\"1\" class=\"dataframe\">\n",
       "  <thead>\n",
       "    <tr style=\"text-align: right;\">\n",
       "      <th></th>\n",
       "      <th>A</th>\n",
       "      <th>B</th>\n",
       "      <th>C</th>\n",
       "      <th>D</th>\n",
       "    </tr>\n",
       "  </thead>\n",
       "  <tbody>\n",
       "    <tr>\n",
       "      <th>a</th>\n",
       "      <td>14</td>\n",
       "      <td>74</td>\n",
       "      <td>80</td>\n",
       "      <td>72</td>\n",
       "    </tr>\n",
       "    <tr>\n",
       "      <th>b</th>\n",
       "      <td>81</td>\n",
       "      <td>4</td>\n",
       "      <td>69</td>\n",
       "      <td>86</td>\n",
       "    </tr>\n",
       "    <tr>\n",
       "      <th>c</th>\n",
       "      <td>27</td>\n",
       "      <td>93</td>\n",
       "      <td>78</td>\n",
       "      <td>4</td>\n",
       "    </tr>\n",
       "    <tr>\n",
       "      <th>c</th>\n",
       "      <td>164</td>\n",
       "      <td>105</td>\n",
       "      <td>167</td>\n",
       "      <td>163</td>\n",
       "    </tr>\n",
       "    <tr>\n",
       "      <th>d</th>\n",
       "      <td>143</td>\n",
       "      <td>180</td>\n",
       "      <td>109</td>\n",
       "      <td>132</td>\n",
       "    </tr>\n",
       "    <tr>\n",
       "      <th>e</th>\n",
       "      <td>119</td>\n",
       "      <td>102</td>\n",
       "      <td>111</td>\n",
       "      <td>161</td>\n",
       "    </tr>\n",
       "  </tbody>\n",
       "</table>\n",
       "</div>"
      ],
      "text/plain": [
       "     A    B    C    D\n",
       "a   14   74   80   72\n",
       "b   81    4   69   86\n",
       "c   27   93   78    4\n",
       "c  164  105  167  163\n",
       "d  143  180  109  132\n",
       "e  119  102  111  161"
      ]
     },
     "execution_count": 87,
     "metadata": {},
     "output_type": "execute_result"
    }
   ],
   "source": [
    "pd.concat([x7, x8], verify_integrity=False)"
   ]
  },
  {
   "cell_type": "code",
   "execution_count": 88,
   "metadata": {
    "scrolled": false
   },
   "outputs": [],
   "source": [
    "# pd.concat([x7, x8], verify_integrity=True)   # verify_integrity에서 인덱스의 중복 여부를 판단하여 오류를 발생"
   ]
  },
  {
   "cell_type": "markdown",
   "metadata": {},
   "source": [
    "# Series 결합"
   ]
  },
  {
   "cell_type": "code",
   "execution_count": 89,
   "metadata": {
    "scrolled": false
   },
   "outputs": [
    {
     "data": {
      "text/plain": [
       "0    0\n",
       "1    1\n",
       "2    2\n",
       "0    3\n",
       "1    4\n",
       "2    5\n",
       "0    6\n",
       "1    7\n",
       "2    8\n",
       "dtype: int64"
      ]
     },
     "execution_count": 89,
     "metadata": {},
     "output_type": "execute_result"
    }
   ],
   "source": [
    "x1 = pd.Series([0, 1, 2])\n",
    "x2 = pd.Series([3, 4, 5])\n",
    "x3 = pd.Series([6, 7, 8])\n",
    "pd.concat([x1, x2, x3]) "
   ]
  },
  {
   "cell_type": "code",
   "execution_count": 90,
   "metadata": {
    "scrolled": true
   },
   "outputs": [
    {
     "data": {
      "text/plain": [
       "0    0\n",
       "1    1\n",
       "2    2\n",
       "0    3\n",
       "1    4\n",
       "2    5\n",
       "0    6\n",
       "1    7\n",
       "2    8\n",
       "dtype: int64"
      ]
     },
     "execution_count": 90,
     "metadata": {},
     "output_type": "execute_result"
    }
   ],
   "source": [
    "x1.append(x2).append(x3)"
   ]
  },
  {
   "cell_type": "code",
   "execution_count": 91,
   "metadata": {
    "scrolled": true
   },
   "outputs": [
    {
     "data": {
      "text/html": [
       "<div>\n",
       "<style scoped>\n",
       "    .dataframe tbody tr th:only-of-type {\n",
       "        vertical-align: middle;\n",
       "    }\n",
       "\n",
       "    .dataframe tbody tr th {\n",
       "        vertical-align: top;\n",
       "    }\n",
       "\n",
       "    .dataframe thead th {\n",
       "        text-align: right;\n",
       "    }\n",
       "</style>\n",
       "<table border=\"1\" class=\"dataframe\">\n",
       "  <thead>\n",
       "    <tr style=\"text-align: right;\">\n",
       "      <th></th>\n",
       "      <th>0</th>\n",
       "      <th>1</th>\n",
       "      <th>2</th>\n",
       "    </tr>\n",
       "  </thead>\n",
       "  <tbody>\n",
       "    <tr>\n",
       "      <th>0</th>\n",
       "      <td>0</td>\n",
       "      <td>3</td>\n",
       "      <td>6</td>\n",
       "    </tr>\n",
       "    <tr>\n",
       "      <th>1</th>\n",
       "      <td>1</td>\n",
       "      <td>4</td>\n",
       "      <td>7</td>\n",
       "    </tr>\n",
       "    <tr>\n",
       "      <th>2</th>\n",
       "      <td>2</td>\n",
       "      <td>5</td>\n",
       "      <td>8</td>\n",
       "    </tr>\n",
       "  </tbody>\n",
       "</table>\n",
       "</div>"
      ],
      "text/plain": [
       "   0  1  2\n",
       "0  0  3  6\n",
       "1  1  4  7\n",
       "2  2  5  8"
      ]
     },
     "execution_count": 91,
     "metadata": {},
     "output_type": "execute_result"
    }
   ],
   "source": [
    "pd.concat([x1, x2, x3], axis=1) "
   ]
  },
  {
   "cell_type": "code",
   "execution_count": 92,
   "metadata": {
    "scrolled": true
   },
   "outputs": [
    {
     "data": {
      "text/html": [
       "<div>\n",
       "<style scoped>\n",
       "    .dataframe tbody tr th:only-of-type {\n",
       "        vertical-align: middle;\n",
       "    }\n",
       "\n",
       "    .dataframe tbody tr th {\n",
       "        vertical-align: top;\n",
       "    }\n",
       "\n",
       "    .dataframe thead th {\n",
       "        text-align: right;\n",
       "    }\n",
       "</style>\n",
       "<table border=\"1\" class=\"dataframe\">\n",
       "  <thead>\n",
       "    <tr style=\"text-align: right;\">\n",
       "      <th></th>\n",
       "      <th>a</th>\n",
       "      <th>b</th>\n",
       "      <th>c</th>\n",
       "    </tr>\n",
       "  </thead>\n",
       "  <tbody>\n",
       "    <tr>\n",
       "      <th>0</th>\n",
       "      <td>0</td>\n",
       "      <td>3</td>\n",
       "      <td>6</td>\n",
       "    </tr>\n",
       "    <tr>\n",
       "      <th>1</th>\n",
       "      <td>1</td>\n",
       "      <td>4</td>\n",
       "      <td>7</td>\n",
       "    </tr>\n",
       "    <tr>\n",
       "      <th>2</th>\n",
       "      <td>2</td>\n",
       "      <td>5</td>\n",
       "      <td>8</td>\n",
       "    </tr>\n",
       "  </tbody>\n",
       "</table>\n",
       "</div>"
      ],
      "text/plain": [
       "   a  b  c\n",
       "0  0  3  6\n",
       "1  1  4  7\n",
       "2  2  5  8"
      ]
     },
     "execution_count": 92,
     "metadata": {},
     "output_type": "execute_result"
    }
   ],
   "source": [
    "pd.concat([x1, x2, x3], axis=1, keys=['a', 'b', 'c'])"
   ]
  },
  {
   "cell_type": "code",
   "execution_count": 93,
   "metadata": {
    "scrolled": true
   },
   "outputs": [
    {
     "data": {
      "text/html": [
       "<div>\n",
       "<style scoped>\n",
       "    .dataframe tbody tr th:only-of-type {\n",
       "        vertical-align: middle;\n",
       "    }\n",
       "\n",
       "    .dataframe tbody tr th {\n",
       "        vertical-align: top;\n",
       "    }\n",
       "\n",
       "    .dataframe thead th {\n",
       "        text-align: right;\n",
       "    }\n",
       "</style>\n",
       "<table border=\"1\" class=\"dataframe\">\n",
       "  <thead>\n",
       "    <tr style=\"text-align: right;\">\n",
       "      <th></th>\n",
       "      <th>S1</th>\n",
       "      <th>A</th>\n",
       "      <th>B</th>\n",
       "      <th>C</th>\n",
       "      <th>D</th>\n",
       "    </tr>\n",
       "  </thead>\n",
       "  <tbody>\n",
       "    <tr>\n",
       "      <th>0</th>\n",
       "      <td>0</td>\n",
       "      <td>0</td>\n",
       "      <td>1</td>\n",
       "      <td>2</td>\n",
       "      <td>3</td>\n",
       "    </tr>\n",
       "    <tr>\n",
       "      <th>1</th>\n",
       "      <td>1</td>\n",
       "      <td>4</td>\n",
       "      <td>5</td>\n",
       "      <td>6</td>\n",
       "      <td>7</td>\n",
       "    </tr>\n",
       "    <tr>\n",
       "      <th>2</th>\n",
       "      <td>2</td>\n",
       "      <td>8</td>\n",
       "      <td>9</td>\n",
       "      <td>10</td>\n",
       "      <td>11</td>\n",
       "    </tr>\n",
       "  </tbody>\n",
       "</table>\n",
       "</div>"
      ],
      "text/plain": [
       "   S1  A  B   C   D\n",
       "0   0  0  1   2   3\n",
       "1   1  4  5   6   7\n",
       "2   2  8  9  10  11"
      ]
     },
     "execution_count": 93,
     "metadata": {},
     "output_type": "execute_result"
    }
   ],
   "source": [
    "s1 = pd.Series(np.arange(3), name='S1')\n",
    "df1 = pd.DataFrame(np.arange(12).reshape(3, 4),\n",
    "                  columns = list('ABCD'),\n",
    "                  index = np.arange(3))\n",
    "pd.concat([s1, df1], axis=1) "
   ]
  },
  {
   "cell_type": "code",
   "execution_count": 94,
   "metadata": {
    "scrolled": true
   },
   "outputs": [
    {
     "data": {
      "text/html": [
       "<div>\n",
       "<style scoped>\n",
       "    .dataframe tbody tr th:only-of-type {\n",
       "        vertical-align: middle;\n",
       "    }\n",
       "\n",
       "    .dataframe tbody tr th {\n",
       "        vertical-align: top;\n",
       "    }\n",
       "\n",
       "    .dataframe thead th {\n",
       "        text-align: right;\n",
       "    }\n",
       "</style>\n",
       "<table border=\"1\" class=\"dataframe\">\n",
       "  <thead>\n",
       "    <tr style=\"text-align: right;\">\n",
       "      <th></th>\n",
       "      <th>0</th>\n",
       "      <th>1</th>\n",
       "      <th>2</th>\n",
       "      <th>3</th>\n",
       "      <th>4</th>\n",
       "    </tr>\n",
       "  </thead>\n",
       "  <tbody>\n",
       "    <tr>\n",
       "      <th>0</th>\n",
       "      <td>0</td>\n",
       "      <td>0</td>\n",
       "      <td>1</td>\n",
       "      <td>2</td>\n",
       "      <td>3</td>\n",
       "    </tr>\n",
       "    <tr>\n",
       "      <th>1</th>\n",
       "      <td>1</td>\n",
       "      <td>4</td>\n",
       "      <td>5</td>\n",
       "      <td>6</td>\n",
       "      <td>7</td>\n",
       "    </tr>\n",
       "    <tr>\n",
       "      <th>2</th>\n",
       "      <td>2</td>\n",
       "      <td>8</td>\n",
       "      <td>9</td>\n",
       "      <td>10</td>\n",
       "      <td>11</td>\n",
       "    </tr>\n",
       "  </tbody>\n",
       "</table>\n",
       "</div>"
      ],
      "text/plain": [
       "   0  1  2   3   4\n",
       "0  0  0  1   2   3\n",
       "1  1  4  5   6   7\n",
       "2  2  8  9  10  11"
      ]
     },
     "execution_count": 94,
     "metadata": {},
     "output_type": "execute_result"
    }
   ],
   "source": [
    "pd.concat([s1, df1], axis=1, ignore_index=True)"
   ]
  },
  {
   "cell_type": "code",
   "execution_count": 95,
   "metadata": {
    "scrolled": true
   },
   "outputs": [
    {
     "data": {
      "text/html": [
       "<div>\n",
       "<style scoped>\n",
       "    .dataframe tbody tr th:only-of-type {\n",
       "        vertical-align: middle;\n",
       "    }\n",
       "\n",
       "    .dataframe tbody tr th {\n",
       "        vertical-align: top;\n",
       "    }\n",
       "\n",
       "    .dataframe thead th {\n",
       "        text-align: right;\n",
       "    }\n",
       "</style>\n",
       "<table border=\"1\" class=\"dataframe\">\n",
       "  <thead>\n",
       "    <tr style=\"text-align: right;\">\n",
       "      <th></th>\n",
       "      <th>A</th>\n",
       "      <th>B</th>\n",
       "      <th>C</th>\n",
       "      <th>D</th>\n",
       "      <th>E</th>\n",
       "    </tr>\n",
       "  </thead>\n",
       "  <tbody>\n",
       "    <tr>\n",
       "      <th>0</th>\n",
       "      <td>0.0</td>\n",
       "      <td>1.0</td>\n",
       "      <td>2.0</td>\n",
       "      <td>3.0</td>\n",
       "      <td>NaN</td>\n",
       "    </tr>\n",
       "    <tr>\n",
       "      <th>1</th>\n",
       "      <td>4.0</td>\n",
       "      <td>5.0</td>\n",
       "      <td>6.0</td>\n",
       "      <td>7.0</td>\n",
       "      <td>NaN</td>\n",
       "    </tr>\n",
       "    <tr>\n",
       "      <th>2</th>\n",
       "      <td>8.0</td>\n",
       "      <td>9.0</td>\n",
       "      <td>10.0</td>\n",
       "      <td>11.0</td>\n",
       "      <td>NaN</td>\n",
       "    </tr>\n",
       "    <tr>\n",
       "      <th>3</th>\n",
       "      <td>0.0</td>\n",
       "      <td>1.0</td>\n",
       "      <td>2.0</td>\n",
       "      <td>NaN</td>\n",
       "      <td>3.0</td>\n",
       "    </tr>\n",
       "  </tbody>\n",
       "</table>\n",
       "</div>"
      ],
      "text/plain": [
       "     A    B     C     D    E\n",
       "0  0.0  1.0   2.0   3.0  NaN\n",
       "1  4.0  5.0   6.0   7.0  NaN\n",
       "2  8.0  9.0  10.0  11.0  NaN\n",
       "3  0.0  1.0   2.0   NaN  3.0"
      ]
     },
     "execution_count": 95,
     "metadata": {},
     "output_type": "execute_result"
    }
   ],
   "source": [
    "s2 = pd.Series(np.arange(4), index=list('ABCE'))\n",
    "df1.append(s2, ignore_index=True) "
   ]
  },
  {
   "cell_type": "markdown",
   "metadata": {},
   "source": [
    "# merge 함수 결합"
   ]
  },
  {
   "cell_type": "code",
   "execution_count": 96,
   "metadata": {
    "scrolled": true
   },
   "outputs": [
    {
     "name": "stdout",
     "output_type": "stream",
     "text": [
      "   a   b   c\n",
      "0  0  10  20\n",
      "1  1  11  21\n",
      "2  2  12  22\n",
      "3  3  13  23\n",
      "   a   c   d\n",
      "0  2  32  42\n",
      "1  3  33  43\n",
      "2  4  34  44\n",
      "3  5  35  45\n"
     ]
    }
   ],
   "source": [
    "df1 = pd.DataFrame({'a' : [0, 1, 2, 3],\n",
    "                   'b' : [10, 11, 12, 13],\n",
    "                   'c' : [20, 21, 22, 23]})\n",
    "df2 = pd.DataFrame({'a' : [2, 3, 4, 5],\n",
    "                   'c' : [32, 33, 34, 35],\n",
    "                   'd' : [42, 43, 44, 45]})\n",
    "print(df1)\n",
    "print(df2) "
   ]
  },
  {
   "cell_type": "code",
   "execution_count": 97,
   "metadata": {
    "scrolled": true
   },
   "outputs": [
    {
     "name": "stdout",
     "output_type": "stream",
     "text": [
      "   a   b  c_x   c_y     d\n",
      "0  0  10   20   NaN   NaN\n",
      "1  1  11   21   NaN   NaN\n",
      "2  2  12   22  32.0  42.0\n",
      "3  3  13   23  33.0  43.0\n",
      "   a     b   c_x  c_y   d\n",
      "0  2  12.0  22.0   32  42\n",
      "1  3  13.0  23.0   33  43\n",
      "2  4   NaN   NaN   34  44\n",
      "3  5   NaN   NaN   35  45\n"
     ]
    }
   ],
   "source": [
    "print(pd.merge(df1, df2, how='left', on='a'))\n",
    "print(pd.merge(df1, df2, how='right', on='a')) \n",
    "# merge 는 dataframe df1과 df2를 합치겠다는 뜻\n",
    "# how='left', 'right'는 어떤 dataframe을 기준으로 합칠지를 결정\n",
    "# on='a'는 기준이 되는 dataframe의 'a'에 있는 값만 가져오겠다는 뜻\n",
    "# 첫번째 코드를 보면 how='left' 이고 on='a' 이기 때문에 df1의 a인 0, 1, 2, 3만 가져옴\n",
    "# 반대로 두 번째 코드는 2, 3, 4, 5만 가져옴"
   ]
  },
  {
   "cell_type": "code",
   "execution_count": 98,
   "metadata": {
    "scrolled": true
   },
   "outputs": [
    {
     "name": "stdout",
     "output_type": "stream",
     "text": [
      "   a   b  c_x  c_y   d\n",
      "0  2  12   22   32  42\n",
      "1  3  13   23   33  43\n",
      "   a     b   c_x   c_y     d\n",
      "0  0  10.0  20.0   NaN   NaN\n",
      "1  1  11.0  21.0   NaN   NaN\n",
      "2  2  12.0  22.0  32.0  42.0\n",
      "3  3  13.0  23.0  33.0  43.0\n",
      "4  4   NaN   NaN  34.0  44.0\n",
      "5  5   NaN   NaN  35.0  45.0\n",
      "   a   b  c_x  c_y   d\n",
      "0  2  12   22   32  42\n",
      "1  3  13   23   33  43\n"
     ]
    }
   ],
   "source": [
    "print(pd.merge(df1, df2, on='a'))\n",
    "print(pd.merge(df1, df2, how='outer', on='a'))\n",
    "print(pd.merge(df1, df2, how='inner', on='a')) "
   ]
  },
  {
   "cell_type": "code",
   "execution_count": 99,
   "metadata": {
    "scrolled": true
   },
   "outputs": [
    {
     "data": {
      "text/html": [
       "<div>\n",
       "<style scoped>\n",
       "    .dataframe tbody tr th:only-of-type {\n",
       "        vertical-align: middle;\n",
       "    }\n",
       "\n",
       "    .dataframe tbody tr th {\n",
       "        vertical-align: top;\n",
       "    }\n",
       "\n",
       "    .dataframe thead th {\n",
       "        text-align: right;\n",
       "    }\n",
       "</style>\n",
       "<table border=\"1\" class=\"dataframe\">\n",
       "  <thead>\n",
       "    <tr style=\"text-align: right;\">\n",
       "      <th></th>\n",
       "      <th>a</th>\n",
       "      <th>b</th>\n",
       "      <th>c_x</th>\n",
       "      <th>c_y</th>\n",
       "      <th>d</th>\n",
       "      <th>_merge</th>\n",
       "    </tr>\n",
       "  </thead>\n",
       "  <tbody>\n",
       "    <tr>\n",
       "      <th>0</th>\n",
       "      <td>0</td>\n",
       "      <td>10.0</td>\n",
       "      <td>20.0</td>\n",
       "      <td>NaN</td>\n",
       "      <td>NaN</td>\n",
       "      <td>left_only</td>\n",
       "    </tr>\n",
       "    <tr>\n",
       "      <th>1</th>\n",
       "      <td>1</td>\n",
       "      <td>11.0</td>\n",
       "      <td>21.0</td>\n",
       "      <td>NaN</td>\n",
       "      <td>NaN</td>\n",
       "      <td>left_only</td>\n",
       "    </tr>\n",
       "    <tr>\n",
       "      <th>2</th>\n",
       "      <td>2</td>\n",
       "      <td>12.0</td>\n",
       "      <td>22.0</td>\n",
       "      <td>32.0</td>\n",
       "      <td>42.0</td>\n",
       "      <td>both</td>\n",
       "    </tr>\n",
       "    <tr>\n",
       "      <th>3</th>\n",
       "      <td>3</td>\n",
       "      <td>13.0</td>\n",
       "      <td>23.0</td>\n",
       "      <td>33.0</td>\n",
       "      <td>43.0</td>\n",
       "      <td>both</td>\n",
       "    </tr>\n",
       "    <tr>\n",
       "      <th>4</th>\n",
       "      <td>4</td>\n",
       "      <td>NaN</td>\n",
       "      <td>NaN</td>\n",
       "      <td>34.0</td>\n",
       "      <td>44.0</td>\n",
       "      <td>right_only</td>\n",
       "    </tr>\n",
       "    <tr>\n",
       "      <th>5</th>\n",
       "      <td>5</td>\n",
       "      <td>NaN</td>\n",
       "      <td>NaN</td>\n",
       "      <td>35.0</td>\n",
       "      <td>45.0</td>\n",
       "      <td>right_only</td>\n",
       "    </tr>\n",
       "  </tbody>\n",
       "</table>\n",
       "</div>"
      ],
      "text/plain": [
       "   a     b   c_x   c_y     d      _merge\n",
       "0  0  10.0  20.0   NaN   NaN   left_only\n",
       "1  1  11.0  21.0   NaN   NaN   left_only\n",
       "2  2  12.0  22.0  32.0  42.0        both\n",
       "3  3  13.0  23.0  33.0  43.0        both\n",
       "4  4   NaN   NaN  34.0  44.0  right_only\n",
       "5  5   NaN   NaN  35.0  45.0  right_only"
      ]
     },
     "execution_count": 99,
     "metadata": {},
     "output_type": "execute_result"
    }
   ],
   "source": [
    "pd.merge(df1, df2, how='outer', on='a', indicator=True) "
   ]
  },
  {
   "cell_type": "code",
   "execution_count": 100,
   "metadata": {
    "scrolled": true
   },
   "outputs": [
    {
     "data": {
      "text/html": [
       "<div>\n",
       "<style scoped>\n",
       "    .dataframe tbody tr th:only-of-type {\n",
       "        vertical-align: middle;\n",
       "    }\n",
       "\n",
       "    .dataframe tbody tr th {\n",
       "        vertical-align: top;\n",
       "    }\n",
       "\n",
       "    .dataframe thead th {\n",
       "        text-align: right;\n",
       "    }\n",
       "</style>\n",
       "<table border=\"1\" class=\"dataframe\">\n",
       "  <thead>\n",
       "    <tr style=\"text-align: right;\">\n",
       "      <th></th>\n",
       "      <th>a</th>\n",
       "      <th>b</th>\n",
       "      <th>c_x</th>\n",
       "      <th>c_y</th>\n",
       "      <th>d</th>\n",
       "      <th>info</th>\n",
       "    </tr>\n",
       "  </thead>\n",
       "  <tbody>\n",
       "    <tr>\n",
       "      <th>0</th>\n",
       "      <td>0</td>\n",
       "      <td>10.0</td>\n",
       "      <td>20.0</td>\n",
       "      <td>NaN</td>\n",
       "      <td>NaN</td>\n",
       "      <td>left_only</td>\n",
       "    </tr>\n",
       "    <tr>\n",
       "      <th>1</th>\n",
       "      <td>1</td>\n",
       "      <td>11.0</td>\n",
       "      <td>21.0</td>\n",
       "      <td>NaN</td>\n",
       "      <td>NaN</td>\n",
       "      <td>left_only</td>\n",
       "    </tr>\n",
       "    <tr>\n",
       "      <th>2</th>\n",
       "      <td>2</td>\n",
       "      <td>12.0</td>\n",
       "      <td>22.0</td>\n",
       "      <td>32.0</td>\n",
       "      <td>42.0</td>\n",
       "      <td>both</td>\n",
       "    </tr>\n",
       "    <tr>\n",
       "      <th>3</th>\n",
       "      <td>3</td>\n",
       "      <td>13.0</td>\n",
       "      <td>23.0</td>\n",
       "      <td>33.0</td>\n",
       "      <td>43.0</td>\n",
       "      <td>both</td>\n",
       "    </tr>\n",
       "    <tr>\n",
       "      <th>4</th>\n",
       "      <td>4</td>\n",
       "      <td>NaN</td>\n",
       "      <td>NaN</td>\n",
       "      <td>34.0</td>\n",
       "      <td>44.0</td>\n",
       "      <td>right_only</td>\n",
       "    </tr>\n",
       "    <tr>\n",
       "      <th>5</th>\n",
       "      <td>5</td>\n",
       "      <td>NaN</td>\n",
       "      <td>NaN</td>\n",
       "      <td>35.0</td>\n",
       "      <td>45.0</td>\n",
       "      <td>right_only</td>\n",
       "    </tr>\n",
       "  </tbody>\n",
       "</table>\n",
       "</div>"
      ],
      "text/plain": [
       "   a     b   c_x   c_y     d        info\n",
       "0  0  10.0  20.0   NaN   NaN   left_only\n",
       "1  1  11.0  21.0   NaN   NaN   left_only\n",
       "2  2  12.0  22.0  32.0  42.0        both\n",
       "3  3  13.0  23.0  33.0  43.0        both\n",
       "4  4   NaN   NaN  34.0  44.0  right_only\n",
       "5  5   NaN   NaN  35.0  45.0  right_only"
      ]
     },
     "execution_count": 100,
     "metadata": {},
     "output_type": "execute_result"
    }
   ],
   "source": [
    "pd.merge(df1, df2, how='outer', on='a', indicator='info') "
   ]
  },
  {
   "cell_type": "code",
   "execution_count": 101,
   "metadata": {
    "scrolled": true
   },
   "outputs": [
    {
     "data": {
      "text/html": [
       "<div>\n",
       "<style scoped>\n",
       "    .dataframe tbody tr th:only-of-type {\n",
       "        vertical-align: middle;\n",
       "    }\n",
       "\n",
       "    .dataframe tbody tr th {\n",
       "        vertical-align: top;\n",
       "    }\n",
       "\n",
       "    .dataframe thead th {\n",
       "        text-align: right;\n",
       "    }\n",
       "</style>\n",
       "<table border=\"1\" class=\"dataframe\">\n",
       "  <thead>\n",
       "    <tr style=\"text-align: right;\">\n",
       "      <th></th>\n",
       "      <th>a</th>\n",
       "      <th>b</th>\n",
       "      <th>cleft</th>\n",
       "      <th>cright</th>\n",
       "      <th>d</th>\n",
       "    </tr>\n",
       "  </thead>\n",
       "  <tbody>\n",
       "    <tr>\n",
       "      <th>0</th>\n",
       "      <td>2</td>\n",
       "      <td>12</td>\n",
       "      <td>22</td>\n",
       "      <td>32</td>\n",
       "      <td>42</td>\n",
       "    </tr>\n",
       "    <tr>\n",
       "      <th>1</th>\n",
       "      <td>3</td>\n",
       "      <td>13</td>\n",
       "      <td>23</td>\n",
       "      <td>33</td>\n",
       "      <td>43</td>\n",
       "    </tr>\n",
       "  </tbody>\n",
       "</table>\n",
       "</div>"
      ],
      "text/plain": [
       "   a   b  cleft  cright   d\n",
       "0  2  12     22      32  42\n",
       "1  3  13     23      33  43"
      ]
     },
     "execution_count": 101,
     "metadata": {},
     "output_type": "execute_result"
    }
   ],
   "source": [
    "pd.merge(df1, df2, how='inner', on='a', suffixes=('left', 'right'))"
   ]
  },
  {
   "cell_type": "markdown",
   "metadata": {},
   "source": [
    "# join 함수"
   ]
  },
  {
   "cell_type": "code",
   "execution_count": 102,
   "metadata": {
    "scrolled": true
   },
   "outputs": [
    {
     "name": "stdout",
     "output_type": "stream",
     "text": [
      "    a   b\n",
      "0  10  20\n",
      "1  11  21\n",
      "2  12  22\n",
      "3  13  23\n",
      "    c   d\n",
      "2  32  42\n",
      "3  33  43\n",
      "4  34  44\n",
      "5  35  45\n"
     ]
    }
   ],
   "source": [
    "df1 = pd.DataFrame({'a': [10, 11, 12, 13],\n",
    "                   'b': [20, 21, 22, 23]},\n",
    "                  index = [0, 1, 2, 3])\n",
    "df2 = pd.DataFrame({'c': [32, 33, 34, 35],\n",
    "                   'd': [42, 43, 44, 45]},\n",
    "                  index = [2, 3, 4, 5])\n",
    "print(df1)\n",
    "print(df2) "
   ]
  },
  {
   "cell_type": "code",
   "execution_count": 103,
   "metadata": {
    "scrolled": true
   },
   "outputs": [
    {
     "name": "stdout",
     "output_type": "stream",
     "text": [
      "    a   b     c     d\n",
      "0  10  20   NaN   NaN\n",
      "1  11  21   NaN   NaN\n",
      "2  12  22  32.0  42.0\n",
      "3  13  23  33.0  43.0\n",
      "    a   b     c     d\n",
      "0  10  20   NaN   NaN\n",
      "1  11  21   NaN   NaN\n",
      "2  12  22  32.0  42.0\n",
      "3  13  23  33.0  43.0\n"
     ]
    }
   ],
   "source": [
    "print(pd.merge(df1, df2, left_index=True, right_index=True, how='left'))\n",
    "print(df1.join(df2, how='left')) "
   ]
  },
  {
   "cell_type": "code",
   "execution_count": 104,
   "metadata": {
    "scrolled": true
   },
   "outputs": [
    {
     "name": "stdout",
     "output_type": "stream",
     "text": [
      "      a     b   c   d\n",
      "2  12.0  22.0  32  42\n",
      "3  13.0  23.0  33  43\n",
      "4   NaN   NaN  34  44\n",
      "5   NaN   NaN  35  45\n",
      "      a     b   c   d\n",
      "2  12.0  22.0  32  42\n",
      "3  13.0  23.0  33  43\n",
      "4   NaN   NaN  34  44\n",
      "5   NaN   NaN  35  45\n"
     ]
    }
   ],
   "source": [
    "print(pd.merge(df1, df2, left_index=True, right_index=True, how='right'))\n",
    "print(df1.join(df2, how='right')) "
   ]
  },
  {
   "cell_type": "code",
   "execution_count": 105,
   "metadata": {
    "scrolled": false
   },
   "outputs": [
    {
     "name": "stdout",
     "output_type": "stream",
     "text": [
      "    a   b   c   d\n",
      "2  12  22  32  42\n",
      "3  13  23  33  43\n",
      "    a   b   c   d\n",
      "2  12  22  32  42\n",
      "3  13  23  33  43\n",
      "      a     b     c     d\n",
      "0  10.0  20.0   NaN   NaN\n",
      "1  11.0  21.0   NaN   NaN\n",
      "2  12.0  22.0  32.0  42.0\n",
      "3  13.0  23.0  33.0  43.0\n",
      "4   NaN   NaN  34.0  44.0\n",
      "5   NaN   NaN  35.0  45.0\n",
      "      a     b     c     d\n",
      "0  10.0  20.0   NaN   NaN\n",
      "1  11.0  21.0   NaN   NaN\n",
      "2  12.0  22.0  32.0  42.0\n",
      "3  13.0  23.0  33.0  43.0\n",
      "4   NaN   NaN  34.0  44.0\n",
      "5   NaN   NaN  35.0  45.0\n"
     ]
    }
   ],
   "source": [
    "print(pd.merge(df1, df2, left_index=True, right_index=True, how='inner'))\n",
    "print(df1.join(df2, how='inner'))\n",
    "print(pd.merge(df1, df2, left_index=True, right_index=True, how='outer'))\n",
    "print(df1.join(df2, how='outer')) \n",
    "\n",
    "# merge 함수와 join 함수의 차이를 보면, \n",
    "# merge 함수의 경우 on 속성을 이용하여 열을 기준으로 결합을 진행\n",
    "# join 함수의 경우에는 left_index, right_index를 이용하여 인덱스를 기준으로 결합"
   ]
  },
  {
   "cell_type": "code",
   "execution_count": 106,
   "metadata": {
    "scrolled": true
   },
   "outputs": [
    {
     "name": "stdout",
     "output_type": "stream",
     "text": [
      "   i   a   b\n",
      "0  0  10  20\n",
      "1  1  11  21\n",
      "2  2  12  22\n",
      "3  3  13  23\n",
      "    c   d\n",
      "2  32  42\n",
      "3  33  43\n",
      "4  34  44\n",
      "5  35  45\n"
     ]
    }
   ],
   "source": [
    "df3 = pd.DataFrame({'i': [0, 1, 2, 3],\n",
    "                   'a': [10, 11, 12, 13],\n",
    "                   'b': [20, 21, 22, 23]})\n",
    "df4 = pd.DataFrame({'c': [32, 33, 34, 35],\n",
    "                   'd': [42, 43, 44, 45]},\n",
    "                  index = [2, 3, 4, 5])\n",
    "print(df3)\n",
    "print(df4) "
   ]
  },
  {
   "cell_type": "code",
   "execution_count": 107,
   "metadata": {
    "scrolled": true
   },
   "outputs": [
    {
     "name": "stdout",
     "output_type": "stream",
     "text": [
      "   i   a   b     c     d\n",
      "0  0  10  20   NaN   NaN\n",
      "1  1  11  21   NaN   NaN\n",
      "2  2  12  22  32.0  42.0\n",
      "3  3  13  23  33.0  43.0\n",
      "   i   a   b     c     d\n",
      "0  0  10  20   NaN   NaN\n",
      "1  1  11  21   NaN   NaN\n",
      "2  2  12  22  32.0  42.0\n",
      "3  3  13  23  33.0  43.0\n",
      "     i     a     b   c   d\n",
      "2.0  2  12.0  22.0  32  42\n",
      "3.0  3  13.0  23.0  33  43\n",
      "NaN  4   NaN   NaN  34  44\n",
      "NaN  5   NaN   NaN  35  45\n",
      "     i     a     b   c   d\n",
      "2.0  2  12.0  22.0  32  42\n",
      "3.0  3  13.0  23.0  33  43\n",
      "NaN  4   NaN   NaN  34  44\n",
      "NaN  5   NaN   NaN  35  45\n"
     ]
    }
   ],
   "source": [
    "print(pd.merge(df3, df4, left_on='i', right_index=True, how='left'))\n",
    "print(df3.join(df4, on='i', how='left'))\n",
    "print(pd.merge(df3, df4, left_on='i', right_index=True, how='right'))\n",
    "print(df3.join(df4, on='i', how='right')) "
   ]
  },
  {
   "cell_type": "code",
   "execution_count": 108,
   "metadata": {
    "scrolled": true
   },
   "outputs": [
    {
     "name": "stdout",
     "output_type": "stream",
     "text": [
      "   i   a   b   c   d\n",
      "2  2  12  22  32  42\n",
      "3  3  13  23  33  43\n",
      "   i   a   b   c   d\n",
      "2  2  12  22  32  42\n",
      "3  3  13  23  33  43\n",
      "     i     a     b     c     d\n",
      "0.0  0  10.0  20.0   NaN   NaN\n",
      "1.0  1  11.0  21.0   NaN   NaN\n",
      "2.0  2  12.0  22.0  32.0  42.0\n",
      "3.0  3  13.0  23.0  33.0  43.0\n",
      "NaN  4   NaN   NaN  34.0  44.0\n",
      "NaN  5   NaN   NaN  35.0  45.0\n",
      "     i     a     b     c     d\n",
      "0.0  0  10.0  20.0   NaN   NaN\n",
      "1.0  1  11.0  21.0   NaN   NaN\n",
      "2.0  2  12.0  22.0  32.0  42.0\n",
      "3.0  3  13.0  23.0  33.0  43.0\n",
      "NaN  4   NaN   NaN  34.0  44.0\n",
      "NaN  5   NaN   NaN  35.0  45.0\n"
     ]
    }
   ],
   "source": [
    "print(pd.merge(df3, df4, left_on='i', right_index=True, how='inner'))\n",
    "print(df3.join(df4, on='i', how='inner'))\n",
    "print(pd.merge(df3, df4, left_on='i', right_index=True, how='outer'))\n",
    "print(df3.join(df4, on='i', how='outer')) "
   ]
  },
  {
   "cell_type": "markdown",
   "metadata": {},
   "source": [
    "# 파일 입출력"
   ]
  },
  {
   "cell_type": "code",
   "execution_count": 109,
   "metadata": {
    "scrolled": true
   },
   "outputs": [
    {
     "name": "stdout",
     "output_type": "stream",
     "text": [
      "   subj  score   avg\n",
      "a  math  100.0  95.2\n",
      "b  comp   95.0  66.1\n",
      "c  phys   85.0  69.5\n",
      "d  chem   75.0  86.8\n",
      "e  biol   80.0  91.2\n",
      "f   NaN    NaN   NaN\n"
     ]
    }
   ],
   "source": [
    "x = {'subj': ['math', 'comp', 'phys', 'chem', 'biol'],\n",
    "    'score': [100, 95, 85, 75, 80],\n",
    "    'avg': [95.2, 66.1, 69.5, 86.8, 91.2]}\n",
    "df1 = pd.DataFrame(x, index=list('abcde'))\n",
    "df2 = df1.reindex(list('abcdef'))\n",
    "\n",
    "print(df2) "
   ]
  },
  {
   "cell_type": "code",
   "execution_count": 110,
   "metadata": {},
   "outputs": [],
   "source": [
    "df2.to_csv('./df2.csv', sep=',', na_rep='NaN')\n",
    "df2.to_csv('./df2_ind.csv', sep=',', na_rep='NaN', index=False) "
   ]
  },
  {
   "cell_type": "code",
   "execution_count": 111,
   "metadata": {
    "scrolled": true
   },
   "outputs": [],
   "source": [
    "## 이 코드는 윈도우 환경에서만 가능함\n",
    "# import win32com.client\n",
    "# def openEx(fn):\n",
    "#     \"\"\" 엑셀 어플리케이션 선언 \"\"\"\n",
    "#     excel = win32com.client.Dispatch(\"Excel.Application\")\n",
    "#     \"\"\" 엑셀 프로그램 보여지게 함 \"\"\"\n",
    "#     excel.Visible = True\n",
    "#     \"\"\" 워크북 을 읽어 들인다. \"\"\"\n",
    "#     wb = excel.Workbooks.Open(fn)\n",
    "\n",
    "# import os\n",
    "# openEx(os.getcwd() + '/df2.csv')\n",
    "# openEx(os.getcwd() + '/df2_ind.csv')"
   ]
  },
  {
   "cell_type": "code",
   "execution_count": 112,
   "metadata": {
    "scrolled": true
   },
   "outputs": [
    {
     "data": {
      "text/html": [
       "<div>\n",
       "<style scoped>\n",
       "    .dataframe tbody tr th:only-of-type {\n",
       "        vertical-align: middle;\n",
       "    }\n",
       "\n",
       "    .dataframe tbody tr th {\n",
       "        vertical-align: top;\n",
       "    }\n",
       "\n",
       "    .dataframe thead th {\n",
       "        text-align: right;\n",
       "    }\n",
       "</style>\n",
       "<table border=\"1\" class=\"dataframe\">\n",
       "  <thead>\n",
       "    <tr style=\"text-align: right;\">\n",
       "      <th></th>\n",
       "      <th>subj</th>\n",
       "      <th>score</th>\n",
       "      <th>avg</th>\n",
       "    </tr>\n",
       "  </thead>\n",
       "  <tbody>\n",
       "    <tr>\n",
       "      <th>a</th>\n",
       "      <td>math</td>\n",
       "      <td>100.0</td>\n",
       "      <td>95.2</td>\n",
       "    </tr>\n",
       "    <tr>\n",
       "      <th>b</th>\n",
       "      <td>comp</td>\n",
       "      <td>95.0</td>\n",
       "      <td>66.1</td>\n",
       "    </tr>\n",
       "    <tr>\n",
       "      <th>c</th>\n",
       "      <td>phys</td>\n",
       "      <td>85.0</td>\n",
       "      <td>69.5</td>\n",
       "    </tr>\n",
       "    <tr>\n",
       "      <th>d</th>\n",
       "      <td>chem</td>\n",
       "      <td>75.0</td>\n",
       "      <td>86.8</td>\n",
       "    </tr>\n",
       "    <tr>\n",
       "      <th>e</th>\n",
       "      <td>biol</td>\n",
       "      <td>80.0</td>\n",
       "      <td>91.2</td>\n",
       "    </tr>\n",
       "    <tr>\n",
       "      <th>f</th>\n",
       "      <td>NaN</td>\n",
       "      <td>NaN</td>\n",
       "      <td>NaN</td>\n",
       "    </tr>\n",
       "  </tbody>\n",
       "</table>\n",
       "</div>"
      ],
      "text/plain": [
       "   subj  score   avg\n",
       "a  math  100.0  95.2\n",
       "b  comp   95.0  66.1\n",
       "c  phys   85.0  69.5\n",
       "d  chem   75.0  86.8\n",
       "e  biol   80.0  91.2\n",
       "f   NaN    NaN   NaN"
      ]
     },
     "execution_count": 112,
     "metadata": {},
     "output_type": "execute_result"
    }
   ],
   "source": [
    "df = pd.read_csv('df3.csv', index_col=0, sep='|')\n",
    "df"
   ]
  },
  {
   "cell_type": "code",
   "execution_count": 113,
   "metadata": {
    "scrolled": true
   },
   "outputs": [
    {
     "data": {
      "text/html": [
       "<div>\n",
       "<style scoped>\n",
       "    .dataframe tbody tr th:only-of-type {\n",
       "        vertical-align: middle;\n",
       "    }\n",
       "\n",
       "    .dataframe tbody tr th {\n",
       "        vertical-align: top;\n",
       "    }\n",
       "\n",
       "    .dataframe thead th {\n",
       "        text-align: right;\n",
       "    }\n",
       "</style>\n",
       "<table border=\"1\" class=\"dataframe\">\n",
       "  <thead>\n",
       "    <tr style=\"text-align: right;\">\n",
       "      <th></th>\n",
       "      <th>subj</th>\n",
       "      <th>score</th>\n",
       "      <th>avg</th>\n",
       "    </tr>\n",
       "  </thead>\n",
       "  <tbody>\n",
       "    <tr>\n",
       "      <th>0</th>\n",
       "      <td>math</td>\n",
       "      <td>100.0</td>\n",
       "      <td>95.2</td>\n",
       "    </tr>\n",
       "    <tr>\n",
       "      <th>1</th>\n",
       "      <td>comp</td>\n",
       "      <td>95.0</td>\n",
       "      <td>66.1</td>\n",
       "    </tr>\n",
       "    <tr>\n",
       "      <th>2</th>\n",
       "      <td>phys</td>\n",
       "      <td>85.0</td>\n",
       "      <td>69.5</td>\n",
       "    </tr>\n",
       "    <tr>\n",
       "      <th>3</th>\n",
       "      <td>chem</td>\n",
       "      <td>75.0</td>\n",
       "      <td>86.8</td>\n",
       "    </tr>\n",
       "    <tr>\n",
       "      <th>4</th>\n",
       "      <td>biol</td>\n",
       "      <td>80.0</td>\n",
       "      <td>91.2</td>\n",
       "    </tr>\n",
       "    <tr>\n",
       "      <th>5</th>\n",
       "      <td>NaN</td>\n",
       "      <td>NaN</td>\n",
       "      <td>NaN</td>\n",
       "    </tr>\n",
       "  </tbody>\n",
       "</table>\n",
       "</div>"
      ],
      "text/plain": [
       "   subj  score   avg\n",
       "0  math  100.0  95.2\n",
       "1  comp   95.0  66.1\n",
       "2  phys   85.0  69.5\n",
       "3  chem   75.0  86.8\n",
       "4  biol   80.0  91.2\n",
       "5   NaN    NaN   NaN"
      ]
     },
     "execution_count": 113,
     "metadata": {},
     "output_type": "execute_result"
    }
   ],
   "source": [
    "df3 = pd.read_csv('./df2_ind.csv')\n",
    "df3 "
   ]
  },
  {
   "cell_type": "code",
   "execution_count": 114,
   "metadata": {
    "scrolled": true
   },
   "outputs": [
    {
     "data": {
      "text/html": [
       "<div>\n",
       "<style scoped>\n",
       "    .dataframe tbody tr th:only-of-type {\n",
       "        vertical-align: middle;\n",
       "    }\n",
       "\n",
       "    .dataframe tbody tr th {\n",
       "        vertical-align: top;\n",
       "    }\n",
       "\n",
       "    .dataframe thead th {\n",
       "        text-align: right;\n",
       "    }\n",
       "</style>\n",
       "<table border=\"1\" class=\"dataframe\">\n",
       "  <thead>\n",
       "    <tr style=\"text-align: right;\">\n",
       "      <th></th>\n",
       "      <th>subj</th>\n",
       "      <th>score</th>\n",
       "      <th>avg</th>\n",
       "    </tr>\n",
       "  </thead>\n",
       "  <tbody>\n",
       "    <tr>\n",
       "      <th>0</th>\n",
       "      <td>math</td>\n",
       "      <td>100.0</td>\n",
       "      <td>95.2</td>\n",
       "    </tr>\n",
       "    <tr>\n",
       "      <th>1</th>\n",
       "      <td>comp</td>\n",
       "      <td>95.0</td>\n",
       "      <td>66.1</td>\n",
       "    </tr>\n",
       "    <tr>\n",
       "      <th>2</th>\n",
       "      <td>phys</td>\n",
       "      <td>85.0</td>\n",
       "      <td>69.5</td>\n",
       "    </tr>\n",
       "    <tr>\n",
       "      <th>3</th>\n",
       "      <td>chem</td>\n",
       "      <td>75.0</td>\n",
       "      <td>86.8</td>\n",
       "    </tr>\n",
       "    <tr>\n",
       "      <th>4</th>\n",
       "      <td>biol</td>\n",
       "      <td>80.0</td>\n",
       "      <td>91.2</td>\n",
       "    </tr>\n",
       "    <tr>\n",
       "      <th>5</th>\n",
       "      <td>NaN</td>\n",
       "      <td>NaN</td>\n",
       "      <td>NaN</td>\n",
       "    </tr>\n",
       "  </tbody>\n",
       "</table>\n",
       "</div>"
      ],
      "text/plain": [
       "   subj  score   avg\n",
       "0  math  100.0  95.2\n",
       "1  comp   95.0  66.1\n",
       "2  phys   85.0  69.5\n",
       "3  chem   75.0  86.8\n",
       "4  biol   80.0  91.2\n",
       "5   NaN    NaN   NaN"
      ]
     },
     "execution_count": 114,
     "metadata": {},
     "output_type": "execute_result"
    }
   ],
   "source": [
    "df2.to_csv('./df2_ind_sep.csv', sep='|', na_rep='NaN', index=False)\n",
    "df4 = pd.read_csv('./df2_ind_sep.csv', sep='|')\n",
    "df4 "
   ]
  },
  {
   "cell_type": "code",
   "execution_count": 115,
   "metadata": {},
   "outputs": [
    {
     "data": {
      "text/html": [
       "<div>\n",
       "<style scoped>\n",
       "    .dataframe tbody tr th:only-of-type {\n",
       "        vertical-align: middle;\n",
       "    }\n",
       "\n",
       "    .dataframe tbody tr th {\n",
       "        vertical-align: top;\n",
       "    }\n",
       "\n",
       "    .dataframe thead th {\n",
       "        text-align: right;\n",
       "    }\n",
       "</style>\n",
       "<table border=\"1\" class=\"dataframe\">\n",
       "  <thead>\n",
       "    <tr style=\"text-align: right;\">\n",
       "      <th></th>\n",
       "      <th>A</th>\n",
       "      <th>B</th>\n",
       "      <th>C</th>\n",
       "      <th>D</th>\n",
       "      <th>E</th>\n",
       "    </tr>\n",
       "  </thead>\n",
       "  <tbody>\n",
       "    <tr>\n",
       "      <th>0</th>\n",
       "      <td>math</td>\n",
       "      <td>comp</td>\n",
       "      <td>phys</td>\n",
       "      <td>chem</td>\n",
       "      <td>biol</td>\n",
       "    </tr>\n",
       "    <tr>\n",
       "      <th>1</th>\n",
       "      <td>100</td>\n",
       "      <td>95</td>\n",
       "      <td>85</td>\n",
       "      <td>75</td>\n",
       "      <td>80</td>\n",
       "    </tr>\n",
       "    <tr>\n",
       "      <th>2</th>\n",
       "      <td>95.2</td>\n",
       "      <td>66.1</td>\n",
       "      <td>69.5</td>\n",
       "      <td>86.8</td>\n",
       "      <td>91.2</td>\n",
       "    </tr>\n",
       "  </tbody>\n",
       "</table>\n",
       "</div>"
      ],
      "text/plain": [
       "      A     B     C     D     E\n",
       "0  math  comp  phys  chem  biol\n",
       "1   100    95    85    75    80\n",
       "2  95.2  66.1  69.5  86.8  91.2"
      ]
     },
     "execution_count": 115,
     "metadata": {},
     "output_type": "execute_result"
    }
   ],
   "source": [
    "y = [['math', 'comp', 'phys', 'chem', 'biol'],\n",
    "    [100, 95, 85, 75, 80],\n",
    "    [95.2, 66.1, 69.5, 86.8, 91.2]]\n",
    "df5 = pd.DataFrame(y, index=list('abc'))\n",
    "df5.to_csv('./df5.csv', sep=',', index=False, header=None)\n",
    "df6 = pd.read_csv('./df5.csv', header=None, names=list('ABCDE'))\n",
    "df6 "
   ]
  }
 ],
 "metadata": {
  "kernelspec": {
   "display_name": "Python 3",
   "language": "python",
   "name": "python3"
  },
  "language_info": {
   "codemirror_mode": {
    "name": "ipython",
    "version": 3
   },
   "file_extension": ".py",
   "mimetype": "text/x-python",
   "name": "python",
   "nbconvert_exporter": "python",
   "pygments_lexer": "ipython3",
   "version": "3.8.5"
  }
 },
 "nbformat": 4,
 "nbformat_minor": 4
}
