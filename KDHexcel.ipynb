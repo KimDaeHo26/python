{
 "cells": [
  {
   "cell_type": "markdown",
   "metadata": {},
   "source": [
    "**아래 링크를 통해 주피터 노트북 뷰어(nbviewer.jupyter.org)로 보거나 구글 코랩(colab.research.google.com)에서 실행할 수 있음**\n",
    "\n",
    "<pre>\n",
    "<a target=\"_blank\" href=\"https://nbviewer.jupyter.org/github/KimDaeHo26/python/blob/main/KDHexcel.ipynb\"><img src=\"https://jupyter.org/assets/main-logo.svg\" width=\"28\" />주피터 노트북 뷰어로 보기</a>\n",
    "<a target=\"_blank\" href=\"https://colab.research.google.com/github/KimDaeHo26/python/blob/main/KDHexcel.ipynb\"><img src=\"https://www.tensorflow.org/images/colab_logo_32px.png\" />구글 코랩(Colab)에서 실행하기</a>\n",
    "</pre>"
   ]
  },
  {
   "cell_type": "markdown",
   "metadata": {},
   "source": [
    "# 엑셀파일 생성 / 재무산식 계산"
   ]
  },
  {
   "cell_type": "markdown",
   "metadata": {},
   "source": [
    "<pre>\n",
    "엑셀프로그램을 구동 시켜 엑셀의 메크로 함수를 호출하여 \n",
    "tuple, list, pandas.Dataframe, numpy.ndarray, image파일, matplotlib.pyplot 을 넣어주는 프로그램임\n",
    "\n",
    "사용환경 : windows, MS_Office 설치된 환경\n",
    "설치방법 : pip install KDHexcel\n",
    "\n",
    "포함 class\n",
    "KDHcalc   :  재무산식 계산 프로그램\n",
    "KDHexcel  :  엑셀 파일 생성 프로그램\n",
    "</pre>"
   ]
  },
  {
   "cell_type": "code",
   "execution_count": 4,
   "metadata": {},
   "outputs": [
    {
     "name": "stdout",
     "output_type": "stream",
     "text": [
      "Requirement already up-to-date: KDHexcel in c:\\programdata\\anaconda3\\lib\\site-packages (0.0.1.1)\n"
     ]
    }
   ],
   "source": [
    "# 주피터 노트북에서 설치 : 코랩 에서도 설치 가능\n",
    "!pip install KDHexcel --upgrade"
   ]
  },
  {
   "cell_type": "markdown",
   "metadata": {},
   "source": [
    "## 재무산식 계산 프로그램 ( KDHcalc )"
   ]
  },
  {
   "cell_type": "code",
   "execution_count": 29,
   "metadata": {},
   "outputs": [
    {
     "name": "stdout",
     "output_type": "stream",
     "text": [
      "단건 =>  72659080100.0 \n",
      " --------------------------------------------------\n",
      "산식을 값으로 변경한 결과 =>  self.KDHif(self.KDHor(230000000000.0>0,216000000000.0<0),max(math.log(3,2),1),230000000000.0) \n",
      " --------------------------------------------------\n",
      "   bogosu  hang           amt\n",
      "0      19  1000  2.160000e+11\n",
      "1      19  2000  2.300000e+11\n",
      "2      19  3000  2.160000e+11\n",
      "3      19  1000  2.300000e+11\n",
      "4      19  1000  1.000000e+02\n"
     ]
    }
   ],
   "source": [
    "import pandas as pd\n",
    "from KDHexcel import KDHcalc\n",
    "import os.path as path\n",
    "# 재무데이터 로드\n",
    "path = (\"https://raw.githubusercontent.com/\"\n",
    "        \"KimDaeHo26/python/main/{}.csv\")\n",
    "\n",
    "로컬여부 = 'N'\n",
    "if 로컬여부 == 'Y' : \n",
    "    jemu_file = './jemu.csv'\n",
    "else : \n",
    "    jemu_file = path.format('jemu')\n",
    "\n",
    "df = pd.read_csv(jemu_file, index_col=0)\n",
    "\n",
    "# 한개 업체만 선택\n",
    "try:\n",
    "    upche = df.loc[int('380725')]\n",
    "except KeyError:\n",
    "    try:\n",
    "        upche = df.loc['380725']\n",
    "    except KeyError:\n",
    "        print(\"해당하는 업체가 없습니다.\")\n",
    "        sys.exit()\n",
    "\n",
    "# 산식처리 클래스 선언\n",
    "calc = KDHcalc.KDHcalcClass()\n",
    "\n",
    "# 단건\n",
    "fmul = '&11-1000C&+(&11-2000B&)+100'\n",
    "a = calc.calc(upche,fmul,20201231,20191231,20181231)\n",
    "print('단건 => ',a,'\\n','-'*50)\n",
    "\n",
    "# 산식을 값으로 변경한 결과\n",
    "fmul = 'if(or(&11-9000C&>0,&11-9000B&<0),max(log(3,2),1),&11-9000C&)'\n",
    "a = calc.calc(upche,fmul,20201231,20191231,20181231,'n')\n",
    "print('산식을 값으로 변경한 결과 => ',a,'\\n','-'*50)\n",
    "\n",
    "# 산식 설정 : 스트링을 csv 파일처럼 인식하여 로드 함\n",
    "from io import StringIO\n",
    "csv_data = \\\n",
    "    '''bogosu|hang|fmul\n",
    "    19|1000|if(&11-2000C&<0,1,&11-9000B&)\n",
    "    19|2000|&11-9000C&\n",
    "    19|3000|&11-9000B&\n",
    "    19|1000|if(or(&11-9000C&<0,&11-9000B&<0,&11-9000B&<0),max(log(3,2),1),&11-9000C&)\n",
    "    19|1000|if(and(&11-9000C&<0,&11-9000B&<0),1,100)'''\n",
    "df = pd.read_csv(StringIO(csv_data), sep=\"|\")\n",
    "\n",
    "\n",
    "# 계산 하여 amt 컬럼에 넣어 줌 : 한꺼번에 처리\n",
    "df['amt'] = df['fmul'].apply(lambda fmul : calc.calc(upche, fmul, '20201231', 20191231, 20181231))\n",
    "# 산식 컬럼을 삭제\n",
    "del df['fmul']\n",
    "\n",
    "## 계산 하여 amt 컬럼에 넣어 줌 : for 루프로 단건씩 처리\n",
    "# for i in range(0,df['fmul'].count()) :\n",
    "#     df['amt'][i] = calc.calc(upche,df['fmul'][i],'20201231',20191231,20181231)\n",
    "# del df['fmul'] # 컬럼을 삭제\n",
    "\n",
    "print(df.head())\n",
    "\n",
    "# # 엑셀 파일로 저장\n",
    "# pdE = pd.ExcelWriter('result1.xlsx')\n",
    "# df.to_excel(pdE)\n",
    "# pdE.save()\n"
   ]
  },
  {
   "cell_type": "markdown",
   "metadata": {},
   "source": [
    "## 엑셀 파일 생성 프로그램 ( KDHexcel )"
   ]
  },
  {
   "cell_type": "code",
   "execution_count": 3,
   "metadata": {},
   "outputs": [
    {
     "name": "stdout",
     "output_type": "stream",
     "text": [
      "0.0.1.2\n",
      "Help on method 셀값넣기 in module KDHexcel.KDHexcel:\n",
      "\n",
      "셀값넣기(셀='A1', 값='1', 시트명=None) method of KDHexcel.KDHexcel.KDHexcel instance\n",
      "    :param 셀 : 저장될 셀위치 (예 : B3)\n",
      "    :param 값 : 셀에 들어갈 값 (1개의 값 또는 tuple, list, pandas.Dataframe, numpy.ndarray)\n",
      "    :param 시트명 : 입력하면 해당 시트에 입력 안하면 첫번째 시트에 값이 들어감\n",
      "    :return: 없음\n",
      "\n",
      "Help on method 이미지파일넣기 in module KDHexcel.KDHexcel:\n",
      "\n",
      "이미지파일넣기(셀, 파일명, ColumnWidth=50, RowHeight=150, 시트명=None) method of KDHexcel.KDHexcel.KDHexcel instance\n",
      "    :param 셀 : 저장될 셀위치 (예 : B3)\n",
      "    :param 파일명: 이미지 파일명 (예 : 'C:\\Users\\User\\파이썬주피터\\plot3.png' )\n",
      "    :param 시트명 : 입력하면 해당 시트에 입력 안하면 첫번째 시트에 값이 들어감\n",
      "    :param ColumnWidth : 셀의 너비\n",
      "    :param RowHeight : 셀의 높이\n",
      "    :return: 없음\n",
      "\n",
      "Help on method 그래프넣기 in module KDHexcel.KDHexcel:\n",
      "\n",
      "그래프넣기(셀, plt, ColumnWidth=50, RowHeight=150, 시트명=None) method of KDHexcel.KDHexcel.KDHexcel instance\n",
      "    QApplication.clipboard 를 사용 주피터 노트북에서는 실행이 안됨\n",
      "    :param 셀: 저장될 셀위치 (예 : B3)\n",
      "    :param plt: 그래프 object (예 :  matplotlib.pyplot )\n",
      "    :param 시트명 : 입력하면 해당 시트에 입력 안하면 첫번째 시트에 값이 들어감\n",
      "    :param ColumnWidth : 셀의 너비\n",
      "    :param RowHeight : 셀의 높이\n",
      "    :return: 없음\n",
      "\n",
      "Help on method 셀값지우기 in module KDHexcel.KDHexcel:\n",
      "\n",
      "셀값지우기(셀='A1', 시트명=None) method of KDHexcel.KDHexcel.KDHexcel instance\n",
      "    :param 셀 : 지울 셀위치 (예 : B3, A1:B3)\n",
      "    :param 시트명 : 입력하면 해당 시트에 입력 안하면 첫번째 시트에 값이 들어감\n",
      "    :return: 없음\n",
      "\n"
     ]
    },
    {
     "ename": "AttributeError",
     "evalue": "'NoneType' object has no attribute 'setImage'",
     "output_type": "error",
     "traceback": [
      "\u001b[1;31m---------------------------------------------------------------------------\u001b[0m",
      "\u001b[1;31mAttributeError\u001b[0m                            Traceback (most recent call last)",
      "\u001b[1;32m<ipython-input-3-3728e16da289>\u001b[0m in \u001b[0;36m<module>\u001b[1;34m\u001b[0m\n\u001b[0;32m     60\u001b[0m \u001b[1;31m# 샘플그래프 그리기 끝\u001b[0m\u001b[1;33m\u001b[0m\u001b[1;33m\u001b[0m\u001b[1;33m\u001b[0m\u001b[0m\n\u001b[0;32m     61\u001b[0m \u001b[1;33m\u001b[0m\u001b[0m\n\u001b[1;32m---> 62\u001b[1;33m \u001b[0mexc\u001b[0m\u001b[1;33m.\u001b[0m\u001b[0m그래프넣기\u001b[0m\u001b[1;33m(\u001b[0m\u001b[1;34m\"f8\"\u001b[0m\u001b[1;33m,\u001b[0m\u001b[0mplt\u001b[0m\u001b[1;33m,\u001b[0m\u001b[0mColumnWidth\u001b[0m\u001b[1;33m=\u001b[0m\u001b[1;36m30\u001b[0m\u001b[1;33m,\u001b[0m \u001b[0mRowHeight\u001b[0m\u001b[1;33m=\u001b[0m \u001b[1;36m130\u001b[0m\u001b[1;33m,\u001b[0m \u001b[0m시트명\u001b[0m\u001b[1;33m=\u001b[0m\u001b[1;34m\"그래프\"\u001b[0m\u001b[1;33m)\u001b[0m\u001b[1;33m\u001b[0m\u001b[1;33m\u001b[0m\u001b[0m\n\u001b[0m\u001b[0;32m     63\u001b[0m \u001b[1;33m\u001b[0m\u001b[0m\n\u001b[0;32m     64\u001b[0m \u001b[0ma\u001b[0m \u001b[1;33m=\u001b[0m \u001b[1;33m[\u001b[0m\u001b[1;33m[\u001b[0m\u001b[1;36m1\u001b[0m\u001b[1;33m,\u001b[0m\u001b[1;36m2\u001b[0m\u001b[1;33m]\u001b[0m\u001b[1;33m,\u001b[0m\u001b[1;33m[\u001b[0m\u001b[1;36m2\u001b[0m\u001b[1;33m,\u001b[0m\u001b[1;36m4\u001b[0m\u001b[1;33m]\u001b[0m\u001b[1;33m,\u001b[0m\u001b[1;33m[\u001b[0m\u001b[1;36m3\u001b[0m\u001b[1;33m,\u001b[0m\u001b[1;36m3\u001b[0m\u001b[1;33m]\u001b[0m\u001b[1;33m]\u001b[0m\u001b[1;33m\u001b[0m\u001b[1;33m\u001b[0m\u001b[0m\n",
      "\u001b[1;32mC:\\ProgramData\\Anaconda3\\lib\\site-packages\\KDHexcel\\KDHexcel.py\u001b[0m in \u001b[0;36m그래프넣기\u001b[1;34m(self, 셀, plt, ColumnWidth, RowHeight, 시트명)\u001b[0m\n\u001b[0;32m    117\u001b[0m \u001b[1;33m\u001b[0m\u001b[0m\n\u001b[0;32m    118\u001b[0m         \u001b[0mimg\u001b[0m \u001b[1;33m=\u001b[0m \u001b[0mQImage\u001b[0m\u001b[1;33m.\u001b[0m\u001b[0mfromData\u001b[0m\u001b[1;33m(\u001b[0m\u001b[0mbuf\u001b[0m\u001b[1;33m.\u001b[0m\u001b[0mgetvalue\u001b[0m\u001b[1;33m(\u001b[0m\u001b[1;33m)\u001b[0m\u001b[1;33m)\u001b[0m\u001b[1;33m\u001b[0m\u001b[1;33m\u001b[0m\u001b[0m\n\u001b[1;32m--> 119\u001b[1;33m         \u001b[0mQApplication\u001b[0m\u001b[1;33m.\u001b[0m\u001b[0mclipboard\u001b[0m\u001b[1;33m(\u001b[0m\u001b[1;33m)\u001b[0m\u001b[1;33m.\u001b[0m\u001b[0msetImage\u001b[0m\u001b[1;33m(\u001b[0m\u001b[0mimg\u001b[0m\u001b[1;33m)\u001b[0m\u001b[1;33m\u001b[0m\u001b[1;33m\u001b[0m\u001b[0m\n\u001b[0m\u001b[0;32m    120\u001b[0m \u001b[1;33m\u001b[0m\u001b[0m\n\u001b[0;32m    121\u001b[0m         \u001b[0mself\u001b[0m\u001b[1;33m.\u001b[0m\u001b[0mws\u001b[0m\u001b[1;33m.\u001b[0m\u001b[0mRange\u001b[0m\u001b[1;33m(\u001b[0m\u001b[0m셀\u001b[0m\u001b[1;33m)\u001b[0m\u001b[1;33m.\u001b[0m\u001b[0mSelect\u001b[0m\u001b[1;33m(\u001b[0m\u001b[1;33m)\u001b[0m\u001b[1;33m\u001b[0m\u001b[1;33m\u001b[0m\u001b[0m\n",
      "\u001b[1;31mAttributeError\u001b[0m: 'NoneType' object has no attribute 'setImage'"
     ]
    },
    {
     "data": {
      "image/png": "[encoded data removed]",
      "text/plain": [
       "<Figure size 432x288 with 1 Axes>"
      ]
     },
     "metadata": {
      "needs_background": "light"
     },
     "output_type": "display_data"
    }
   ],
   "source": [
    "from KDHexcel import KDHexcel\n",
    "\n",
    "exc = KDHexcel.KDHexcel()\n",
    "print(exc.__version__)\n",
    "\n",
    "help(exc.셀값넣기)\n",
    "help(exc.이미지파일넣기)\n",
    "help(exc.그래프넣기)\n",
    "help(exc.셀값지우기)\n",
    "\n",
    "# 직접 VBA 코드를 이용할 수 있음 (exc.excel 이 엑셀 application 임)\n",
    "exc.excel.Activesheet.Range(\"A1\").Value = 15\n",
    "\n",
    "# 첫번째 시트에 1개의 값 넣어줌\n",
    "exc.셀값넣기(셀=\"A1\", 값=\"첫번째시트\")\n",
    "\n",
    "# 테스트 시트에 1개의 값 넣어줌\n",
    "exc.셀값넣기(셀=\"A1\", 값=\"abcdef\", 시트명=\"테스트\")\n",
    "exc.셀값넣기(\"B1\",5.15,\"테스트\")\n",
    "\n",
    "# 튜플 시트에 tuple 데이터 넣어줌\n",
    "t1 = (\"튜플a\",\"튜플b\",\"튜플c\",\"튜플d\")\n",
    "exc.셀값넣기(\"B3\",t1,\"튜플\")\n",
    "\n",
    "# 리스트11 시트에 list 데이터 넣어줌\n",
    "l1 = [\"리스트1\",\"리스트2\",\"리스트3\"]\n",
    "exc.셀값넣기(\"A3\",l1,\"리스트11\")\n",
    "\n",
    "# 리스트2 시트에 2차원 list 데이터 넣어줌\n",
    "l2 = [ [\"리스트21\",\"리스트22\",\"리스트23\"],\n",
    "       [\"리스트1\",\"리스트2\",\"리스트3\"],\n",
    "     ]\n",
    "exc.셀값넣기(\"A1\",l2,\"리스트2\")\n",
    "\n",
    "# pandas 데이터셋 넣어줌\n",
    "import pandas as pd\n",
    "a = [[\"a1\",\"b1\"],[\"c1\",\"d1\"]]\n",
    "p1 = pd.DataFrame(a, index=list('ab'), columns=list('de'))\n",
    "exc.셀값넣기(\"A1\",p1,\"판다스\")\n",
    "\n",
    "# numpy array 넣어줌\n",
    "import numpy as np\n",
    "lst1 = [1, 2, 3, 4, 5, 6]\n",
    "넘파이 = np.array(lst1)\n",
    "exc.셀값넣기(\"a1\",넘파이,\"넘파이\")\n",
    "\n",
    "lst2 = [[1, 2, 3], [4, 5, 6], [7, 8, 9], [10, 11, 12]]\n",
    "넘파이 = np.array(lst2)\n",
    "exc.셀값넣기(\"b3\",넘파이,\"넘파이\")\n",
    "\n",
    "# 이미지파일 넣어줌\n",
    "exc.이미지파일넣기(\"d4\", 시트명=\"이미지\", 파일명=r\"C:\\Users\\User\\파이썬주피터\\plot3.png\",ColumnWidth=50, RowHeight=150)\n",
    "\n",
    "# matplotlib.pyplot 넣어줌\n",
    "import matplotlib.pyplot as plt\n",
    "# 샘플그래프 그리기 시작\n",
    "import numpy as np\n",
    "a = np.random.normal(size=50)\n",
    "plt.hist(a, bins=5)\n",
    "# 샘플그래프 그리기 끝\n",
    "\n",
    "exc.그래프넣기(\"f8\",plt,ColumnWidth=30, RowHeight= 130, 시트명=\"그래프\")\n",
    "\n",
    "a = [[1,2],[2,4],[3,3]]\n",
    "p1 = pd.DataFrame(a, index=list('abc'), columns=list('de'))\n",
    "p1.plot.line(x='d',y='e')\n",
    "\n",
    "exc.그래프넣기(\"a1\",plt,ColumnWidth=30, RowHeight= 130, 시트명=\"그래프\")\n",
    "\n",
    "exc.셀값넣기(셀=\"A1\", 값=[1,2,3,4,5,6], 시트명=\"셀값지우기\")\n",
    "exc.셀값지우기(셀=\"B1:D1\", 시트명=\"셀값지우기\")\n",
    "\n"
   ]
  },
  {
   "cell_type": "markdown",
   "metadata": {},
   "source": [
    "# 설치시 포함된 테스트 파일 (재무산식 계산)\n",
    "import KDHexcel.KDHcalcTest\n",
    "# 설치시 포함된 테스트 파일 (엑셀생성)\n",
    "import KDHexcel.KDHexcelTest"
   ]
  }
 ],
 "metadata": {
  "kernelspec": {
   "display_name": "Python 3",
   "language": "python",
   "name": "python3"
  },
  "language_info": {
   "codemirror_mode": {
    "name": "ipython",
    "version": 3
   },
   "file_extension": ".py",
   "mimetype": "text/x-python",
   "name": "python",
   "nbconvert_exporter": "python",
   "pygments_lexer": "ipython3",
   "version": "3.8.5"
  }
 },
 "nbformat": 4,
 "nbformat_minor": 4
}
