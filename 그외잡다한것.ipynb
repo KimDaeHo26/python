{
 "cells": [
  {
   "cell_type": "markdown",
   "metadata": {},
   "source": [
    "**아래 링크를 통해 주피터 노트북 뷰어(nbviewer.jupyter.org)로 보거나 구글 코랩(colab.research.google.com)에서 실행할 수 있음**\n",
    "\n",
    "<pre>\n",
    "<a target=\"_blank\" href=\"https://nbviewer.jupyter.org/github/KimDaeHo26/python/blob/main/그외잡다한것.ipynb\"><img src=\"https://jupyter.org/assets/main-logo.svg\" width=\"28\" />주피터 노트북 뷰어로 보기</a>\n",
    "<a target=\"_blank\" href=\"https://colab.research.google.com/github/KimDaeHo26/python/blob/main/그외잡다한것.ipynb\"><img src=\"https://www.tensorflow.org/images/colab_logo_32px.png\" />구글 코랩(Colab)에서 실행하기</a>\n",
    "</pre>"
   ]
  },
  {
   "cell_type": "markdown",
   "metadata": {},
   "source": [
    "## 데코레이터\n",
    "<pre>\n",
    "    원래 함수의 수정 없이 부가 기능 추가해서 사용  @\n",
    "</pre>"
   ]
  },
  {
   "cell_type": "code",
   "execution_count": 1,
   "metadata": {},
   "outputs": [
    {
     "name": "stdout",
     "output_type": "stream",
     "text": [
      "hello 함수시작\n",
      "hello11 a\n",
      "hello 함수끝\n"
     ]
    }
   ],
   "source": [
    "# 데코레이터로 사용할 함수\n",
    "def trace(func):\n",
    "    def wrapper():\n",
    "        print(func.__name__, '함수시작')\n",
    "        func()\n",
    "        print(func.__name__, '함수끝')\n",
    "\n",
    "    return wrapper\n",
    "\n",
    "# @ 표시로 데코레이터를 사용하게 됨\n",
    "@trace\n",
    "def hello(aaa='a'):\n",
    "    print('hello11', aaa)\n",
    "\n",
    "\n",
    "hello()"
   ]
  },
  {
   "cell_type": "markdown",
   "metadata": {},
   "source": [
    "## 웹서버 생성 : python powershell 에서"
   ]
  },
  {
   "cell_type": "code",
   "execution_count": null,
   "metadata": {},
   "outputs": [],
   "source": [
    "# python -m http.server 8090\n",
    "# // Python 3.0 이 후 부터\n",
    "\n",
    "# python -m SimpleHTTPServer 8090\n",
    "# // Python 2.x 버전에 사용\n",
    "\n",
    "# python -m http.server 8090 --bind 127.0.0.1\n",
    "# // ip를 명시하는 경우"
   ]
  },
  {
   "cell_type": "markdown",
   "metadata": {},
   "source": [
    "## 웹서버 생성 : py 에서"
   ]
  },
  {
   "cell_type": "code",
   "execution_count": null,
   "metadata": {
    "scrolled": true
   },
   "outputs": [
    {
     "name": "stdout",
     "output_type": "stream",
     "text": [
      "Server listening on port 8090...\n"
     ]
    }
   ],
   "source": [
    "import http.server\n",
    "import socketserver\n",
    "\n",
    "handler = http.server.SimpleHTTPRequestHandler\n",
    "# handler = None\n",
    "\n",
    "with socketserver.TCPServer(('', 8090), handler) as httpd:\n",
    "  print('Server listening on port 8090...')\n",
    "  httpd.serve_forever()\n",
    "    \n",
    "\"\"\"\n",
    "http://localhost:8090/ 주소로 접속 하면 웹서버가 실행 된 것을 확인 할 수 있음\n",
    "\"\"\""
   ]
  },
  {
   "cell_type": "markdown",
   "metadata": {},
   "source": [
    "## 웹서버 생성 : flask 이용"
   ]
  },
  {
   "cell_type": "code",
   "execution_count": 6,
   "metadata": {},
   "outputs": [],
   "source": [
    "## http://localhost:5500/ 접속시  template 폴더 밑에 test.html 파일이 실행됨\n",
    "\n",
    "# from flask import Flask, render_template\n",
    "\n",
    "# app = Flask(__name__)\n",
    "\n",
    "# @app.route('/')\n",
    "# def index():\n",
    "#     return render_template('test.html')\n",
    "\n",
    "# if __name__ == '__main__':\n",
    "#     app.run(debug=True,port=5500)"
   ]
  },
  {
   "cell_type": "markdown",
   "metadata": {},
   "source": [
    "## FTP 서버 생성 : python powershell 에서"
   ]
  },
  {
   "cell_type": "code",
   "execution_count": null,
   "metadata": {},
   "outputs": [],
   "source": [
    "# python -m pyftpdlib 2121"
   ]
  },
  {
   "cell_type": "markdown",
   "metadata": {},
   "source": [
    "## 실행파일 만들기\n",
    "### 참고: 포함 되는 라이브러리 파일이 많아 실행 파일의 용량이 큼\n",
    "\n",
    "\n",
    "<pre>\n",
    ">>> pip install pyinstaller\n",
    "\n",
    ">>> pyinstaller main.py\n",
    "=> dist 폴더에 실행파일 과 라이브러리 만들어짐\n",
    "\n",
    ">>> pyinstaller --onefile --noconsole main2.py\n",
    "\n",
    "--onefile : 한개의 파일로 만듦\n",
    "--noconsole : 실행시 콘솔 없이 실행\n",
    "\n",
    "콘솔창이 출력되지 않게 하려면 아래와 같이 명령어에 '-w' 또는 '--windowed'를 추가해줍니다.\n",
    ">>> pyinstaller -w grid_layout.py\n",
    "\n",
    "명령어에 '-F' 또는 '--onefile'을 추가해주면, 아래 그림과 같이 실행파일 하나만 생성됩니다.\n",
    ">>> pyinstaller -w -F grid_layout.py\n",
    "\n",
    "실행파일의 아이콘을 바꾸고 싶다면, 실행파일로 빌드하는 명령어에 --icon 옵션을 추가해줍니다.\n",
    ">>> pyinstaller --icon=test.ico --onefile test.py\n",
    "</pre>"
   ]
  },
  {
   "cell_type": "markdown",
   "metadata": {},
   "source": [
    "## 엑셀 다루기\n",
    "### 참고 : 윈도우 환경에서만 가능"
   ]
  },
  {
   "cell_type": "code",
   "execution_count": 7,
   "metadata": {},
   "outputs": [
    {
     "name": "stdout",
     "output_type": "stream",
     "text": [
      "15.0\n"
     ]
    },
    {
     "data": {
      "text/plain": [
       "' 나머지 vba 관련 된 것은 Excel vba 파트에 올려 놓은 것 참고 '"
      ]
     },
     "execution_count": 7,
     "metadata": {},
     "output_type": "execute_result"
    }
   ],
   "source": [
    "import win32com.client\n",
    "\n",
    "\"\"\" 엑셀 어플리케이션 선언 \"\"\"\n",
    "excel = win32com.client.Dispatch(\"Excel.Application\")\n",
    "\"\"\" 엑셀 프로그램 보여지게 함 \"\"\"\n",
    "excel.Visible = True\n",
    "\"\"\" 워크북 새로 만듦 \"\"\"\n",
    "wb = excel.Workbooks.Add()\n",
    "\"\"\" 첫번째 시트 선언 \"\"\"\n",
    "ws = wb.Worksheets(1)\n",
    "\n",
    "\"\"\" 값을 넣어 줌 \"\"\"\n",
    "ws.Range(\"A1\").Value = 3\n",
    "ws.Range(\"A2\").Value = 1\n",
    "ws.Range(\"A3\").Value = 2\n",
    "\n",
    "\"\"\" 엑셀에 있는 수식 함수 사용 \"\"\"\n",
    "a = excel.Application.WorksheetFunction.Max(ws.Range(\"A1:A3\"))\n",
    "ws.Range(\"A4\").Value = a\n",
    "\n",
    "\"\"\" 수식 넣어 줌 \"\"\"\n",
    "ws.Range(\"B1\").FormulaLocal = '=sum(A1:A4)'\n",
    "\n",
    "\"\"\" tuple 을 이용해 값을 넘겨 주어 엑셀수식 적용 가능 \"\"\"\n",
    "b = (15,2,3,4)\n",
    "a = excel.Application.WorksheetFunction.Max(b)\n",
    "print(a)\n",
    "\n",
    "\n",
    "\"\"\" 특정 폴더 밑의 모든 파일 리스트를 엑셀로 \"\"\"\n",
    "import os\n",
    "root = 'C:/Users/User/Documents'\n",
    "\n",
    "data_array = []\n",
    "for directory, subdir_list, file_list in os.walk(root):\n",
    "    for name in file_list:\n",
    "        data_array.append(directory + \"/\" + name)\n",
    "\n",
    "row = 10\n",
    "for line in data_array:\n",
    "    row += 1\n",
    "    ws.Cells(row,1).Value = line\n",
    "\n",
    "# excel.Application.DisplayAlerts = False # 경고 메시지 안나오게 설정\n",
    "# wb.SaveAs(\"test.xlsx\")                  # 파일저장\n",
    "# wb.Close()                              # 워크북 닫음 \n",
    "# excel.Application.DisplayAlerts = True  # 경고 메시지 나오게 설저\n",
    "# excel.Quit()                            # 엑셀 닫음\n",
    "\n",
    "wb = None\n",
    "excel = None\n",
    "\n",
    "\"\"\" 나머지 vba 관련 된 것은 Excel vba 파트에 올려 놓은 것 참고 \"\"\""
   ]
  },
  {
   "cell_type": "markdown",
   "metadata": {},
   "source": [
    "## pip 등록방법\n",
    "\n",
    "<pre>\n",
    "1) https://pypi.org/ 에 가입\n",
    "\n",
    "2) 프로젝트에 폴더 생성\n",
    "    생성한Project\n",
    "      - KDHexcel\n",
    "        - KDHexcel.py \n",
    "        - __init__.py\n",
    "        - data\n",
    "           -jemu.csv\n",
    "      - setup.py\n",
    "      \n",
    "3) __init__.py \n",
    "   파일은 빈 파일이어도 상관 없으나 파일이 있어야 됨\n",
    "   \n",
    "4) setup.py\n",
    "    from setuptools import setup, find_packages\n",
    "    setup(name='KDHexcel',,                             # 프로젝트 명\n",
    "      version='0.0.1.4',                                # 프로젝트 버전                              \n",
    "      description='엑셀생성',                           # 프로젝트 설명                              \n",
    "      author='김대호',                                  # 작성자                                     \n",
    "      author_email='jmee2626@gmail.com',                # 작성자 이메일                              \n",
    "      url='https://github.com/KimDaeHo26/python',       # 홈페이지 주소                              \n",
    "      license='MIT',                                    # license                                    \n",
    "      python_requires='>=3',                            # 파이썬 버전 요구사항 \n",
    "      packages=['KDHexcel'],                            # 기본 프로젝트 폴더 외에 추가로 입력할 폴더 \n",
    "      package_data={'KDHexcel': ['data/*.csv']}         # Installing Package Data\n",
    "    )\n",
    "     \n",
    "5) 해당폴더 에서 (생성한Project) 명령어 실행\n",
    "    생성한Project> python -m pip install --user --upgrade setuptools wheel\n",
    "    생성한Project> python -m pip install --user --upgrade twine\n",
    "    생성한Project> python setup.py sdist bdist_wheel\n",
    "    => dist 폴더에 압축 파일 생성됨\n",
    "       생성한Project/dist>만든폴더-0.0.1.0.tar.gz\n",
    "       생성한Project/dist>만든폴더-0.0.1.0-py3-none-any.whl\n",
    "       \n",
    "6) PyPI 에 등록합니다.\n",
    "    python -m twine upload --repository-url https://upload.pypi.org/legacy/ dist/*\n",
    "    => https://pypi.org/ 에 가입한 username, password 입력\n",
    "    \n",
    "7) pip install 명령으로 설치가 됨\n",
    "\n",
    "</pre>"
   ]
  },
  {
   "cell_type": "markdown",
   "metadata": {},
   "source": [
    "## 인스톨 하기\n",
    "\n",
    "<pre>\n",
    "# python powershell 에서 실행\n",
    "pip install KDHexcel\n",
    "\n",
    "# .py 에서 실행\n",
    "get_ipython().system('pip install KDHexcel')\n",
    "\n",
    "# 주피터 노트북에서 실행\n",
    "!pip install KDHexcel\n",
    "\n",
    "# 버전 업그레이드\n",
    "pip install KDHexcel --upgrade\n",
    "</pre>"
   ]
  },
  {
   "cell_type": "markdown",
   "metadata": {},
   "source": [
    "## 깃허브에 올린 노트북 보기 / 코랩에서 실행하기\n",
    "<pre>\n",
    "깃허브에 올린 노트북 주소 가 아래와 같으면\n",
    "https://github.com/KimDaeHo26/python/blob/main/기초문법.ipynb\n",
    "\n",
    "주피터 노트북 뷰어로 보기\n",
    "https://nbviewer.jupyter.org/github/KimDaeHo26/python/blob/main/기초문법.ipynb\n",
    "\n",
    "구글 코랩(Colab)에서 실행하기\n",
    "https://colab.research.google.com/github/KimDaeHo26/python/blob/main/기초문법.ipynb\n",
    "</pre>"
   ]
  }
 ],
 "metadata": {
  "kernelspec": {
   "display_name": "Python 3",
   "language": "python",
   "name": "python3"
  },
  "language_info": {
   "codemirror_mode": {
    "name": "ipython",
    "version": 3
   },
   "file_extension": ".py",
   "mimetype": "text/x-python",
   "name": "python",
   "nbconvert_exporter": "python",
   "pygments_lexer": "ipython3",
   "version": "3.8.5"
  }
 },
 "nbformat": 4,
 "nbformat_minor": 4
}
