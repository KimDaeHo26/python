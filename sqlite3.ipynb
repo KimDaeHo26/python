{
 "cells": [
  {
   "cell_type": "markdown",
   "metadata": {},
   "source": [
    "# sqlite3   심플한 데이터베이스"
   ]
  },
  {
   "cell_type": "markdown",
   "metadata": {},
   "source": [
    "<pre>\n",
    "파일단위로 데이터베이스 생성됨\n",
    "일반 Database 처럼 lock 처리가 아닌 파일단위의 lock 처리로 동시여러접속 불가 (insert, update, select) \n",
    "timeout 을 적은 숫자로 셋팅해서 lock 발생 최소화 하게 처리 함\n",
    "</pre>"
   ]
  },
  {
   "cell_type": "markdown",
   "metadata": {},
   "source": [
    "**아래 링크를 통해 주피터 노트북 뷰어(nbviewer.jupyter.org)로 보거나 구글 코랩(colab.research.google.com)에서 실행할 수 있음**\n",
    "\n",
    "<pre>\n",
    "<a target=\"_blank\" href=\"https://nbviewer.jupyter.org/github/KimDaeHo26/python/blob/main/sqlite3.ipynb\"><img src=\"https://jupyter.org/assets/main-logo.svg\" width=\"28\" />주피터 노트북 뷰어로 보기</a>\n",
    "<a target=\"_blank\" href=\"https://colab.research.google.com/github/KimDaeHo26/python/blob/main/sqlite3.ipynb\"><img src=\"https://www.tensorflow.org/images/colab_logo_32px.png\" />구글 코랩(Colab)에서 실행하기</a>\n",
    "</pre>"
   ]
  },
  {
   "cell_type": "code",
   "execution_count": 3,
   "metadata": {},
   "outputs": [],
   "source": [
    "# 아래 주석 풀고 실행하면 주피터 노트북에서 설치 됨\n",
    "# !pip install sqlite3"
   ]
  },
  {
   "cell_type": "code",
   "execution_count": 8,
   "metadata": {},
   "outputs": [
    {
     "name": "stdout",
     "output_type": "stream",
     "text": [
      "버전 : => 2.6.0\n",
      "조회 결과 : => \n",
      " [('테스트', 10, 10.5)]\n",
      "pandas 를 이용한 조회 결과 : => \n",
      "   col1  col2  col3\n",
      "0  테스트    10  10.5\n",
      "test2T 조회 결과 : =>\n",
      "   col1  col2  col3\n",
      "0  테스트    10  10.5\n"
     ]
    }
   ],
   "source": [
    "import sqlite3  # 동시접속 불가\n",
    "print('버전 : =>', sqlite3.version)\n",
    "from os import path\n",
    "\n",
    "dbFileNm = \"./test.db\"\n",
    "# .py 파일 위치일때는 아래 주석 풀고 실행\n",
    "# dbFileNm = path.join(path.dirname(__file__), \"test.db\")\n",
    "\n",
    "# 데이터베이스 파일이 있으면 연결, 없으면 생성\n",
    "con = sqlite3.connect(dbFileNm, timeout=5) \n",
    "# 커서 선언\n",
    "cur = con.cursor()                          \n",
    "\n",
    "# testT 테이블이 있으면 삭제\n",
    "cur.execute('DROP TABLE IF EXISTS testT')   \n",
    "\n",
    "# testT 테이블 생성\n",
    "cur.execute('CREATE TABLE testT ' \\\n",
    "            ' (col1 TEXT, col2 INTERGER, col3 DOUBLE)'\n",
    "            )      \n",
    "\n",
    "# 테이블에 데이터 넣어 줌\n",
    "cur.execute('insert into testT(col1, col2, col3) ' \\\n",
    "            ' values (\"테스트\", 10, 10.5)'\n",
    "            )\n",
    "\n",
    "# 커밋처리함 ( 데이터베이스 에 적용 )\n",
    "con.commit()   \n",
    "\n",
    "# 조회 쿼리\n",
    "sql = \"select * from testT\"\n",
    "# 조회 실행\n",
    "cur.execute(sql)\n",
    "# 결과 전체를 results 에 넣어 줌\n",
    "results = cur.fetchall()\n",
    "\n",
    "print('조회 결과 : => \\n', results)\n",
    "\n",
    "## pandas 를 이용한 데이터베이스 적재 및 조회\n",
    "import pandas as pd\n",
    "# 조회 쿼리\n",
    "sql1 = \"select * from testT\"\n",
    "df = pd.read_sql(sql=sql1,con=con)\n",
    "print('pandas 를 이용한 조회 결과 : => \\n', df)\n",
    "\n",
    "# # pandas 데이터프래임 db 적재\n",
    "# df.to_sql(name='testT',  # 'testT' 테이블에 적재\n",
    "#           con=con,       # 데이터베이스 연결\n",
    "#           index=False,    \n",
    "#           if_exists='append') # if_exists 옵션 : append 추가, fail 테이블존재할때 아무것도 안함, replace 테이블 새로만들어서 넣음 \n",
    "\n",
    "\n",
    "# pandas 데이터프래임 db 적재\n",
    "df.to_sql(name=\"test2T\",   # 'test2T' 테이블에 적재\n",
    "          con=con,         # 데이터베이스 연결\n",
    "          index=False, \n",
    "          if_exists='replace') # if_exists 옵션 : append 추가, fail 테이블존재할때 아무것도 안함, replace 테이블 새로만들어서 넣음 \n",
    "\n",
    "sql = \"select * from test2T\"\n",
    "df2 = pd.read_sql(sql=sql,con=con)\n",
    "print('test2T 조회 결과 : =>\\n', df2)\n",
    "\n",
    "# 커밋처리함 ( 데이터베이스 에 적용 )\n",
    "con.commit()\n",
    "# 연결은 닫음 ( 안닫으면 lock 발생 : timeout 될때까지 기다려야됨 )\n",
    "con.close()"
   ]
  }
 ],
 "metadata": {
  "kernelspec": {
   "display_name": "Python 3",
   "language": "python",
   "name": "python3"
  },
  "language_info": {
   "codemirror_mode": {
    "name": "ipython",
    "version": 3
   },
   "file_extension": ".py",
   "mimetype": "text/x-python",
   "name": "python",
   "nbconvert_exporter": "python",
   "pygments_lexer": "ipython3",
   "version": "3.8.5"
  }
 },
 "nbformat": 4,
 "nbformat_minor": 4
}
