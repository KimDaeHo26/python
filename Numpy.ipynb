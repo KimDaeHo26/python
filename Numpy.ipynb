{
 "cells": [
  {
   "cell_type": "markdown",
   "metadata": {},
   "source": [
    "**아래 링크를 통해 주피터 노트북 뷰어(nbviewer.jupyter.org)로 보거나 구글 코랩(colab.research.google.com)에서 실행할 수 있음**\n",
    "\n",
    "<pre>\n",
    "    <a target=\"_blank\" href=\"https://nbviewer.jupyter.org/github/KimDaeHo26/python/blob/main/Numpy.ipynb\"><img src=\"https://jupyter.org/assets/main-logo.svg\" width=\"28\" />주피터 노트북 뷰어로 보기</a>\n",
    "<br>\n",
    "    <a target=\"_blank\" href=\"https://colab.research.google.com/github/KimDaeHo26/python/blob/main/Numpy.ipynb\"><img src=\"https://www.tensorflow.org/images/colab_logo_32px.png\" />구글 코랩(Colab)에서 실행하기</a>\n",
    "</pre>"
   ]
  },
  {
   "cell_type": "markdown",
   "metadata": {},
   "source": [
    "## numpy  인공지능에서 주로 사용되는 벡터 및 행렬 연산에서 매우 편리한 기능을 제공"
   ]
  },
  {
   "cell_type": "code",
   "execution_count": 1,
   "metadata": {
    "scrolled": true
   },
   "outputs": [
    {
     "data": {
      "text/plain": [
       "'1.19.2'"
      ]
     },
     "execution_count": 1,
     "metadata": {},
     "output_type": "execute_result"
    }
   ],
   "source": [
    "import numpy as np  \n",
    "np.__version__"
   ]
  },
  {
   "cell_type": "code",
   "execution_count": 2,
   "metadata": {},
   "outputs": [
    {
     "name": "stdout",
     "output_type": "stream",
     "text": [
      "<class 'list'> [1, 2, 3, 4, 5]\n",
      "<class 'numpy.ndarray'> [1 2 3 4 5]\n",
      "<class 'numpy.ndarray'> [[ 1  2  3]\n",
      " [ 4  5  6]\n",
      " [ 7  8  9]\n",
      " [10 11 12]]\n"
     ]
    }
   ],
   "source": [
    "lst1 = [1, 2, 3, 4, 5]\n",
    "print(type(lst1), lst1)\n",
    "arr1 = np.array(lst1)\n",
    "print(type(arr1), arr1) \n",
    "lst2 = [[1, 2, 3], [4, 5, 6], [7, 8, 9], [10, 11, 12]]\n",
    "arr2 = np.array(lst2)\n",
    "print(type(arr1), arr2)"
   ]
  },
  {
   "cell_type": "markdown",
   "metadata": {},
   "source": [
    "## 크기 / 차원"
   ]
  },
  {
   "cell_type": "code",
   "execution_count": 3,
   "metadata": {
    "scrolled": true
   },
   "outputs": [
    {
     "name": "stdout",
     "output_type": "stream",
     "text": [
      "1차원: 1\n",
      "2차원: 2\n",
      "원소개수: 5\n",
      "원소개수: 12\n",
      "차원 몇 원소개수: (5,)\n",
      "차원 몇 원소개수: (4, 3)\n"
     ]
    }
   ],
   "source": [
    "print('1차원:', np.ndim(arr1)) \n",
    "print('2차원:', np.ndim(arr2))\n",
    "\n",
    "print('원소개수:', np.size(arr1))\n",
    "print('원소개수:', np.size(arr2))\n",
    "\n",
    "print('차원 몇 원소개수:', np.shape(arr1))  \n",
    "print('차원 몇 원소개수:', np.shape(arr2))"
   ]
  },
  {
   "cell_type": "code",
   "execution_count": 4,
   "metadata": {},
   "outputs": [
    {
     "name": "stdout",
     "output_type": "stream",
     "text": [
      "(4, 3)\n",
      "(3, 4)\n",
      "(2, 6)\n"
     ]
    }
   ],
   "source": [
    "print(arr2.shape)\n",
    "tmp = arr2.reshape(3,4)  # 배열 크기 변경\n",
    "print(tmp.shape)\n",
    "tmp2 = arr2.reshape(2,-1)  # 배열 크기 변경 (-1 은 나머지 값을 자동으로 넣어줌)\n",
    "print(tmp2.shape)"
   ]
  },
  {
   "cell_type": "code",
   "execution_count": 5,
   "metadata": {
    "scrolled": true
   },
   "outputs": [
    {
     "name": "stdout",
     "output_type": "stream",
     "text": [
      "int32\n",
      "int32\n"
     ]
    }
   ],
   "source": [
    "print(arr1.dtype)\n",
    "print(arr2.dtype)"
   ]
  },
  {
   "cell_type": "code",
   "execution_count": 6,
   "metadata": {
    "scrolled": false
   },
   "outputs": [
    {
     "name": "stdout",
     "output_type": "stream",
     "text": [
      "[1. 2. 3. 4. 5.]\n",
      "[1.+0.j 2.+0.j 3.+0.j 4.+0.j 5.+0.j]\n",
      "[b'1' b'2' b'3' b'4' b'5']\n"
     ]
    }
   ],
   "source": [
    "print(arr1.astype(float))     # 데이터 타입으로 바꾸고 싶을 때에는 astype 함수를 이용\n",
    "print(arr1.astype(complex)) \n",
    "print(arr1.astype(np.string_))"
   ]
  },
  {
   "cell_type": "markdown",
   "metadata": {},
   "source": [
    "## 배열 생성 함수"
   ]
  },
  {
   "cell_type": "code",
   "execution_count": 7,
   "metadata": {},
   "outputs": [
    {
     "name": "stdout",
     "output_type": "stream",
     "text": [
      "[1 2]\n",
      "실수형 asfarray: [1. 2.]\n",
      "int32 float64\n"
     ]
    }
   ],
   "source": [
    "arr3 = np.array((1,2))\n",
    "print(arr3)\n",
    "arr4 = np.asfarray([1,2])\n",
    "print('실수형 asfarray:',arr4)\n",
    " \n",
    "print(arr3.dtype, arr4.dtype)"
   ]
  },
  {
   "cell_type": "code",
   "execution_count": 8,
   "metadata": {
    "scrolled": true
   },
   "outputs": [
    {
     "name": "stdout",
     "output_type": "stream",
     "text": [
      "[1 2 3 4]\n",
      "[ 1.  2. nan  4.]\n",
      "array must not contain infs or NaNs\n"
     ]
    }
   ],
   "source": [
    "# NaN이란 Not a Number라는 뜻으로, 숫자가 아님을 뜻하는 상수입니다.\n",
    "# INF는 Infinite라는 뜻으로, 무한대 값을 뜻하는 상수\n",
    "arr4 = np.array([1, 2, 3, 4])\n",
    "arr5 = np.array([1, 2, np.nan, 4])\n",
    "print(np.asarray_chkfinite(arr4))  # chkfinite는 check finite의 줄임말로 np.nan이나 np.inf가 배열에 들어있는지 확인 \n",
    "try :\n",
    "    print(np.asarray_chkfinite(arr5)) \n",
    "except ValueError as e :\n",
    "    print(arr5)\n",
    "    print(e)\n",
    "    "
   ]
  },
  {
   "cell_type": "code",
   "execution_count": 9,
   "metadata": {
    "scrolled": true
   },
   "outputs": [
    {
     "name": "stdout",
     "output_type": "stream",
     "text": [
      "0~4: [0 1 2 3 4]\n",
      "3~9: [3 4 5 6 7 8 9]\n",
      "2~9 2자리씩 건너 띄워서: [2 4 6 8]\n"
     ]
    }
   ],
   "source": [
    "print('0~4:', np.arange(5))\n",
    "print('3~9:', np.arange(3, 10))\n",
    "print('2~9 2자리씩 건너 띄워서:', np.arange(2, 10, 2)) "
   ]
  },
  {
   "cell_type": "markdown",
   "metadata": {},
   "source": [
    "## linspace 선형 간격"
   ]
  },
  {
   "cell_type": "code",
   "execution_count": 10,
   "metadata": {},
   "outputs": [
    {
     "name": "stdout",
     "output_type": "stream",
     "text": [
      "0~1 4개로 나눠서: [0.         1.66666667 3.33333333 5.        ]\n"
     ]
    }
   ],
   "source": [
    "print('0~1 4개로 나눠서:', np.linspace(0, 5, 4))"
   ]
  },
  {
   "cell_type": "markdown",
   "metadata": {},
   "source": [
    "## zeros :   0으로 채워줌"
   ]
  },
  {
   "cell_type": "code",
   "execution_count": 11,
   "metadata": {
    "scrolled": true
   },
   "outputs": [
    {
     "name": "stdout",
     "output_type": "stream",
     "text": [
      "[0. 0. 0. 0. 0.]\n",
      "[[0. 0. 0.]\n",
      " [0. 0. 0.]]\n"
     ]
    }
   ],
   "source": [
    "print(np.zeros(5))\n",
    "print(np.zeros((2, 3)))"
   ]
  },
  {
   "cell_type": "markdown",
   "metadata": {},
   "source": [
    "## ones : 1로 채워줌"
   ]
  },
  {
   "cell_type": "code",
   "execution_count": 12,
   "metadata": {},
   "outputs": [
    {
     "name": "stdout",
     "output_type": "stream",
     "text": [
      "[1. 1. 1.]\n",
      "[[1. 1. 1.]\n",
      " [1. 1. 1.]]\n"
     ]
    }
   ],
   "source": [
    "print(np.ones(3))\n",
    "print(np.ones((2, 3)))"
   ]
  },
  {
   "cell_type": "markdown",
   "metadata": {},
   "source": [
    "## full : 주어진 값으로 채워줌"
   ]
  },
  {
   "cell_type": "code",
   "execution_count": 13,
   "metadata": {},
   "outputs": [
    {
     "name": "stdout",
     "output_type": "stream",
     "text": [
      "[4 4 4]\n",
      "[4 4] 5\n"
     ]
    }
   ],
   "source": [
    "print(np.full(3, 4))\n",
    "print(np.full(2, 4), 5)"
   ]
  },
  {
   "cell_type": "markdown",
   "metadata": {},
   "source": [
    "## eye, identity : 항등행렬을 만들어줌"
   ]
  },
  {
   "cell_type": "code",
   "execution_count": 14,
   "metadata": {
    "scrolled": false
   },
   "outputs": [
    {
     "name": "stdout",
     "output_type": "stream",
     "text": [
      "[[1. 0. 0.]\n",
      " [0. 1. 0.]\n",
      " [0. 0. 1.]]\n",
      "[[1. 0. 0. 0.]\n",
      " [0. 1. 0. 0.]\n",
      " [0. 0. 1. 0.]\n",
      " [0. 0. 0. 1.]]\n"
     ]
    }
   ],
   "source": [
    "print(np.eye(3))\n",
    "print(np.identity(4)) "
   ]
  },
  {
   "cell_type": "markdown",
   "metadata": {},
   "source": [
    "## diag : 주어진 배열 값을 이용하여 대각행렬을 만들어줌"
   ]
  },
  {
   "cell_type": "code",
   "execution_count": 15,
   "metadata": {},
   "outputs": [
    {
     "name": "stdout",
     "output_type": "stream",
     "text": [
      "[[1 0 0 0]\n",
      " [0 2 0 0]\n",
      " [0 0 3 0]\n",
      " [0 0 0 4]]\n",
      "[[1 0 0 0]\n",
      " [0 2 0 0]\n",
      " [0 0 3 0]\n",
      " [0 0 0 4]]\n"
     ]
    }
   ],
   "source": [
    "print(np.diag(np.array([1, 2, 3, 4])))\n",
    "print(np.diag(1+np.arange(4)))"
   ]
  },
  {
   "cell_type": "markdown",
   "metadata": {},
   "source": [
    "## np.where"
   ]
  },
  {
   "cell_type": "code",
   "execution_count": 16,
   "metadata": {},
   "outputs": [
    {
     "name": "stdout",
     "output_type": "stream",
     "text": [
      "[[ 0  1  2]\n",
      " [ 0  2 -1]\n",
      " [ 0  3 -1]]\n"
     ]
    }
   ],
   "source": [
    "a = np.array([[0, 1, 2],\n",
    "              [0, 2, 4],\n",
    "              [0, 3, 6]])\n",
    "print( np.where(a < 4, a, -1) ) # a가 4 보다 작으면 a 아니면 -1"
   ]
  },
  {
   "cell_type": "markdown",
   "metadata": {},
   "source": [
    "## arange : range 와 유사"
   ]
  },
  {
   "cell_type": "code",
   "execution_count": 17,
   "metadata": {
    "scrolled": true
   },
   "outputs": [
    {
     "name": "stdout",
     "output_type": "stream",
     "text": [
      "[ 0  1  2  3  4  5  6  7  8  9 10 11]\n",
      "[[ 0  1  2  3]\n",
      " [ 4  5  6  7]\n",
      " [ 8  9 10 11]]\n"
     ]
    }
   ],
   "source": [
    "arr6 = np.arange(12)\n",
    "print(arr6)\n",
    "arr7 = np.arange(12).reshape(3, 4)   #reshape 함수는 1차원 배열을 다차원 배열로 바꿔주는 함수 \n",
    "print(arr7) "
   ]
  },
  {
   "cell_type": "code",
   "execution_count": 18,
   "metadata": {
    "scrolled": true
   },
   "outputs": [
    {
     "name": "stdout",
     "output_type": "stream",
     "text": [
      "[[ 0  1  2  3]\n",
      " [ 4  5  6  7]\n",
      " [ 8  9 10 11]]\n",
      "[[ 0  1  2]\n",
      " [ 3  4  5]\n",
      " [ 6  7  8]\n",
      " [ 9 10 11]]\n"
     ]
    }
   ],
   "source": [
    "arr8 = np.arange(12)\n",
    "print(arr8.reshape(3, -1))   # 전체 길이를 모른 상태로 한 쪽 길이만 지정해주고 싶다면 -1을 사용 \n",
    "print(arr8.reshape(4, -1))"
   ]
  },
  {
   "cell_type": "markdown",
   "metadata": {},
   "source": [
    "# 배열 인덱싱/슬라이싱"
   ]
  },
  {
   "cell_type": "code",
   "execution_count": 19,
   "metadata": {
    "scrolled": true
   },
   "outputs": [
    {
     "name": "stdout",
     "output_type": "stream",
     "text": [
      "[[ 1  2  3]\n",
      " [ 4  5  6]\n",
      " [ 7  8  9]\n",
      " [10 11 12]]\n"
     ]
    }
   ],
   "source": [
    "lst1 = [[1, 2, 3], [4, 5, 6], [7, 8, 9], [10, 11, 12]]\n",
    "arr1 = np.array(lst1) \n",
    "print(arr1)"
   ]
  },
  {
   "cell_type": "code",
   "execution_count": 20,
   "metadata": {
    "scrolled": true
   },
   "outputs": [
    {
     "name": "stdout",
     "output_type": "stream",
     "text": [
      "2줄~3줄, 1컬럼~2컬럼:\n",
      "[[4 5]\n",
      " [7 8]]\n"
     ]
    }
   ],
   "source": [
    "print('2줄~3줄, 1컬럼~2컬럼:', arr1[1:3, 0:2], sep='\\n')"
   ]
  },
  {
   "cell_type": "code",
   "execution_count": 21,
   "metadata": {
    "scrolled": true
   },
   "outputs": [
    {
     "name": "stdout",
     "output_type": "stream",
     "text": [
      "2줄~끝, 3컬럼~끝:\n",
      "[[ 6]\n",
      " [ 9]\n",
      " [12]]\n"
     ]
    }
   ],
   "source": [
    "print('2줄~끝, 3컬럼~끝:', arr1[1:, 2:], sep='\\n')"
   ]
  },
  {
   "cell_type": "code",
   "execution_count": 22,
   "metadata": {
    "scrolled": true
   },
   "outputs": [
    {
     "name": "stdout",
     "output_type": "stream",
     "text": [
      "첫번째줄: [1 2 3]\n",
      "첫번째줄 전체컬럼: [1 2 3]\n",
      "첫번째줄 전체컬럼: [1 2 3]\n"
     ]
    }
   ],
   "source": [
    "print('첫번째줄:', arr1[0])\n",
    "print('첫번째줄 전체컬럼:', arr1[0, ])\n",
    "print('첫번째줄 전체컬럼:', arr1[0, :]) "
   ]
  },
  {
   "cell_type": "code",
   "execution_count": 23,
   "metadata": {},
   "outputs": [
    {
     "name": "stdout",
     "output_type": "stream",
     "text": [
      "전체줄 첫번째 컬럼: [ 1  4  7 10]\n"
     ]
    }
   ],
   "source": [
    "print('전체줄 첫번째 컬럼:', arr1[:, 0])"
   ]
  },
  {
   "cell_type": "code",
   "execution_count": 24,
   "metadata": {},
   "outputs": [
    {
     "name": "stdout",
     "output_type": "stream",
     "text": [
      "[0 1 2 3 4 5 6]\n",
      "[1 2 3 4]\n",
      "[ 0  1  2 10  4  5  6]\n",
      "[ 1  2 10  4]\n"
     ]
    }
   ],
   "source": [
    "arr2 = np.arange(7)\n",
    "arr3 = arr2[1:5]   # 주소가 복사 됨\n",
    "print(arr2)\n",
    "print(arr3)\n",
    "\n",
    "arr3[2] = 10\n",
    "print(arr2)\n",
    "print(arr3) "
   ]
  },
  {
   "cell_type": "code",
   "execution_count": 25,
   "metadata": {
    "scrolled": true
   },
   "outputs": [
    {
     "name": "stdout",
     "output_type": "stream",
     "text": [
      "[0 1 2 3 4 5 6]\n",
      "[1 2 3 4]\n",
      "[0 1 2 3 4 5 6]\n",
      "[ 1  2 10  4]\n"
     ]
    }
   ],
   "source": [
    "arr2 = np.arange(7)\n",
    "arr3 = arr2[1:5].copy()   # 값이 복사 됨\n",
    "print(arr2)\n",
    "print(arr3)\n",
    "\n",
    "arr3[2] = 10\n",
    "print(arr2)\n",
    "print(arr3) "
   ]
  },
  {
   "cell_type": "code",
   "execution_count": 26,
   "metadata": {
    "scrolled": false
   },
   "outputs": [
    {
     "name": "stdout",
     "output_type": "stream",
     "text": [
      "arr1 : [[ 1  2  3]\n",
      " [ 4  5  6]\n",
      " [ 7  8  9]\n",
      " [10 11 12]]\n",
      "arr1[0, 2] : 3\n",
      "arr1[[0, 2], [1, 2]] : [2 9]\n"
     ]
    }
   ],
   "source": [
    "lst1 = [[1, 2, 3], [4, 5, 6], [7, 8, 9], [10, 11, 12]]\n",
    "arr1 = np.array(lst1) \n",
    "print('arr1 :', arr1)\n",
    "print('arr1[0, 2] :', arr1[0, 2])\n",
    "print('arr1[[0, 2], [1, 2]] :', arr1[[0, 2], [1, 2]])   # [0, 2], [1, 2] 이므로 하나씩 , 즉, (0, 1)과 (2, 2) "
   ]
  },
  {
   "cell_type": "markdown",
   "metadata": {},
   "source": [
    "# 논리형 인덱싱"
   ]
  },
  {
   "cell_type": "code",
   "execution_count": 27,
   "metadata": {
    "scrolled": true
   },
   "outputs": [
    {
     "name": "stdout",
     "output_type": "stream",
     "text": [
      "[[1 2 3]\n",
      " [4 5 6]\n",
      " [7 8 9]]\n",
      "[[False  True  True]\n",
      " [ True False False]\n",
      " [ True  True False]]\n",
      "[2 3 4 7 8]\n"
     ]
    }
   ],
   "source": [
    "lst1 = [[1, 2, 3],\n",
    "       [4, 5, 6],\n",
    "       [7, 8, 9]]\n",
    "\n",
    "blst = [[False, True, True],\n",
    "       [True, False, False],\n",
    "       [True, True, False]]\n",
    "\n",
    "arr1 = np.array(lst1)\n",
    "barr1 = np.array(blst)\n",
    "print(arr1) \n",
    "print(barr1) \n",
    "print(arr1[barr1])"
   ]
  },
  {
   "cell_type": "code",
   "execution_count": 28,
   "metadata": {
    "scrolled": true
   },
   "outputs": [
    {
     "name": "stdout",
     "output_type": "stream",
     "text": [
      "[2 4 6 8]\n",
      "[3 6 9]\n"
     ]
    }
   ],
   "source": [
    "print(arr1[arr1%2==0])\n",
    "print(arr1[arr1%3==0]) "
   ]
  },
  {
   "cell_type": "code",
   "execution_count": 29,
   "metadata": {
    "scrolled": true
   },
   "outputs": [
    {
     "name": "stdout",
     "output_type": "stream",
     "text": [
      "['math' 'math' 'lang' 'chem' 'math' 'phys' 'chem']\n",
      "[[ 0  1  2  3]\n",
      " [ 4  5  6  7]\n",
      " [ 8  9 10 11]\n",
      " [12 13 14 15]\n",
      " [16 17 18 19]\n",
      " [20 21 22 23]\n",
      " [24 25 26 27]]\n"
     ]
    }
   ],
   "source": [
    "subject = np.array(['math', 'math', 'lang', 'chem', 'math', 'phys', 'chem'])\n",
    "data = np.arange(28).reshape(7, 4)\n",
    "\n",
    "print(subject)\n",
    "print(data) "
   ]
  },
  {
   "cell_type": "code",
   "execution_count": 30,
   "metadata": {},
   "outputs": [
    {
     "name": "stdout",
     "output_type": "stream",
     "text": [
      "[ True  True False False  True False False]\n"
     ]
    }
   ],
   "source": [
    "print(subject=='math')   # 논리형을 이용하여 논리형 배열을 생성"
   ]
  },
  {
   "cell_type": "code",
   "execution_count": 31,
   "metadata": {
    "scrolled": true
   },
   "outputs": [
    {
     "name": "stdout",
     "output_type": "stream",
     "text": [
      "[[ 0  1  2  3]\n",
      " [ 4  5  6  7]\n",
      " [16 17 18 19]]\n",
      "[[ 0  1  2  3]\n",
      " [ 4  5  6  7]\n",
      " [12 13 14 15]\n",
      " [16 17 18 19]\n",
      " [24 25 26 27]]\n"
     ]
    }
   ],
   "source": [
    "print(data[subject=='math', :])\n",
    "print(data[(subject=='math') | (subject=='chem'), :]) "
   ]
  },
  {
   "cell_type": "markdown",
   "metadata": {},
   "source": [
    "# 난수 생성"
   ]
  },
  {
   "cell_type": "code",
   "execution_count": 32,
   "metadata": {},
   "outputs": [],
   "source": [
    "np.random.seed(seed=1234)   \n",
    "# 난수 생성 함수는 난수를 생성할 때마다 각각 다른 값을 추출하게 됩니다\n",
    "# 만약에 동일한 값을 추출하고자 할 때는 seed라는 값을 이용"
   ]
  },
  {
   "cell_type": "markdown",
   "metadata": {},
   "source": [
    "## 정규분포 normal"
   ]
  },
  {
   "cell_type": "code",
   "execution_count": 33,
   "metadata": {
    "scrolled": true
   },
   "outputs": [
    {
     "name": "stdout",
     "output_type": "stream",
     "text": [
      "[ 0.47143516 -1.19097569  1.43270697 -0.3126519  -0.72058873]\n",
      "[ 0.88716294  0.85958841 -0.6365235   0.01569637 -2.24268495]\n",
      "[ 0.47143516 -1.19097569  1.43270697 -0.3126519  -0.72058873]\n",
      "[ 0.88716294  0.85958841 -0.6365235   0.01569637 -2.24268495]\n",
      "[ 0.47143516 -1.19097569  1.43270697 -0.3126519  -0.72058873]\n",
      "[ 0.88716294  0.85958841 -0.6365235   0.01569637 -2.24268495]\n",
      "[ 1.15003572  0.99194602  0.95332413 -2.02125482 -0.33407737]\n",
      "[ 0.47143516 -1.19097569  1.43270697 -0.3126519  -0.72058873]\n",
      "[ 0.88716294  0.85958841 -0.6365235   0.01569637 -2.24268495]\n",
      "[ 1.15003572  0.99194602  0.95332413 -2.02125482 -0.33407737]\n"
     ]
    }
   ],
   "source": [
    "\"\"\"정규분포 함수는 normal(loc, scale, size)로 구성\n",
    "loc은 평균, scale은 표준편차, size는 개수를 의미합니다\n",
    "설정하지 않는 경우 loc 0, scale 1로 설정됩니다\n",
    "\"\"\"\n",
    "\n",
    "print(np.random.normal(size=5))\n",
    "print(np.random.normal(size=5))\n",
    "\n",
    "np.random.seed(seed=1234)  # seed를 설정한 후에는 처음 시작하는 값이 동일함\n",
    "print(np.random.normal(size=5))\n",
    "print(np.random.normal(size=5))\n",
    "np.random.seed(seed=1234)\n",
    "print(np.random.normal(size=5)) \n",
    "print(np.random.normal(size=5)) \n",
    "print(np.random.normal(size=5)) \n",
    "np.random.seed(seed=1234)\n",
    "print(np.random.normal(size=5)) \n",
    "print(np.random.normal(size=5)) \n",
    "print(np.random.normal(size=5))"
   ]
  },
  {
   "cell_type": "code",
   "execution_count": 34,
   "metadata": {
    "scrolled": false
   },
   "outputs": [
    {
     "name": "stdout",
     "output_type": "stream",
     "text": [
      "[[ 0.00211836  0.40545341  0.28909194]\n",
      " [ 1.32115819 -1.54690555 -0.20264632]]\n"
     ]
    }
   ],
   "source": [
    "print(np.random.normal(size=(2, 3))) "
   ]
  },
  {
   "cell_type": "markdown",
   "metadata": {},
   "source": [
    "## 표준정규분포 함수는 randn"
   ]
  },
  {
   "cell_type": "code",
   "execution_count": 35,
   "metadata": {
    "scrolled": false
   },
   "outputs": [
    {
     "name": "stdout",
     "output_type": "stream",
     "text": [
      "[-0.65596934  0.19342138  0.55343891  1.31815155 -0.46930528  0.67555409\n",
      " -1.81702723 -0.18310854  1.05896919 -0.39784023]\n",
      "[[ 0.33743765  1.04757857  1.04593826  0.86371729]\n",
      " [-0.12209157  0.12471295 -0.32279481  0.84167471]\n",
      " [ 2.39096052  0.07619959 -0.56644593  0.03614194]\n",
      " [-2.0749776   0.2477922  -0.89715678 -0.13679483]\n",
      " [ 0.01828919  0.75541398  0.21526858  0.84100879]]\n"
     ]
    }
   ],
   "source": [
    "print(np.random.randn(10))\n",
    "print(np.random.randn(5, 4)) "
   ]
  },
  {
   "cell_type": "markdown",
   "metadata": {},
   "source": [
    "## 이항분포 함수는 binomial(n, p, size)로 구성"
   ]
  },
  {
   "cell_type": "code",
   "execution_count": 36,
   "metadata": {
    "scrolled": true
   },
   "outputs": [
    {
     "name": "stdout",
     "output_type": "stream",
     "text": [
      "[0 0 0 0 0]\n",
      "[1 0 0 1 1]\n"
     ]
    }
   ],
   "source": [
    "print(np.random.binomial(n=1, p=0.5, size=5))\n",
    "print(np.random.binomial(n=1, p=0.5, size=5))"
   ]
  },
  {
   "cell_type": "markdown",
   "metadata": {},
   "source": [
    "## 초기하분포 함수는 hypergeometric(ngood, nbad, nsample, size)로 구성"
   ]
  },
  {
   "cell_type": "code",
   "execution_count": 37,
   "metadata": {},
   "outputs": [
    {
     "name": "stdout",
     "output_type": "stream",
     "text": [
      "[3 4 4 3 5 3 3 4 4 5]\n",
      "[4 3 4 3 3 2 5 2 3 4]\n"
     ]
    }
   ],
   "source": [
    "print(np.random.hypergeometric(ngood=5, nbad=10, nsample=10, size=10))\n",
    "print(np.random.hypergeometric(ngood=5, nbad=10, nsample=10, size=10))"
   ]
  },
  {
   "cell_type": "markdown",
   "metadata": {},
   "source": [
    "## 포아송 분포는 poisson(lam, size)로 구성"
   ]
  },
  {
   "cell_type": "code",
   "execution_count": 38,
   "metadata": {
    "scrolled": true
   },
   "outputs": [
    {
     "name": "stdout",
     "output_type": "stream",
     "text": [
      "[4 6 4 9 6 4 4 3 8 2]\n",
      "[1 6 7 3 4 8 7 2 6 4]\n"
     ]
    }
   ],
   "source": [
    "print(np.random.poisson(lam=5, size=10))\n",
    "print(np.random.poisson(lam=5, size=10))"
   ]
  },
  {
   "cell_type": "markdown",
   "metadata": {},
   "source": [
    "## T 분포는 standard_t(df, size)로 구성"
   ]
  },
  {
   "cell_type": "code",
   "execution_count": 39,
   "metadata": {
    "scrolled": true
   },
   "outputs": [
    {
     "name": "stdout",
     "output_type": "stream",
     "text": [
      "[-1.27227362  0.37843737 -0.31888787  1.69801724 -0.9015829  -2.40668973\n",
      " -0.55747795  1.07216807  0.26198781  0.15415054]\n",
      "[-0.01924681  0.21414425 -0.19280827 -0.11181867  1.29599052 -1.35898185\n",
      " -0.02469016  1.27948939  1.13315027  1.43719214]\n"
     ]
    }
   ],
   "source": [
    "print(np.random.standard_t(df=5, size=10))\n",
    "print(np.random.standard_t(df=5, size=10))"
   ]
  },
  {
   "cell_type": "markdown",
   "metadata": {},
   "source": [
    "## F 분포는 f(dfnum, dfden, size)로 구성"
   ]
  },
  {
   "cell_type": "code",
   "execution_count": 40,
   "metadata": {
    "scrolled": true
   },
   "outputs": [
    {
     "name": "stdout",
     "output_type": "stream",
     "text": [
      "[0.25702863 0.84891219 1.669646   0.10106778 0.25174516 0.26426942\n",
      " 0.47087418 0.17313482 0.79345206 0.93234207]\n",
      "[0.46940954 3.0694736  0.39116676 0.36801559 0.41804066 0.98598247\n",
      " 0.45089244 3.13491733 0.67145314 0.9746113 ]\n"
     ]
    }
   ],
   "source": [
    "print(np.random.f(dfnum=5, dfden=10, size=10))\n",
    "print(np.random.f(dfnum=5, dfden=10, size=10))"
   ]
  },
  {
   "cell_type": "markdown",
   "metadata": {},
   "source": [
    "## 균등분포는 uniform(low, high, size)로 구성"
   ]
  },
  {
   "cell_type": "code",
   "execution_count": 41,
   "metadata": {
    "scrolled": true
   },
   "outputs": [
    {
     "name": "stdout",
     "output_type": "stream",
     "text": [
      "[4.85462662 3.86930482 0.65888236 4.63589932 4.1389829  1.96365833\n",
      " 0.70285323]\n",
      "[0.2606817  0.46364658 4.43494815 0.84075484 1.81443306 3.27140943\n",
      " 3.02410977]\n"
     ]
    }
   ],
   "source": [
    "print(np.random.uniform(low=0.0, high=5.0, size=7))\n",
    "print(np.random.uniform(low=0.0, high=5.0, size=7))"
   ]
  },
  {
   "cell_type": "markdown",
   "metadata": {},
   "source": [
    "## 이산형 균등분포는 randint(low, high, size)로 구성"
   ]
  },
  {
   "cell_type": "code",
   "execution_count": 42,
   "metadata": {},
   "outputs": [
    {
     "name": "stdout",
     "output_type": "stream",
     "text": [
      "[1 9 9 8 8 0 8 6 6 1]\n",
      "[4 3 5 5 4 9 3 8 2 3]\n"
     ]
    }
   ],
   "source": [
    "print(np.random.randint(low=0, high=10, size=10))\n",
    "print(np.random.randint(low=0, high=10, size=10))"
   ]
  },
  {
   "cell_type": "markdown",
   "metadata": {},
   "source": [
    "## 카이제곱분포는 chisquare(df, size)로 구성"
   ]
  },
  {
   "cell_type": "code",
   "execution_count": 43,
   "metadata": {},
   "outputs": [
    {
     "name": "stdout",
     "output_type": "stream",
     "text": [
      "[ 3.47707365  3.44308218  2.29516312  4.97112491  2.84417357  6.66325081\n",
      "  4.61528698  5.05941196  3.61067723 10.30883862]\n",
      "[5.09504249 8.65568631 6.60230581 4.64570956 5.92902373 4.56823766\n",
      " 2.68874052 4.07573532 4.47336462 5.58102149]\n"
     ]
    }
   ],
   "source": [
    "print(np.random.chisquare(df=5, size=10))\n",
    "print(np.random.chisquare(df=5, size=10))"
   ]
  },
  {
   "cell_type": "markdown",
   "metadata": {},
   "source": [
    "## 감마분포는 gamma(shape, scale, size)로 구성"
   ]
  },
  {
   "cell_type": "code",
   "execution_count": 44,
   "metadata": {
    "scrolled": true
   },
   "outputs": [
    {
     "name": "stdout",
     "output_type": "stream",
     "text": [
      "[14.46912079 26.16960123 22.32599884 14.75567031  8.78710945 16.37519395\n",
      "  7.52728378 12.31478582 10.94823011 14.0834521 ]\n",
      "[11.36031274 25.73874965 15.1737743  20.84659304 11.23685547 23.79227535\n",
      " 13.23928813 14.69413269 17.71942926 13.05535042]\n"
     ]
    }
   ],
   "source": [
    "print(np.random.gamma(shape=4, scale=4, size=10))\n",
    "print(np.random.gamma(shape=4, scale=4, size=10))"
   ]
  },
  {
   "cell_type": "markdown",
   "metadata": {},
   "source": [
    "## 순서바꾸기"
   ]
  },
  {
   "cell_type": "code",
   "execution_count": 45,
   "metadata": {
    "scrolled": true
   },
   "outputs": [
    {
     "name": "stdout",
     "output_type": "stream",
     "text": [
      "[0 1 2 3 4 5 6]\n",
      "[0 5 4 3 2 1 6]\n",
      "[0 1 2 3 4 5 6]\n",
      "None\n",
      "[0 3 1 6 4 2 5]\n"
     ]
    }
   ],
   "source": [
    "x = np.arange(7)\n",
    "print(x)\n",
    "\n",
    "print(np.random.permutation(x))  # permutation은 해당 함수를 실행한 순간 단 한 번 바꿔주는 함수\n",
    "print(x)\n",
    "\n",
    "print(np.random.shuffle(x)) # shuffle은 바꿔준 후에도 바뀐 순서가 유지되는 함수\n",
    "print(x)"
   ]
  },
  {
   "cell_type": "markdown",
   "metadata": {},
   "source": [
    "# 배열 연산"
   ]
  },
  {
   "cell_type": "code",
   "execution_count": 46,
   "metadata": {
    "scrolled": true
   },
   "outputs": [
    {
     "name": "stdout",
     "output_type": "stream",
     "text": [
      "[2 3 4 5 6]\n",
      "[0 1 2 3 4]\n",
      "[ 2  4  6  8 10]\n",
      "[0.5 1.  1.5 2.  2.5]\n",
      "[0 1 1 2 2]\n",
      "[1 0 1 0 1]\n",
      "[ 1  4  9 16 25]\n",
      "[ 2  4  8 16 32]\n"
     ]
    }
   ],
   "source": [
    "x = np.array([1, 2, 3, 4, 5])\n",
    "print(x+1)\n",
    "print(x-1)\n",
    "print(x*2)\n",
    "print(x/2)\n",
    "print(x//2)\n",
    "print(x%2)\n",
    "print(x**2)\n",
    "print(2**x)"
   ]
  },
  {
   "cell_type": "code",
   "execution_count": 47,
   "metadata": {},
   "outputs": [
    {
     "name": "stdout",
     "output_type": "stream",
     "text": [
      "[ 3  5  7  9 11]\n",
      "[-1 -1 -1 -1 -1]\n",
      "[ 2  6 12 20 30]\n",
      "[0.5        0.66666667 0.75       0.8        0.83333333]\n",
      "[0 0 0 0 0]\n",
      "[1 2 3 4 5]\n",
      "[    1     8    81  1024 15625]\n"
     ]
    }
   ],
   "source": [
    "x = np.array([1, 2, 3, 4, 5])\n",
    "y = np.array([2, 3, 4, 5, 6])\n",
    "print(x+y)\n",
    "print(x-y)\n",
    "print(x*y)\n",
    "print(x/y)\n",
    "print(x//y)\n",
    "print(x%y)\n",
    "print(x**y)"
   ]
  },
  {
   "cell_type": "code",
   "execution_count": 48,
   "metadata": {
    "scrolled": true
   },
   "outputs": [
    {
     "name": "stdout",
     "output_type": "stream",
     "text": [
      "[ 3  5  7  9 11]\n",
      "[-1 -1 -1 -1 -1]\n",
      "[ 2  6 12 20 30]\n",
      "[0.5        0.66666667 0.75       0.8        0.83333333]\n",
      "[    1     8    81  1024 15625]\n",
      "[1 2 3 4 5]\n"
     ]
    }
   ],
   "source": [
    "# 연산 함수 이용\n",
    "x = np.array([1, 2, 3, 4, 5])\n",
    "y = np.array([2, 3, 4, 5, 6])\n",
    "print(np.add(x, y))\n",
    "print(np.subtract(x, y))\n",
    "print(np.multiply(x, y))\n",
    "print(np.divide(x, y))\n",
    "print(np.power(x, y))\n",
    "print(np.mod(x, y))"
   ]
  },
  {
   "cell_type": "code",
   "execution_count": 49,
   "metadata": {
    "scrolled": true
   },
   "outputs": [
    {
     "name": "stdout",
     "output_type": "stream",
     "text": [
      "[1 3 5]\n",
      "[1. 3. 5.]\n"
     ]
    }
   ],
   "source": [
    "z = np.array([-1, 3, -5])\n",
    "print(np.abs(z))\n",
    "print(np.fabs(z))"
   ]
  },
  {
   "cell_type": "code",
   "execution_count": 50,
   "metadata": {},
   "outputs": [
    {
     "name": "stdout",
     "output_type": "stream",
     "text": [
      "[1.41421356 1.73205081 2.         2.23606798 2.44948974]\n",
      "[ 4  9 16 25 36]\n",
      "[  7.3890561   20.08553692  54.59815003 148.4131591  403.42879349]\n",
      "[0.69314718 1.09861229 1.38629436 1.60943791 1.79175947]\n",
      "[0.30103    0.47712125 0.60205999 0.69897    0.77815125]\n",
      "[1.         1.5849625  2.         2.32192809 2.5849625 ]\n",
      "[-1  1 -1]\n"
     ]
    }
   ],
   "source": [
    "y = np.array([2, 3, 4, 5, 6])\n",
    "z = np.array([-1, 3, -5])\n",
    "print(np.sqrt(y))\n",
    "print(np.square(y))\n",
    "print(np.exp(y))\n",
    "print(np.log(y))\n",
    "print(np.log10(y))\n",
    "print(np.log2(y))\n",
    "print(np.sign(z))"
   ]
  },
  {
   "cell_type": "code",
   "execution_count": 51,
   "metadata": {
    "scrolled": true
   },
   "outputs": [
    {
     "name": "stdout",
     "output_type": "stream",
     "text": [
      "[ 1  3  5 25 63]\n",
      "[ 2  2 20 38]\n",
      "[ 0 18 18]\n"
     ]
    }
   ],
   "source": [
    "x = np.array([1, 2, 5, 10, 35, 98])\n",
    "print(np.diff(x))\n",
    "print(np.diff(x, n=2))\n",
    "print(np.diff(x, n=3))\n",
    "# diff 함수 안에 n=2를 넣게 된다면, 차이에 대한 차이를 또 계산"
   ]
  },
  {
   "cell_type": "code",
   "execution_count": 52,
   "metadata": {
    "scrolled": true
   },
   "outputs": [
    {
     "name": "stdout",
     "output_type": "stream",
     "text": [
      "24\n",
      "[3 8]\n",
      "[ 2 12]\n"
     ]
    },
    {
     "data": {
      "text/plain": [
       "'axis=0이면 1차원들의 곱이 되어 1*3=3, 2*4=8\\naxis=1이면 2차원들의 곱이 되어 1*2=2, 3*4=12'"
      ]
     },
     "execution_count": 52,
     "metadata": {},
     "output_type": "execute_result"
    }
   ],
   "source": [
    "a = np.array([1, 2, 3, 4])\n",
    "b = np.array([[1, 2], [3, 4]])\n",
    "\n",
    "print(np.prod(a))   # prod 함수는 배열의 요소들의 곱을 구해주는 함수\n",
    "print(np.prod(b, axis=0))\n",
    "print(np.prod(b, axis=1))\n",
    "\"\"\"axis=0이면 1차원들의 곱이 되어 1*3=3, 2*4=8\n",
    "axis=1이면 2차원들의 곱이 되어 1*2=2, 3*4=12\"\"\""
   ]
  },
  {
   "cell_type": "code",
   "execution_count": 53,
   "metadata": {
    "scrolled": true
   },
   "outputs": [
    {
     "name": "stdout",
     "output_type": "stream",
     "text": [
      "[88 29 61 89 46]\n",
      "[41 97 15 42 96]\n",
      "[88 97 61 89 96]\n",
      "[41 29 15 42 46]\n"
     ]
    }
   ],
   "source": [
    "a = np.random.randint(0, 100, 5)\n",
    "b = np.random.randint(0, 100, 5)\n",
    "\n",
    "print(a)\n",
    "print(b)\n",
    "print(np.maximum(a, b))\n",
    "print(np.minimum(a, b))"
   ]
  },
  {
   "cell_type": "markdown",
   "metadata": {},
   "source": [
    "# 수학 함수"
   ]
  },
  {
   "cell_type": "code",
   "execution_count": 54,
   "metadata": {},
   "outputs": [
    {
     "name": "stdout",
     "output_type": "stream",
     "text": [
      "[ 4. -5. 10. -1.  0.]\n",
      "[ 3. -6.  9. -2.  0.]\n",
      "[ 3. -5. 10. -2.  0.]\n",
      "[ 3. -5. 10. -2.  0.]\n"
     ]
    }
   ],
   "source": [
    "a = np.array([3.14, -5.21, 9.69, -1.87, 0])\n",
    "print(np.ceil(a))\n",
    "print(np.floor(a))\n",
    "print(np.rint(a))\n",
    "print(np.around(a))\n",
    "# ceil은 소수점 올림 함수, floor은 소수점 내림 함수, rint와 round는 소수점 반올림 함수"
   ]
  },
  {
   "cell_type": "code",
   "execution_count": 55,
   "metadata": {
    "scrolled": true
   },
   "outputs": [
    {
     "name": "stdout",
     "output_type": "stream",
     "text": [
      "[ 3.1 -5.2  9.7 -1.9  0. ]\n",
      "[  0. -10.  10.  -0.   0.]\n",
      "[ 3. -5.  9. -1.  0.]\n",
      "[ 3. -5.  9. -1.  0.]\n"
     ]
    },
    {
     "data": {
      "text/plain": [
       "'\\nround_ 함수는 주어진 소수점 자릿수까지 반올림하는 함수입니다.\\n1이면 소수점 1자리까지, -1이면 십의 자리까지 반올림을 진행합니다\\nfix 함수는 0의 방향으로 가까운 정수로 올림 또는 내림을 진행하는 함수입니다\\ntrunc 함수는 소수점을 떼는 함수입니다.\\n'"
      ]
     },
     "execution_count": 55,
     "metadata": {},
     "output_type": "execute_result"
    }
   ],
   "source": [
    "print(np.round_(a, 1))\n",
    "print(np.round_(a, -1))\n",
    "print(np.fix(a))\n",
    "print(np.trunc(a))\n",
    "\"\"\"\n",
    "round_ 함수는 주어진 소수점 자릿수까지 반올림하는 함수입니다.\n",
    "1이면 소수점 1자리까지, -1이면 십의 자리까지 반올림을 진행합니다\n",
    "fix 함수는 0의 방향으로 가까운 정수로 올림 또는 내림을 진행하는 함수입니다\n",
    "trunc 함수는 소수점을 떼는 함수입니다.\n",
    "\"\"\""
   ]
  },
  {
   "cell_type": "code",
   "execution_count": 56,
   "metadata": {
    "scrolled": true
   },
   "outputs": [
    {
     "name": "stdout",
     "output_type": "stream",
     "text": [
      "0.8939966636005579\n",
      "-0.4480736161291701\n",
      "-1.995200412208242\n",
      "6.102016471589204e+38\n",
      "6.102016471589204e+38\n",
      "1.0\n"
     ]
    }
   ],
   "source": [
    "print(np.sin(90))\n",
    "print(np.cos(90))\n",
    "print(np.tan(90))\n",
    "print(np.sinh(90))\n",
    "print(np.cosh(90))\n",
    "print(np.tanh(90))\n",
    "# sin, cos, tan은 각각 삼각함수의 값을 리턴해줍니다\n",
    "# sinh, cosh, tanh는 하이퍼볼릭 삼각함수의 값을 리턴해줍니다 "
   ]
  },
  {
   "cell_type": "code",
   "execution_count": 57,
   "metadata": {
    "scrolled": true
   },
   "outputs": [
    {
     "name": "stdout",
     "output_type": "stream",
     "text": [
      "0.5235987755982989\n",
      "0.48121182505960347\n",
      "1.0471975511965979\n",
      "0.9624236501192069\n",
      "0.4636476090008061\n",
      "0.5493061443340549\n"
     ]
    }
   ],
   "source": [
    "print(np.arcsin(0.5))\n",
    "print(np.arcsinh(0.5))\n",
    "print(np.arccos(0.5))\n",
    "print(np.arccosh(1.5))\n",
    "print(np.arctan(0.5))\n",
    "print(np.arctanh(0.5)) \n",
    "# arcsin, arccos, arctan은 각각 역삼각함수 값을 리턴해줍니다\n",
    "# arcsinh, arccosh, arctanh는 하이퍼볼릭 역삼각함수 값을 리턴해줍니다"
   ]
  },
  {
   "cell_type": "code",
   "execution_count": 58,
   "metadata": {},
   "outputs": [
    {
     "name": "stdout",
     "output_type": "stream",
     "text": [
      "3.141592653589793\n",
      "180.0\n"
     ]
    }
   ],
   "source": [
    "print(np.deg2rad(180))\n",
    "print(np.rad2deg(np.pi)) \n",
    "# deg2rad 함수는 디그리를 라디안으로, rad2deg는 라디안을 디그리로 변환해줍니다\n",
    "# np.pi는 파이 상수를 저장하는 numpy 라이브러리의 상수입니다."
   ]
  },
  {
   "cell_type": "code",
   "execution_count": 59,
   "metadata": {},
   "outputs": [
    {
     "name": "stdout",
     "output_type": "stream",
     "text": [
      "2.7478963231773856\n",
      "2.7478963231773856\n",
      "0.13739481615886928\n",
      "0.13739481615886928\n"
     ]
    }
   ],
   "source": [
    "a = np.random.randn(5, 4)\n",
    "print(a.sum())\n",
    "print(np.sum(a))\n",
    "print(a.mean())\n",
    "print(np.mean(a))\n",
    "# sum은 전체 원소의 합, mean은 평균 값"
   ]
  },
  {
   "cell_type": "code",
   "execution_count": 60,
   "metadata": {},
   "outputs": [
    {
     "name": "stdout",
     "output_type": "stream",
     "text": [
      "[[ 0.32680515 -1.69842189 -1.21319697  0.3017502 ]\n",
      " [-0.325923    0.01080226 -0.41681266  0.29756008]\n",
      " [ 0.81509041  1.01870896  0.84122258 -0.58979666]\n",
      " [-0.31239833 -1.7023039   0.76607998  0.22746559]\n",
      " [-0.84272651 -1.52705569  1.03258423  0.05385957]]\n",
      "[[ 1.          0.21782104 -0.63168398  0.40629024  0.10069288]\n",
      " [ 0.21782104  1.         -0.75645924 -0.26801329 -0.27103327]\n",
      " [-0.63168398 -0.75645924  1.         -0.39856309 -0.29631208]\n",
      " [ 0.40629024 -0.26801329 -0.39856309  1.          0.94502494]\n",
      " [ 0.10069288 -0.27103327 -0.29631208  0.94502494  1.        ]]\n",
      "0.8658714679321571\n",
      "0.7497333989789885\n"
     ]
    }
   ],
   "source": [
    "a = np.random.randn(5, 4)\n",
    "print(a)\n",
    "print(np.corrcoef(a))\n",
    "print(np.std(a))\n",
    "print(np.var(a))\n",
    "# corrcoef 함수는 상관계수, std 함수는 표준편차, var 함수는 분산 값"
   ]
  },
  {
   "cell_type": "code",
   "execution_count": 61,
   "metadata": {
    "scrolled": true
   },
   "outputs": [
    {
     "name": "stdout",
     "output_type": "stream",
     "text": [
      "-1.93001917365531\n",
      "3.0671767802178116\n",
      "5\n",
      "7\n"
     ]
    }
   ],
   "source": [
    "a = np.random.randn(5, 4)\n",
    "print(np.min(a))\n",
    "print(np.max(a))\n",
    "print(np.argmin(a))\n",
    "print(np.argmax(a))\n",
    "# min, max 함수는 각각 전체에서의 최솟값, 최댓값\n",
    "# argmin, argmax 함수는 각각 값들이 위치한 인덱스 위치를 반환"
   ]
  },
  {
   "cell_type": "code",
   "execution_count": 62,
   "metadata": {},
   "outputs": [
    {
     "name": "stdout",
     "output_type": "stream",
     "text": [
      "[[-1.02044596 -0.33650479  0.5397815  -0.58989353]\n",
      " [ 0.97726908 -0.29696629 -1.15017113  0.46756824]\n",
      " [-0.36125612 -1.28510922 -1.88616063  0.78894862]\n",
      " [-0.36652921  1.13430737  0.11993403  1.02047681]\n",
      " [ 1.14439734  0.1842332   0.05029428  2.52087004]]\n",
      "누적합: [-1.02044596 -1.35695075 -0.81716926 -1.40706278 -0.4297937  -0.72675999\n",
      " -1.87693112 -1.40936288 -1.77061899 -3.05572821 -4.94188885 -4.15294022\n",
      " -4.51946943 -3.38516206 -3.26522803 -2.24475122 -1.10035388 -0.91612068\n",
      " -0.86582641  1.65504364]\n",
      "누적곱: [-1.02044596e+00  3.43384956e-01  1.85352845e-01 -1.09338444e-01\n",
      " -1.06853081e-01  3.17317627e-02 -3.64969574e-02 -1.70648181e-02\n",
      "  6.16476989e-03 -7.92240263e-03  1.49429239e-02  1.17891993e-02\n",
      " -4.32108593e-03 -4.90143963e-03 -5.87849412e-04 -5.99886692e-04\n",
      " -6.86508738e-04 -1.26477699e-04 -6.36110422e-06 -1.60355171e-05]\n"
     ]
    }
   ],
   "source": [
    "a = np.random.randn(5, 4)\n",
    "print(a)\n",
    "print('누적합:' ,np.cumsum(a))\n",
    "print('누적곱:', np.cumprod(a))"
   ]
  },
  {
   "cell_type": "code",
   "execution_count": 63,
   "metadata": {
    "scrolled": true
   },
   "outputs": [
    {
     "name": "stdout",
     "output_type": "stream",
     "text": [
      "[[-1.02044596 -0.33650479  0.5397815  -0.58989353]\n",
      " [ 0.97726908 -0.29696629 -1.15017113  0.46756824]\n",
      " [-0.36125612 -1.28510922 -1.88616063  0.78894862]\n",
      " [-0.36652921  1.13430737  0.11993403  1.02047681]\n",
      " [ 1.14439734  0.1842332   0.05029428  2.52087004]]\n",
      "행방향합: [ 0.37343514 -0.60003973 -2.32632196  4.20797019]\n",
      "행방향합: [ 0.37343514 -0.60003973 -2.32632196  4.20797019]\n",
      "열방향합: [-1.40706278e+00 -2.30009692e-03 -2.74357734e+00  1.90818900e+00\n",
      "  3.89979486e+00]\n",
      "열방향합: [-1.40706278e+00 -2.30009692e-03 -2.74357734e+00  1.90818900e+00\n",
      "  3.89979486e+00]\n"
     ]
    }
   ],
   "source": [
    "print(a)\n",
    "print('행방향합:', a.sum(axis=0))\n",
    "print('행방향합:', np.sum(a, axis=0))\n",
    "print('열방향합:', a.sum(axis=1))\n",
    "print('열방향합:', np.sum(a, axis=1))"
   ]
  },
  {
   "cell_type": "code",
   "execution_count": 64,
   "metadata": {
    "scrolled": true
   },
   "outputs": [
    {
     "name": "stdout",
     "output_type": "stream",
     "text": [
      "10\n",
      "[10]\n"
     ]
    }
   ],
   "source": [
    "a = np.array([1, 2, 3, 4])\n",
    "b = np.sum(a)\n",
    "c = np.sum(a, keepdims=True) # keepdims가 True인 경우 1차원인 a의 차원을 유지한채로 10\n",
    "\n",
    "print(b)\n",
    "print(c)"
   ]
  },
  {
   "cell_type": "markdown",
   "metadata": {},
   "source": [
    "# 논리 연산과 행렬 연산"
   ]
  },
  {
   "cell_type": "code",
   "execution_count": 65,
   "metadata": {},
   "outputs": [
    {
     "name": "stdout",
     "output_type": "stream",
     "text": [
      "[  0.   1.  nan   3.  inf -inf  inf]\n",
      "[False False  True False False False False]\n",
      "[False False False False  True  True  True]\n",
      "[False False False False False  True False]\n",
      "[False False False False  True False  True]\n",
      "[ True  True False  True False False False]\n"
     ]
    }
   ],
   "source": [
    "a = np.array([0, 1, np.nan, 3, np.inf, np.NINF, np.PINF])\n",
    "# np.nan은 NaN임을 지정하는 상수\n",
    "# np.inf는 무한대임을 지정하는 상수,\n",
    "# p.NINF는 -무한대, \n",
    "# np.PINF는 +무한대를 뜻하는 상수입니다.\n",
    "print(a)\n",
    "print(np.isnan(a))\n",
    "print(np.isinf(a))\n",
    "print(np.isneginf(a))\n",
    "print(np.isposinf(a))\n",
    "print(np.isfinite(a))\n",
    "# isnan : NaN인지 판단, isinf : 무한대 값인지 판단, isneginf : -무한대 값인지 판단,\n",
    "# isposinf : +무한대 값인지 판단, isfinite : 유한 값인지 판단해주는 함수입니다."
   ]
  },
  {
   "cell_type": "code",
   "execution_count": 66,
   "metadata": {
    "scrolled": true
   },
   "outputs": [
    {
     "name": "stdout",
     "output_type": "stream",
     "text": [
      "[False False False False  True]\n",
      "[ True  True  True  True False]\n",
      "[False False  True  True False]\n",
      "[False False  True  True  True]\n",
      "[ True  True False False False]\n",
      "[ True  True False False  True]\n",
      "False\n",
      "True\n"
     ]
    }
   ],
   "source": [
    "a = np.array([1, 2, 3, 4, 4])\n",
    "b = np.array([3, 5, 1, 2, 4])\n",
    "c = np.array([3, 5, 1, 2, 4])\n",
    "\n",
    "print(np.equal(a, b))\n",
    "print(np.not_equal(a, b))\n",
    "print(np.greater(a, b))\n",
    "print(np.greater_equal(a, b))\n",
    "print(np.less(a, b))\n",
    "print(np.less_equal(a, b))\n",
    "print(np.array_equal(a, b))\n",
    "print(np.array_equal(b, c))"
   ]
  },
  {
   "cell_type": "code",
   "execution_count": 67,
   "metadata": {},
   "outputs": [
    {
     "name": "stdout",
     "output_type": "stream",
     "text": [
      "True\n",
      "False\n"
     ]
    }
   ],
   "source": [
    "a = np.array([1, 2, 3, 4, 5, 6, 7])\n",
    "\n",
    "print((a>=3).any())\n",
    "print((a>=3).all())\n",
    "# any()  해당 조건에 부합하는 원소가 하나라도 존재하면 True\n",
    "# all()  모든 원소가 해당 조건에 부합하면 True "
   ]
  },
  {
   "cell_type": "code",
   "execution_count": 68,
   "metadata": {},
   "outputs": [
    {
     "name": "stdout",
     "output_type": "stream",
     "text": [
      "[False False  True  True]\n",
      "[ True False False False]\n",
      "[ True  True  True False]\n",
      "[False  True  True False]\n"
     ]
    }
   ],
   "source": [
    "a = np.array([True, True, False, False])\n",
    "b = np.array([True, False, True, False])\n",
    "\n",
    "print(np.logical_not(a))\n",
    "print(np.logical_and(a, b))\n",
    "print(np.logical_or(a, b))\n",
    "print(np.logical_xor(a, b))"
   ]
  },
  {
   "cell_type": "code",
   "execution_count": 69,
   "metadata": {
    "scrolled": true
   },
   "outputs": [
    {
     "name": "stdout",
     "output_type": "stream",
     "text": [
      "[[2 0]\n",
      " [8 3]]\n",
      "[[5 7]\n",
      " [8 4]]\n"
     ]
    }
   ],
   "source": [
    "a = np.random.randint(0, 10, 4).reshape(2, 2)\n",
    "b = np.random.randint(0, 10, 4).reshape(2, 2)\n",
    "print(a)\n",
    "print(b)"
   ]
  },
  {
   "cell_type": "markdown",
   "metadata": {},
   "source": [
    "# 행렬의 곱을 구할 때는 dot 함수를 이용"
   ]
  },
  {
   "cell_type": "code",
   "execution_count": 70,
   "metadata": {
    "scrolled": true
   },
   "outputs": [
    {
     "name": "stdout",
     "output_type": "stream",
     "text": [
      "[[10  0]\n",
      " [64 12]]\n",
      "[[10  0]\n",
      " [64 12]]\n",
      "[[10 14]\n",
      " [64 68]]\n"
     ]
    }
   ],
   "source": [
    "print(a*b)\n",
    "print(np.multiply(a, b))\n",
    "print(np.dot(a, b))  # 행렬곱"
   ]
  },
  {
   "cell_type": "code",
   "execution_count": 71,
   "metadata": {
    "scrolled": true
   },
   "outputs": [
    {
     "name": "stdout",
     "output_type": "stream",
     "text": [
      "[[1 0 0 0]\n",
      " [0 2 0 0]\n",
      " [0 0 3 0]\n",
      " [0 0 0 4]]\n",
      "[[1 0 0 0]\n",
      " [0 2 0 0]\n",
      " [0 0 3 0]\n",
      " [0 0 0 4]]\n"
     ]
    }
   ],
   "source": [
    "print(np.diag(np.array([1, 2, 3, 4])))\n",
    "print(np.diag(1+np.arange(4)))\n",
    "# diag 함수는 주어진 배열 값을 이용하여 대각행렬을 만들어주는 함수"
   ]
  },
  {
   "cell_type": "code",
   "execution_count": 72,
   "metadata": {
    "scrolled": true
   },
   "outputs": [
    {
     "name": "stdout",
     "output_type": "stream",
     "text": [
      "[[ 0  1  2  3]\n",
      " [ 4  5  6  7]\n",
      " [ 8  9 10 11]\n",
      " [12 13 14 15]]\n",
      "30\n"
     ]
    }
   ],
   "source": [
    "x = np.arange(16).reshape(4, 4)\n",
    "print(x)\n",
    "print(np.trace(x))\n",
    "# trace는 이름 그대로 대각합을 구하는 함수"
   ]
  },
  {
   "cell_type": "code",
   "execution_count": 73,
   "metadata": {},
   "outputs": [
    {
     "name": "stdout",
     "output_type": "stream",
     "text": [
      "-2.0000000000000004\n"
     ]
    }
   ],
   "source": [
    "y = np.array([[1, 2], [3, 4]])\n",
    "print(np.linalg.det(y))\n",
    "# linalg.det 함수는 행렬식(determinant)을 구해주는 함수"
   ]
  },
  {
   "cell_type": "code",
   "execution_count": 74,
   "metadata": {},
   "outputs": [
    {
     "name": "stdout",
     "output_type": "stream",
     "text": [
      "[-10.    9.5]\n"
     ]
    }
   ],
   "source": [
    "a = np.array([[1, 2], [3, 4]])\n",
    "b = np.array([9, 8])\n",
    "x = np.linalg.solve(a, b)\n",
    "print(x)\n",
    "# linalg.solve 함수는 주어진 연립방정식을 해결해주는 함수입니다.\n",
    "# 위의 예를 들면 1x+3y=9, 2x+4y=8인 식에 대해서 x=-10, y=9.5를 답으로 출력"
   ]
  },
  {
   "cell_type": "code",
   "execution_count": 75,
   "metadata": {
    "scrolled": false
   },
   "outputs": [
    {
     "name": "stdout",
     "output_type": "stream",
     "text": [
      "[[1 2]\n",
      " [3 4]\n",
      " [6 5]]\n",
      "[[1 3 6]\n",
      " [2 4 5]]\n",
      "[[1 3 6]\n",
      " [2 4 5]]\n",
      "[[1 3 6]\n",
      " [2 4 5]]\n"
     ]
    }
   ],
   "source": [
    "a = np.array([[1, 2], [3, 4], [6, 5]])\n",
    "print(a)\n",
    "print(a.T)\n",
    "print(a.swapaxes(0,1))\n",
    "print(a.transpose(1,0))\n",
    "# T, swapaxes, transpose 함수는 축 순서를 바꿔주는 함수입니다\n",
    "# T는 전치행렬을 만드는 함수, swapaxes는 두 축을 서로 바꿔주는 함수, transpose는 지정된 축 순서대로 배열을 재배치 하는 함수"
   ]
  },
  {
   "cell_type": "markdown",
   "metadata": {},
   "source": [
    "## 정렬"
   ]
  },
  {
   "cell_type": "code",
   "execution_count": 76,
   "metadata": {
    "scrolled": false
   },
   "outputs": [
    {
     "name": "stdout",
     "output_type": "stream",
     "text": [
      "[7 6 7 7 2]\n",
      "정렬: [2 6 7 7 7]\n",
      "[[23 22 10]\n",
      " [ 0 29  2]\n",
      " [12 22  5]\n",
      " [ 7 14 26]]\n",
      "행정렬 [[ 0 14  2]\n",
      " [ 7 22  5]\n",
      " [12 22 10]\n",
      " [23 29 26]]\n",
      "열정렬 [[10 22 23]\n",
      " [ 0  2 29]\n",
      " [ 5 12 22]\n",
      " [ 7 14 26]]\n"
     ]
    }
   ],
   "source": [
    "a = np.random.randint(0, 10, 5)\n",
    "b = np.random.randint(0, 30, (4, 3))\n",
    "\n",
    "print(a)\n",
    "print('정렬:', np.sort(a))\n",
    "print(b)\n",
    "print('행정렬', np.sort(b, axis=0))\n",
    "print('열정렬', np.sort(b, axis=1)) "
   ]
  },
  {
   "cell_type": "markdown",
   "metadata": {},
   "source": [
    "## 중복제거"
   ]
  },
  {
   "cell_type": "code",
   "execution_count": 77,
   "metadata": {
    "scrolled": true
   },
   "outputs": [
    {
     "name": "stdout",
     "output_type": "stream",
     "text": [
      "[1 2 3]\n"
     ]
    }
   ],
   "source": [
    "a = np.array([1, 1, 3, 3, 2, 1, 2, 3, 1, 2, 3])\n",
    "print(np.unique(a))"
   ]
  },
  {
   "cell_type": "code",
   "execution_count": 78,
   "metadata": {
    "scrolled": true
   },
   "outputs": [
    {
     "name": "stdout",
     "output_type": "stream",
     "text": [
      "(3, 2)\n",
      "[[1 2]\n",
      " [3 4]\n",
      " [5 5]]\n",
      "(6,)\n",
      "[1 2 3 4 5 5]\n"
     ]
    }
   ],
   "source": [
    "x = np.array([[1, 2], [3, 4], [5, 5]])\n",
    "print(x.shape)\n",
    "print(x)\n",
    "\n",
    "x2 = x.flatten()   # 차원을 하나 줄여서 눌러준다고 하여 flatten 함수\n",
    "print(x2.shape)\n",
    "print(x2)"
   ]
  },
  {
   "cell_type": "code",
   "execution_count": 79,
   "metadata": {
    "scrolled": true
   },
   "outputs": [
    {
     "name": "stdout",
     "output_type": "stream",
     "text": [
      "교집합: [1 4]\n",
      "합집합: [1 2 3 4 5]\n",
      "앞의 배열의 원소가 뒤 배열의 원소에 포함되는 경우에 True: [ True False False  True  True]\n",
      "차집합: [3 5]\n",
      "대칭차집합(합집합-교집합): [2 3 5]\n"
     ]
    }
   ],
   "source": [
    "a = np.array([1, 5, 3, 4, 1])\n",
    "b = np.array([1, 2, 4, 4, 2])\n",
    "\n",
    "print('교집합:', np.intersect1d(a, b))\n",
    "print('합집합:', np.union1d(a, b))\n",
    "print('앞의 배열의 원소가 뒤 배열의 원소에 포함되는 경우에 True:', np.in1d(a, b))\n",
    "print('차집합:', np.setdiff1d(a, b))\n",
    "print('대칭차집합(합집합-교집합):', np.setxor1d(a, b))"
   ]
  },
  {
   "cell_type": "markdown",
   "metadata": {},
   "source": [
    "# 브로드캐스팅\n",
    "\n",
    "일반적으로 numpy의 배열은 크기가 다른 배열은 연산이 불가능합니다\n",
    "그러나 이를 가능하게 해주는 것이 브로드캐스팅입니다\n",
    "브로드캐스팅은 연산이 특정 조건이 만족할 경우에 배열의 크기를 자동으로 조절 및 변환하여 연산이 가능하도록 합니다\n",
    "브로드캐스팅은 특정 차원의 크기가 1일때만 가능하며, 차원에 대하여 축의 길이가 동일해야 합니다 "
   ]
  },
  {
   "cell_type": "code",
   "execution_count": 80,
   "metadata": {
    "scrolled": true
   },
   "outputs": [
    {
     "name": "stdout",
     "output_type": "stream",
     "text": [
      "[[ 0  1  2]\n",
      " [ 3  4  5]\n",
      " [ 6  7  8]\n",
      " [ 9 10 11]]\n",
      "[0 1 2]\n",
      "(4, 3)\n",
      "(3,)\n",
      "[[ 0  2  4]\n",
      " [ 3  5  7]\n",
      " [ 6  8 10]\n",
      " [ 9 11 13]]\n"
     ]
    }
   ],
   "source": [
    "a = np.arange(12).reshape((4, 3))\n",
    "b = np.arange(3)\n",
    "print(a)\n",
    "print(b)\n",
    "print(a.shape)\n",
    "print(b.shape)\n",
    "print(a+b)"
   ]
  },
  {
   "cell_type": "code",
   "execution_count": 81,
   "metadata": {},
   "outputs": [
    {
     "name": "stdout",
     "output_type": "stream",
     "text": [
      "[[ 0  1  2]\n",
      " [ 3  4  5]\n",
      " [ 6  7  8]\n",
      " [ 9 10 11]]\n",
      "[[0]\n",
      " [1]\n",
      " [2]\n",
      " [3]]\n",
      "[[ 0  1  2]\n",
      " [ 4  5  6]\n",
      " [ 8  9 10]\n",
      " [12 13 14]]\n"
     ]
    }
   ],
   "source": [
    "a = np.arange(12).reshape((4, 3))\n",
    "c = np.arange(4).reshape((4,1))\n",
    "print(a)\n",
    "print(c)\n",
    "print(a+c)"
   ]
  },
  {
   "cell_type": "code",
   "execution_count": 82,
   "metadata": {
    "scrolled": true
   },
   "outputs": [
    {
     "name": "stdout",
     "output_type": "stream",
     "text": [
      "hstack: [0 1 2 3 4 5]\n",
      "r_: [0 1 2 3 4 5]\n",
      "concatenate: [0 1 2 3 4 5]\n",
      "concatenate axis=1: [[ 0  1  2  6  7  8]\n",
      " [ 3  4  5  9 10 11]]\n"
     ]
    }
   ],
   "source": [
    "a = np.arange(3)\n",
    "b = np.arange(3)+3\n",
    "c = np.arange(6).reshape((2, 3))\n",
    "d = np.arange(6).reshape((2, 3))+6\n",
    "\n",
    "print('hstack:', np.hstack((a, b)))\n",
    "print('r_:', np.r_[a, b])\n",
    "print('concatenate:', np.concatenate((a, b)))\n",
    "print('concatenate axis=1:', np.concatenate((c, d), axis=1))\n",
    "# hstack 함수는 horizontal stack 함수로 두 배열을 가로 방향으로 즉, 왼쪽에서 오른쪽으로 붙이는 함수입니다\n",
    "# r_ 함수는 두 배열을 row 방향으로 붙이는 함수입니다\n",
    "# concatenate 함수는 두 배열을 붙이는 함수인데, 기본적으로 axis=0이며, axis를 추가하여 설정"
   ]
  },
  {
   "cell_type": "code",
   "execution_count": 83,
   "metadata": {
    "scrolled": true
   },
   "outputs": [
    {
     "name": "stdout",
     "output_type": "stream",
     "text": [
      "[[0 1 2]\n",
      " [3 4 5]]\n",
      "[[0 1 2]\n",
      " [3 4 5]]\n",
      "[[ 0  1  2]\n",
      " [ 3  4  5]\n",
      " [ 6  7  8]\n",
      " [ 9 10 11]]\n"
     ]
    }
   ],
   "source": [
    "print(np.vstack((a, b)))\n",
    "print(np.r_[[a], [b]])\n",
    "print(np.concatenate((c, d)))"
   ]
  },
  {
   "cell_type": "code",
   "execution_count": 84,
   "metadata": {
    "scrolled": true
   },
   "outputs": [
    {
     "name": "stdout",
     "output_type": "stream",
     "text": [
      "[0 1 2 3]\n",
      "(4,)\n",
      "[[0]\n",
      " [1]\n",
      " [2]\n",
      " [3]]\n",
      "(4, 1)\n",
      "[[0]\n",
      " [1]\n",
      " [2]\n",
      " [3]]\n"
     ]
    }
   ],
   "source": [
    "a = np.arange(4)\n",
    "print(a)\n",
    "print(a.shape)\n",
    "a2 = a[:, np.newaxis]\n",
    "print(a2)\n",
    "print(a2.shape)\n",
    "print(a.reshape((4,1)))"
   ]
  },
  {
   "cell_type": "code",
   "execution_count": 85,
   "metadata": {
    "scrolled": true
   },
   "outputs": [
    {
     "name": "stdout",
     "output_type": "stream",
     "text": [
      "[[0 1 2]\n",
      " [3 4 5]]\n",
      "(2, 3)\n",
      "[[[0]\n",
      "  [1]\n",
      "  [2]]\n",
      "\n",
      " [[3]\n",
      "  [4]\n",
      "  [5]]]\n",
      "(2, 3, 1)\n",
      "[[[0 1 2]]\n",
      "\n",
      " [[3 4 5]]]\n",
      "(2, 1, 3)\n"
     ]
    }
   ],
   "source": [
    "b = np.arange(6).reshape(2, 3)\n",
    "print(b)\n",
    "print(b.shape)\n",
    "\n",
    "b2 = b[:, :, np.newaxis]\n",
    "print(b2)\n",
    "print(b2.shape)\n",
    "\n",
    "b3 = b[:, np.newaxis, :]\n",
    "print(b3)\n",
    "print(b3.shape)"
   ]
  },
  {
   "cell_type": "code",
   "execution_count": 86,
   "metadata": {
    "scrolled": true
   },
   "outputs": [
    {
     "name": "stdout",
     "output_type": "stream",
     "text": [
      "[0 1 2]\n",
      "(3,)\n",
      "----------\n",
      "[0 1 2 0 1 2]\n",
      "(6,)\n",
      "----------\n",
      "[[0 1 2 0 1 2]\n",
      " [0 1 2 0 1 2]\n",
      " [0 1 2 0 1 2]]\n",
      "(3, 6)\n"
     ]
    }
   ],
   "source": [
    "c = np.arange(3)\n",
    "print(c)\n",
    "print(c.shape)\n",
    "print('-'*10)\n",
    "c2 = np.tile(c, 2)\n",
    "print(c2)\n",
    "print(c2.shape)\n",
    "print('-'*10)\n",
    "c3 = np.tile(c, (3, 2))\n",
    "print(c3)\n",
    "print(c3.shape)"
   ]
  },
  {
   "cell_type": "code",
   "execution_count": 87,
   "metadata": {
    "scrolled": true
   },
   "outputs": [
    {
     "name": "stdout",
     "output_type": "stream",
     "text": [
      "[[0 1 2]\n",
      " [3 4 5]]\n",
      "(2, 3)\n",
      "[[0 1 2 0 1 2]\n",
      " [3 4 5 3 4 5]\n",
      " [0 1 2 0 1 2]\n",
      " [3 4 5 3 4 5]]\n",
      "(4, 6)\n"
     ]
    }
   ],
   "source": [
    "d = np.arange(6).reshape((2, 3))\n",
    "print(d)\n",
    "print(d.shape)\n",
    "\n",
    "d2 = np.tile(d, (2, 2))\n",
    "print(d2)\n",
    "print(d2.shape)"
   ]
  },
  {
   "cell_type": "code",
   "execution_count": 88,
   "metadata": {
    "scrolled": true
   },
   "outputs": [
    {
     "name": "stdout",
     "output_type": "stream",
     "text": [
      "[[ 0  1  2  3]\n",
      " [ 4  5  6  7]\n",
      " [ 8  9 10 11]]\n",
      "[[ 0  1]\n",
      " [ 2  3]\n",
      " [ 4  5]\n",
      " [ 6  7]\n",
      " [ 8  9]\n",
      " [10 11]]\n",
      "[[ 0  1  2  3]\n",
      " [ 4  5  6  7]\n",
      " [ 8  9 10 11]]\n"
     ]
    },
    {
     "data": {
      "text/plain": [
       "'resize는 한 번 적용하면 계속 적용되지만, reshape 함수는 함수를 실행한 단 한 번만 적용'"
      ]
     },
     "execution_count": 88,
     "metadata": {},
     "output_type": "execute_result"
    }
   ],
   "source": [
    "e = np.arange(12).reshape((3, 4))\n",
    "print(e)\n",
    "\n",
    "e2 = e.copy()\n",
    "e2.resize(6, 2)\n",
    "print(e2)\n",
    "\n",
    "e3 = e.copy()\n",
    "e3.reshape(6, 2)\n",
    "print(e3)\n",
    "\"\"\"resize는 한 번 적용하면 계속 적용되지만, reshape 함수는 함수를 실행한 단 한 번만 적용\"\"\""
   ]
  },
  {
   "cell_type": "code",
   "execution_count": 89,
   "metadata": {
    "scrolled": true
   },
   "outputs": [
    {
     "name": "stdout",
     "output_type": "stream",
     "text": [
      "[ 0  1  2  3  4  5  6  7  8  9 10 11 12 13 14 15 16 17]\n",
      "[[ 0  1  2]\n",
      " [ 3  4  5]\n",
      " [ 6  7  8]\n",
      " [ 9 10 11]\n",
      " [12 13 14]\n",
      " [15 16 17]]\n",
      "[[ 0  1  2  9 10 11]\n",
      " [ 3  4  5 12 13 14]\n",
      " [ 6  7  8 15 16 17]]\n"
     ]
    }
   ],
   "source": [
    "x = np.arange(9).reshape(3, 3)\n",
    "y = np.arange(9).reshape(3, 3)+9\n",
    "\n",
    "print(np.append(x, y))\n",
    "print(np.append(x, y, axis=0))\n",
    "print(np.append(x, y, axis=1))\n",
    "# 1차원화 되는 것을 방지하기 위해서 axis를 지정하게 되는데 axis=0을 하게되면 axis 0축에, 1이면 1축에 더해줍"
   ]
  },
  {
   "cell_type": "code",
   "execution_count": 90,
   "metadata": {
    "scrolled": true
   },
   "outputs": [
    {
     "name": "stdout",
     "output_type": "stream",
     "text": [
      "[ 0  1  2  3  4  5  6  7  8  0  1  2  3  4  5  6  7  8  9 10 11]\n",
      "[[ 0  1  2]\n",
      " [ 3  4  5]\n",
      " [ 6  7  8]\n",
      " [ 0  1  2]\n",
      " [ 3  4  5]\n",
      " [ 6  7  8]\n",
      " [ 9 10 11]]\n"
     ]
    }
   ],
   "source": [
    "x = np.arange(9).reshape(3, 3)\n",
    "y = np.arange(12).reshape(4, 3)\n",
    "\n",
    "print(np.append(x, y))\n",
    "print(np.append(x, y, axis=0))\n",
    "# print(np.append(x, y, axis=1))"
   ]
  },
  {
   "cell_type": "code",
   "execution_count": 91,
   "metadata": {
    "scrolled": true
   },
   "outputs": [
    {
     "name": "stdout",
     "output_type": "stream",
     "text": [
      "[[0 1 2]\n",
      " [3 4 5]\n",
      " [6 7 8]]\n",
      "[ 0 10  1  2  3  4  5  6  7  8]\n",
      "[[ 0  1  2]\n",
      " [10 10 10]\n",
      " [ 3  4  5]\n",
      " [ 6  7  8]]\n",
      "[[ 0 10  1  2]\n",
      " [ 3 10  4  5]\n",
      " [ 6 10  7  8]]\n"
     ]
    }
   ],
   "source": [
    "x = np.arange(9).reshape(3, 3)\n",
    "\n",
    "print(x)\n",
    "print(np.insert(x, 1, 10))\n",
    "print(np.insert(x, 1, 10, axis=0))\n",
    "print(np.insert(x, 1, 10, axis=1))"
   ]
  },
  {
   "cell_type": "code",
   "execution_count": 92,
   "metadata": {
    "scrolled": true
   },
   "outputs": [
    {
     "name": "stdout",
     "output_type": "stream",
     "text": [
      "[[0 1 2]\n",
      " [3 4 5]\n",
      " [6 7 8]]\n",
      "[0 2 3 4 5 6 7 8]\n",
      "[[0 1 2]\n",
      " [6 7 8]]\n",
      "[[0 2]\n",
      " [3 5]\n",
      " [6 8]]\n"
     ]
    }
   ],
   "source": [
    "x = np.arange(9).reshape(3, 3)\n",
    "\n",
    "print(x)\n",
    "print(np.delete(x, 1))\n",
    "print(np.delete(x, 1, axis=0))\n",
    "print(np.delete(x, 1, axis=1))"
   ]
  },
  {
   "cell_type": "code",
   "execution_count": 93,
   "metadata": {
    "scrolled": true
   },
   "outputs": [
    {
     "name": "stdout",
     "output_type": "stream",
     "text": [
      "[[ 0  1  2  3  4  5]\n",
      " [ 6  7  8  9 10 11]\n",
      " [12 13 14 15 16 17]\n",
      " [18 19 20 21 22 23]] \n",
      "\n",
      "[array([[ 0,  1,  2],\n",
      "       [ 6,  7,  8],\n",
      "       [12, 13, 14],\n",
      "       [18, 19, 20]]), array([[ 3,  4,  5],\n",
      "       [ 9, 10, 11],\n",
      "       [15, 16, 17],\n",
      "       [21, 22, 23]])] \n",
      "\n",
      "[array([[ 0,  1],\n",
      "       [ 6,  7],\n",
      "       [12, 13],\n",
      "       [18, 19]]), array([[ 2,  3],\n",
      "       [ 8,  9],\n",
      "       [14, 15],\n",
      "       [20, 21]]), array([[ 4,  5],\n",
      "       [10, 11],\n",
      "       [16, 17],\n",
      "       [22, 23]])] \n",
      "\n",
      "[array([[ 0],\n",
      "       [ 6],\n",
      "       [12],\n",
      "       [18]]), array([[ 1,  2],\n",
      "       [ 7,  8],\n",
      "       [13, 14],\n",
      "       [19, 20]]), array([[ 3,  4],\n",
      "       [ 9, 10],\n",
      "       [15, 16],\n",
      "       [21, 22]]), array([[ 5],\n",
      "       [11],\n",
      "       [17],\n",
      "       [23]])]\n"
     ]
    }
   ],
   "source": [
    "x = np.arange(24).reshape(4, 6)\n",
    "\n",
    "print(x,'\\n') \n",
    "print(np.hsplit(x, 2),'\\n') \n",
    "print(np.hsplit(x, 3),'\\n') \n",
    "print(np.hsplit(x, [1, 3, 5]))"
   ]
  },
  {
   "cell_type": "code",
   "execution_count": 94,
   "metadata": {
    "scrolled": true
   },
   "outputs": [
    {
     "name": "stdout",
     "output_type": "stream",
     "text": [
      "[[ 0  1  2  3  4  5]\n",
      " [ 6  7  8  9 10 11]\n",
      " [12 13 14 15 16 17]\n",
      " [18 19 20 21 22 23]] \n",
      "\n",
      "[array([[ 0,  1,  2,  3,  4,  5],\n",
      "       [ 6,  7,  8,  9, 10, 11]]), array([[12, 13, 14, 15, 16, 17],\n",
      "       [18, 19, 20, 21, 22, 23]])] \n",
      "\n",
      "[array([[0, 1, 2, 3, 4, 5]]), array([[ 6,  7,  8,  9, 10, 11]]), array([[12, 13, 14, 15, 16, 17]]), array([[18, 19, 20, 21, 22, 23]])] \n",
      "\n",
      "[array([[0, 1, 2, 3, 4, 5]]), array([[ 6,  7,  8,  9, 10, 11],\n",
      "       [12, 13, 14, 15, 16, 17]]), array([[18, 19, 20, 21, 22, 23]])] \n",
      "\n"
     ]
    }
   ],
   "source": [
    "x = np.arange(24).reshape(4, 6)\n",
    "\n",
    "print(x,'\\n')\n",
    "print(np.vsplit(x, 2),'\\n')\n",
    "print(np.vsplit(x, 4),'\\n')\n",
    "print(np.vsplit(x, [1, 3]),'\\n')"
   ]
  },
  {
   "cell_type": "markdown",
   "metadata": {},
   "source": [
    "# 파일입출력"
   ]
  },
  {
   "cell_type": "code",
   "execution_count": 95,
   "metadata": {},
   "outputs": [
    {
     "name": "stdout",
     "output_type": "stream",
     "text": [
      "[1 2 3 4]\n"
     ]
    }
   ],
   "source": [
    "x = np.array([1, 2, 3, 4])\n",
    "np.save('./x_file',x)\n",
    "\"\"\"\n",
    "기본적으로 numpy 배열은 npy, npz, csv, txt, dat 형식을 제공합니다\n",
    "1개의 배열을 일반적인 방식으로 저장하면 npy로\n",
    "여러 개의 배열을 압축여부를 선택할 수 있는 npz 파일,\n",
    "그리고 csv, txt, dat 파일 등이 있습니다.\n",
    "\"\"\"\n",
    "x2 = np.load('./x_file.npy')\n",
    "print(x2)"
   ]
  },
  {
   "cell_type": "code",
   "execution_count": 96,
   "metadata": {
    "scrolled": true
   },
   "outputs": [
    {
     "name": "stdout",
     "output_type": "stream",
     "text": [
      "<numpy.lib.npyio.NpzFile object at 0x0000000005AFD850>\n",
      "[1 2 3 4]\n",
      "[2 4 6 8]\n"
     ]
    }
   ],
   "source": [
    "x = np.array([1, 2, 3, 4])\n",
    "y = np.array([2, 4, 6, 8])\n",
    "\n",
    "np.savez('./xy_file', x=x, y=y)  # 여러개 파일\n",
    "\n",
    "xy2 = np.load('./xy_file.npz')\n",
    "\n",
    "print(xy2)\n",
    "print(xy2['x'])\n",
    "print(xy2['y'])\n",
    "xy2.close()"
   ]
  },
  {
   "cell_type": "code",
   "execution_count": 97,
   "metadata": {},
   "outputs": [
    {
     "name": "stdout",
     "output_type": "stream",
     "text": [
      "<numpy.lib.npyio.NpzFile object at 0x0000000005B1A430>\n",
      "[1 2 3 4]\n",
      "[2 4 6 8]\n"
     ]
    }
   ],
   "source": [
    "x = np.array([1, 2, 3, 4])\n",
    "y = np.array([2, 4, 6, 8])\n",
    "\n",
    "np.savez_compressed('./xy_file_comp', x=x, y=y)  # 압축\n",
    "\n",
    "xyc = np.load('./xy_file_comp.npz')\n",
    "\n",
    "print(xyc)\n",
    "print(xyc['x'])\n",
    "print(xyc['y'])"
   ]
  },
  {
   "cell_type": "code",
   "execution_count": 98,
   "metadata": {},
   "outputs": [],
   "source": [
    "x = np.array([1, 2, 3, 4])\n",
    "y = np.array([2, 4, 6, 8])\n",
    "\n",
    "np.savetxt('./xy_file.csv', (x, y),\n",
    "          header='#START',\n",
    "          footer='#END',\n",
    "          fmt='%2.2f')\n",
    "np.savetxt('./xy_file.txt', (x, y),\n",
    "          header='#START',\n",
    "          footer='#END',\n",
    "          fmt='%2.2f')\n",
    "np.savetxt('./xy_file_del.txt', (x, y),\n",
    "          delimiter=',',\n",
    "          header='#START',\n",
    "          footer='#END',\n",
    "          fmt='%2.2f')\n",
    "np.savetxt('./xy_file.dat', (x, y),\n",
    "          header='#START',\n",
    "          footer='#END',\n",
    "          fmt='%2.2f')"
   ]
  },
  {
   "cell_type": "markdown",
   "metadata": {},
   "source": [
    "<pre>\n",
    "np.savetxt('./xy_file_del.txt', (x, y),\n",
    "          delimiter=',',\n",
    "          header='#START',\n",
    "          footer='#END',\n",
    "          fmt='%2.2f')\n",
    "맨 앞에는 파일 이름, 그 뒤에는 저장할 배열 튜플이 있습니다\n",
    "delimiter는 값 들간을 구분할 구분자를 의미합니다\n",
    "xy_file_del.txt의 경우에는 delimiter를 ,로 해주었기 때문에 값 사이사이에 쉼표가 있습니다\n",
    "그러나 다른 파일들의 경우에는 지정하지 않았기 때문에 띄어쓰기로 구분되어있습니다.\n",
    "header, footer는 전체 값의 맨 앞과 맨 뒤에 들어가는 문자열을 의미합니다\n",
    "fmt는 데이터가 저장될 포맷을 의미합니다\n",
    "%2.2f이기 때문에 소수점 두자리 소수로 저장된 것을 확인할 수 있습니다."
   ]
  }
 ],
 "metadata": {
  "kernelspec": {
   "display_name": "Python 3",
   "language": "python",
   "name": "python3"
  },
  "language_info": {
   "codemirror_mode": {
    "name": "ipython",
    "version": 3
   },
   "file_extension": ".py",
   "mimetype": "text/x-python",
   "name": "python",
   "nbconvert_exporter": "python",
   "pygments_lexer": "ipython3",
   "version": "3.8.5"
  }
 },
 "nbformat": 4,
 "nbformat_minor": 4
}
